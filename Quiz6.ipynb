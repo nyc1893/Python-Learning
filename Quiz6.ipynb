{
  "nbformat": 4,
  "nbformat_minor": 0,
  "metadata": {
    "colab": {
      "provenance": []
    },
    "kernelspec": {
      "name": "python3",
      "display_name": "Python 3"
    },
    "language_info": {
      "name": "python"
    }
  },
  "cells": [
    {
      "cell_type": "code",
      "execution_count": 1,
      "metadata": {
        "id": "Sp2ImuR7XVfA"
      },
      "outputs": [],
      "source": [
        "import pandas as pd"
      ]
    },
    {
      "cell_type": "code",
      "source": [
        "import matplotlib.pyplot as plt"
      ],
      "metadata": {
        "id": "H_zVZ93DRE3Q"
      },
      "execution_count": 2,
      "outputs": []
    },
    {
      "cell_type": "code",
      "source": [
        "import seaborn as sns"
      ],
      "metadata": {
        "id": "FUTVWSuJRFBf"
      },
      "execution_count": 3,
      "outputs": []
    },
    {
      "cell_type": "code",
      "source": [
        "df = pd.read_csv(\"sample_data/loan_sanction.csv\")"
      ],
      "metadata": {
        "id": "zdOpQNWjeDVY"
      },
      "execution_count": 5,
      "outputs": []
    },
    {
      "cell_type": "markdown",
      "source": [
        "# New Section"
      ],
      "metadata": {
        "id": "EU5ezaRJ4blT"
      }
    },
    {
      "cell_type": "code",
      "source": [
        "import numpy as np"
      ],
      "metadata": {
        "id": "NnjgPJyleDm5"
      },
      "execution_count": 4,
      "outputs": []
    },
    {
      "cell_type": "code",
      "source": [
        "print(df.head())"
      ],
      "metadata": {
        "colab": {
          "base_uri": "https://localhost:8080/"
        },
        "id": "RA6_gLgZeD2R",
        "outputId": "f8bcba8e-aa26-4e83-868d-3ba044366ae6"
      },
      "execution_count": 6,
      "outputs": [
        {
          "output_type": "stream",
          "name": "stdout",
          "text": [
            "    Loan_ID Gender Married Dependents     Education Self_Employed  \\\n",
            "0  LP001002   Male      No          0      Graduate            No   \n",
            "1  LP001003   Male     Yes          1      Graduate            No   \n",
            "2  LP001005   Male     Yes          0      Graduate           Yes   \n",
            "3  LP001006   Male     Yes          0  Not Graduate            No   \n",
            "4  LP001008   Male      No          0      Graduate            No   \n",
            "\n",
            "   ApplicantIncome  CoapplicantIncome  LoanAmount  Loan_Amount_Term  \\\n",
            "0             5849                0.0         NaN             360.0   \n",
            "1             4583             1508.0       128.0             360.0   \n",
            "2             3000                0.0        66.0             360.0   \n",
            "3             2583             2358.0       120.0             360.0   \n",
            "4             6000                0.0       141.0             360.0   \n",
            "\n",
            "   Credit_History Property_Area Loan_Status  \n",
            "0             1.0         Urban           Y  \n",
            "1             1.0         Rural           N  \n",
            "2             1.0         Urban           Y  \n",
            "3             1.0         Urban           Y  \n",
            "4             1.0         Urban           Y  \n"
          ]
        }
      ]
    },
    {
      "cell_type": "code",
      "source": [
        "print(df.tail())"
      ],
      "metadata": {
        "colab": {
          "base_uri": "https://localhost:8080/"
        },
        "id": "ZEqZuQ1IaarD",
        "outputId": "4219d4f6-846f-4262-8964-cd82d2c6ddc0"
      },
      "execution_count": 7,
      "outputs": [
        {
          "output_type": "stream",
          "name": "stdout",
          "text": [
            "      Loan_ID  Gender Married Dependents Education Self_Employed  \\\n",
            "609  LP002978  Female      No          0  Graduate            No   \n",
            "610  LP002979    Male     Yes         3+  Graduate            No   \n",
            "611  LP002983    Male     Yes          1  Graduate            No   \n",
            "612  LP002984    Male     Yes          2  Graduate            No   \n",
            "613  LP002990  Female      No          0  Graduate           Yes   \n",
            "\n",
            "     ApplicantIncome  CoapplicantIncome  LoanAmount  Loan_Amount_Term  \\\n",
            "609             2900                0.0        71.0             360.0   \n",
            "610             4106                0.0        40.0             180.0   \n",
            "611             8072              240.0       253.0             360.0   \n",
            "612             7583                0.0       187.0             360.0   \n",
            "613             4583                0.0       133.0             360.0   \n",
            "\n",
            "     Credit_History Property_Area Loan_Status  \n",
            "609             1.0         Rural           Y  \n",
            "610             1.0         Rural           Y  \n",
            "611             1.0         Urban           Y  \n",
            "612             1.0         Urban           Y  \n",
            "613             0.0     Semiurban           N  \n"
          ]
        }
      ]
    },
    {
      "cell_type": "code",
      "source": [
        "print(df)"
      ],
      "metadata": {
        "colab": {
          "base_uri": "https://localhost:8080/"
        },
        "id": "cef6Cy7jhDAV",
        "outputId": "58ce4917-8707-4a03-8b49-cc1fa87875c3"
      },
      "execution_count": 8,
      "outputs": [
        {
          "output_type": "stream",
          "name": "stdout",
          "text": [
            "      Loan_ID  Gender Married Dependents     Education Self_Employed  \\\n",
            "0    LP001002    Male      No          0      Graduate            No   \n",
            "1    LP001003    Male     Yes          1      Graduate            No   \n",
            "2    LP001005    Male     Yes          0      Graduate           Yes   \n",
            "3    LP001006    Male     Yes          0  Not Graduate            No   \n",
            "4    LP001008    Male      No          0      Graduate            No   \n",
            "..        ...     ...     ...        ...           ...           ...   \n",
            "609  LP002978  Female      No          0      Graduate            No   \n",
            "610  LP002979    Male     Yes         3+      Graduate            No   \n",
            "611  LP002983    Male     Yes          1      Graduate            No   \n",
            "612  LP002984    Male     Yes          2      Graduate            No   \n",
            "613  LP002990  Female      No          0      Graduate           Yes   \n",
            "\n",
            "     ApplicantIncome  CoapplicantIncome  LoanAmount  Loan_Amount_Term  \\\n",
            "0               5849                0.0         NaN             360.0   \n",
            "1               4583             1508.0       128.0             360.0   \n",
            "2               3000                0.0        66.0             360.0   \n",
            "3               2583             2358.0       120.0             360.0   \n",
            "4               6000                0.0       141.0             360.0   \n",
            "..               ...                ...         ...               ...   \n",
            "609             2900                0.0        71.0             360.0   \n",
            "610             4106                0.0        40.0             180.0   \n",
            "611             8072              240.0       253.0             360.0   \n",
            "612             7583                0.0       187.0             360.0   \n",
            "613             4583                0.0       133.0             360.0   \n",
            "\n",
            "     Credit_History Property_Area Loan_Status  \n",
            "0               1.0         Urban           Y  \n",
            "1               1.0         Rural           N  \n",
            "2               1.0         Urban           Y  \n",
            "3               1.0         Urban           Y  \n",
            "4               1.0         Urban           Y  \n",
            "..              ...           ...         ...  \n",
            "609             1.0         Rural           Y  \n",
            "610             1.0         Rural           Y  \n",
            "611             1.0         Urban           Y  \n",
            "612             1.0         Urban           Y  \n",
            "613             0.0     Semiurban           N  \n",
            "\n",
            "[614 rows x 13 columns]\n"
          ]
        }
      ]
    },
    {
      "cell_type": "code",
      "source": [
        "missing = np.where(df[\"LoanAmount\"].isnull()==True)"
      ],
      "metadata": {
        "id": "xGOa_f_o5LQ9"
      },
      "execution_count": null,
      "outputs": []
    },
    {
      "cell_type": "code",
      "source": [
        "missing"
      ],
      "metadata": {
        "colab": {
          "base_uri": "https://localhost:8080/"
        },
        "id": "fybvKrE6iKUC",
        "outputId": "6ef25740-2251-426d-9b2a-12381c5bfc78"
      },
      "execution_count": null,
      "outputs": [
        {
          "output_type": "execute_result",
          "data": {
            "text/plain": [
              "(array([  0,  35,  63,  81,  95, 102, 103, 113, 127, 202, 284, 305, 322,\n",
              "        338, 387, 435, 437, 479, 524, 550, 551, 605]),)"
            ]
          },
          "metadata": {},
          "execution_count": 10
        }
      ]
    },
    {
      "cell_type": "code",
      "source": [
        "missing = np.where(df[\"Loan_Amount_Term\"].isnull()==True)"
      ],
      "metadata": {
        "id": "L3K9P2c8ESza"
      },
      "execution_count": null,
      "outputs": []
    },
    {
      "cell_type": "code",
      "source": [
        "missing"
      ],
      "metadata": {
        "colab": {
          "base_uri": "https://localhost:8080/"
        },
        "id": "qLho76Q-9_Rm",
        "outputId": "2b2514a4-6736-4669-e744-51336b9b4709"
      },
      "execution_count": null,
      "outputs": [
        {
          "output_type": "execute_result",
          "data": {
            "text/plain": [
              "(array([ 19,  36,  44,  45,  73, 112, 165, 197, 223, 232, 335, 367, 421,\n",
              "        423]),)"
            ]
          },
          "metadata": {},
          "execution_count": 12
        }
      ]
    },
    {
      "cell_type": "code",
      "source": [
        "missing = np.where(df[\"Credit_History\"].isnull()==True)"
      ],
      "metadata": {
        "id": "p6bZTzRyEVLv"
      },
      "execution_count": null,
      "outputs": []
    },
    {
      "cell_type": "code",
      "source": [
        "missing"
      ],
      "metadata": {
        "colab": {
          "base_uri": "https://localhost:8080/"
        },
        "id": "j53E_QI7EWZ8",
        "outputId": "8656a674-acf2-4ffe-b59d-a83a55720752"
      },
      "execution_count": null,
      "outputs": [
        {
          "output_type": "execute_result",
          "data": {
            "text/plain": [
              "(array([ 16,  24,  30,  42,  79,  83,  86,  95, 117, 125, 129, 130, 156,\n",
              "        181, 187, 198, 219, 236, 237, 259, 260, 279, 309, 313, 317, 318,\n",
              "        323, 348, 363, 377, 392, 395, 411, 444, 449, 451, 460, 473, 490,\n",
              "        491, 497, 503, 506, 530, 533, 544, 556, 565, 583, 600]),)"
            ]
          },
          "metadata": {},
          "execution_count": 14
        }
      ]
    },
    {
      "cell_type": "code",
      "source": [
        "print(df.describe())"
      ],
      "metadata": {
        "colab": {
          "base_uri": "https://localhost:8080/"
        },
        "id": "CPxDcWVhr-ft",
        "outputId": "33071936-fe0d-4e4a-aa1e-a23c710d6a92"
      },
      "execution_count": null,
      "outputs": [
        {
          "output_type": "stream",
          "name": "stdout",
          "text": [
            "       ApplicantIncome  CoapplicantIncome  LoanAmount  Loan_Amount_Term  \\\n",
            "count       614.000000         614.000000  592.000000         600.00000   \n",
            "mean       5403.459283        1621.245798  146.412162         342.00000   \n",
            "std        6109.041673        2926.248369   85.587325          65.12041   \n",
            "min         150.000000           0.000000    9.000000          12.00000   \n",
            "25%        2877.500000           0.000000  100.000000         360.00000   \n",
            "50%        3812.500000        1188.500000  128.000000         360.00000   \n",
            "75%        5795.000000        2297.250000  168.000000         360.00000   \n",
            "max       81000.000000       41667.000000  700.000000         480.00000   \n",
            "\n",
            "       Credit_History  \n",
            "count      564.000000  \n",
            "mean         0.842199  \n",
            "std          0.364878  \n",
            "min          0.000000  \n",
            "25%          1.000000  \n",
            "50%          1.000000  \n",
            "75%          1.000000  \n",
            "max          1.000000  \n"
          ]
        }
      ]
    },
    {
      "cell_type": "code",
      "source": [
        "sns.heatmap(df.isnull())"
      ],
      "metadata": {
        "colab": {
          "base_uri": "https://localhost:8080/",
          "height": 375
        },
        "id": "vvAlLVvoiuF8",
        "outputId": "45df917b-4b5f-4d21-cace-0c6e3d5cadb1"
      },
      "execution_count": null,
      "outputs": [
        {
          "output_type": "execute_result",
          "data": {
            "text/plain": [
              "<AxesSubplot:>"
            ]
          },
          "metadata": {},
          "execution_count": 16
        },
        {
          "output_type": "display_data",
          "data": {
            "text/plain": [
              "<Figure size 432x288 with 2 Axes>"
            ],
            "image/png": "[encoded data removed]"
          },
          "metadata": {
            "needs_background": "light"
          }
        }
      ]
    },
    {
      "cell_type": "code",
      "source": [
        "df.hist(column = \"LoanAmount\", bins = 30)"
      ],
      "metadata": {
        "colab": {
          "base_uri": "https://localhost:8080/",
          "height": 299
        },
        "id": "oVbzd_q-_YDa",
        "outputId": "b9a31b2d-c709-48bc-a584-d8bd1d0c7778"
      },
      "execution_count": null,
      "outputs": [
        {
          "output_type": "execute_result",
          "data": {
            "text/plain": [
              "array([[<AxesSubplot:title={'center':'LoanAmount'}>]], dtype=object)"
            ]
          },
          "metadata": {},
          "execution_count": 17
        },
        {
          "output_type": "display_data",
          "data": {
            "text/plain": [
              "<Figure size 432x288 with 1 Axes>"
            ],
            "image/png": "[encoded data removed]"
          },
          "metadata": {
            "needs_background": "light"
          }
        }
      ]
    },
    {
      "cell_type": "code",
      "source": [
        "new_LoanAmount = np.where(df[\"LoanAmount\"].isnull(), 128, df[\"LoanAmount\"])"
      ],
      "metadata": {
        "id": "l4KceHZZBssQ"
      },
      "execution_count": null,
      "outputs": []
    },
    {
      "cell_type": "code",
      "source": [
        "df[\"LoanAmount\"] = new_LoanAmount"
      ],
      "metadata": {
        "id": "-pb9bN00Bsvx"
      },
      "execution_count": null,
      "outputs": []
    },
    {
      "cell_type": "code",
      "source": [
        "sns.heatmap(df.isnull())"
      ],
      "metadata": {
        "colab": {
          "base_uri": "https://localhost:8080/",
          "height": 375
        },
        "id": "ioKBrchEDLmj",
        "outputId": "33a62099-7aeb-486c-a805-529fa6d3cd61"
      },
      "execution_count": null,
      "outputs": [
        {
          "output_type": "execute_result",
          "data": {
            "text/plain": [
              "<AxesSubplot:>"
            ]
          },
          "metadata": {},
          "execution_count": 20
        },
        {
          "output_type": "display_data",
          "data": {
            "text/plain": [
              "<Figure size 432x288 with 2 Axes>"
            ],
            "image/png": "[encoded data removed]"
          },
          "metadata": {
            "needs_background": "light"
          }
        }
      ]
    },
    {
      "cell_type": "code",
      "source": [
        "df.hist(column = \"LoanAmount\", bins = 30)"
      ],
      "metadata": {
        "id": "4ktSE5kzDLxX",
        "colab": {
          "base_uri": "https://localhost:8080/",
          "height": 299
        },
        "outputId": "55c9ca69-a0ff-4f8f-cfbf-66b71b57a85c"
      },
      "execution_count": null,
      "outputs": [
        {
          "output_type": "execute_result",
          "data": {
            "text/plain": [
              "array([[<AxesSubplot:title={'center':'LoanAmount'}>]], dtype=object)"
            ]
          },
          "metadata": {},
          "execution_count": 21
        },
        {
          "output_type": "display_data",
          "data": {
            "text/plain": [
              "<Figure size 432x288 with 1 Axes>"
            ],
            "image/png": "[encoded data removed]"
          },
          "metadata": {
            "needs_background": "light"
          }
        }
      ]
    },
    {
      "cell_type": "code",
      "source": [
        "df.hist(column = \"Loan_Amount_Term\", bins = 30)"
      ],
      "metadata": {
        "colab": {
          "base_uri": "https://localhost:8080/",
          "height": 299
        },
        "id": "4pQSOjf2FuGD",
        "outputId": "960d3749-a23d-47ce-e2d1-cb0319ac8865"
      },
      "execution_count": null,
      "outputs": [
        {
          "output_type": "execute_result",
          "data": {
            "text/plain": [
              "array([[<AxesSubplot:title={'center':'Loan_Amount_Term'}>]], dtype=object)"
            ]
          },
          "metadata": {},
          "execution_count": 22
        },
        {
          "output_type": "display_data",
          "data": {
            "text/plain": [
              "<Figure size 432x288 with 1 Axes>"
            ],
            "image/png": "[encoded data removed]"
          },
          "metadata": {
            "needs_background": "light"
          }
        }
      ]
    },
    {
      "cell_type": "code",
      "source": [
        "new_Loan_Amount_Term = np.where(df[\"Loan_Amount_Term\"].isnull(), 128, df[\"Loan_Amount_Term\"])"
      ],
      "metadata": {
        "id": "XZNCuG2VDL8d"
      },
      "execution_count": null,
      "outputs": []
    },
    {
      "cell_type": "code",
      "source": [
        "df[\"Loan_Amount_Term\"] = new_Loan_Amount_Term"
      ],
      "metadata": {
        "id": "sCCljEiWDMFy"
      },
      "execution_count": null,
      "outputs": []
    },
    {
      "cell_type": "code",
      "source": [
        "sns.heatmap(df.isnull())"
      ],
      "metadata": {
        "id": "APHS50Z0DMRV",
        "colab": {
          "base_uri": "https://localhost:8080/",
          "height": 375
        },
        "outputId": "3aa05bae-f155-4493-c87f-cee2b2d5d9e9"
      },
      "execution_count": null,
      "outputs": [
        {
          "output_type": "execute_result",
          "data": {
            "text/plain": [
              "<AxesSubplot:>"
            ]
          },
          "metadata": {},
          "execution_count": 25
        },
        {
          "output_type": "display_data",
          "data": {
            "text/plain": [
              "<Figure size 432x288 with 2 Axes>"
            ],
            "image/png": "[encoded data removed]"
          },
          "metadata": {
            "needs_background": "light"
          }
        }
      ]
    },
    {
      "cell_type": "code",
      "source": [
        "df.hist(column = \"Loan_Amount_Term\", bins = 30)"
      ],
      "metadata": {
        "colab": {
          "base_uri": "https://localhost:8080/",
          "height": 299
        },
        "id": "85oDED3gF3cd",
        "outputId": "88f7744e-51be-43f4-8fcd-4b54f012f4d6"
      },
      "execution_count": null,
      "outputs": [
        {
          "output_type": "execute_result",
          "data": {
            "text/plain": [
              "array([[<AxesSubplot:title={'center':'Loan_Amount_Term'}>]], dtype=object)"
            ]
          },
          "metadata": {},
          "execution_count": 26
        },
        {
          "output_type": "display_data",
          "data": {
            "text/plain": [
              "<Figure size 432x288 with 1 Axes>"
            ],
            "image/png": "[encoded data removed]"
          },
          "metadata": {
            "needs_background": "light"
          }
        }
      ]
    },
    {
      "cell_type": "code",
      "source": [
        "df.hist(column = \"Credit_History\", bins = 5)"
      ],
      "metadata": {
        "id": "NGDMA08jDMc7",
        "colab": {
          "base_uri": "https://localhost:8080/",
          "height": 299
        },
        "outputId": "7bf25425-ff86-41d3-e0b4-3686bd2b4339"
      },
      "execution_count": null,
      "outputs": [
        {
          "output_type": "execute_result",
          "data": {
            "text/plain": [
              "array([[<AxesSubplot:title={'center':'Credit_History'}>]], dtype=object)"
            ]
          },
          "metadata": {},
          "execution_count": 27
        },
        {
          "output_type": "display_data",
          "data": {
            "text/plain": [
              "<Figure size 432x288 with 1 Axes>"
            ],
            "image/png": "[encoded data removed]"
          },
          "metadata": {
            "needs_background": "light"
          }
        }
      ]
    },
    {
      "cell_type": "code",
      "source": [
        "new_Credit_History = np.where(df[\"Credit_History\"].isnull(), 128, df[\"Credit_History\"])"
      ],
      "metadata": {
        "id": "zOGUDacmDMo9"
      },
      "execution_count": null,
      "outputs": []
    },
    {
      "cell_type": "code",
      "source": [
        "df[\"Credit_History\"] = new_Credit_History"
      ],
      "metadata": {
        "id": "TI8WWBOqBs1q"
      },
      "execution_count": null,
      "outputs": []
    },
    {
      "cell_type": "code",
      "source": [
        "sns.heatmap(df.isnull())"
      ],
      "metadata": {
        "id": "8ttpCGKNBs8c",
        "colab": {
          "base_uri": "https://localhost:8080/",
          "height": 375
        },
        "outputId": "05de335b-71eb-4a19-c0fc-0e6ae6ac438e"
      },
      "execution_count": null,
      "outputs": [
        {
          "output_type": "execute_result",
          "data": {
            "text/plain": [
              "<AxesSubplot:>"
            ]
          },
          "metadata": {},
          "execution_count": 30
        },
        {
          "output_type": "display_data",
          "data": {
            "text/plain": [
              "<Figure size 432x288 with 2 Axes>"
            ],
            "image/png": "[encoded data removed]"
          },
          "metadata": {
            "needs_background": "light"
          }
        }
      ]
    },
    {
      "cell_type": "code",
      "source": [
        "df.hist(column = \"Credit_History\", bins = 5)"
      ],
      "metadata": {
        "colab": {
          "base_uri": "https://localhost:8080/",
          "height": 299
        },
        "id": "OGEtgEs1D00v",
        "outputId": "e061383b-2034-4d70-8ce6-f9ee902faa3e"
      },
      "execution_count": null,
      "outputs": [
        {
          "output_type": "execute_result",
          "data": {
            "text/plain": [
              "array([[<AxesSubplot:title={'center':'Credit_History'}>]], dtype=object)"
            ]
          },
          "metadata": {},
          "execution_count": 31
        },
        {
          "output_type": "display_data",
          "data": {
            "text/plain": [
              "<Figure size 432x288 with 1 Axes>"
            ],
            "image/png": "[encoded data removed]"
          },
          "metadata": {
            "needs_background": "light"
          }
        }
      ]
    },
    {
      "cell_type": "code",
      "source": [
        "print(df.duplicated())"
      ],
      "metadata": {
        "colab": {
          "base_uri": "https://localhost:8080/"
        },
        "id": "h-r9XQRwD09p",
        "outputId": "2fcdfa57-14fb-4aff-b7a8-f9e49ef6a1f3"
      },
      "execution_count": null,
      "outputs": [
        {
          "output_type": "stream",
          "name": "stdout",
          "text": [
            "0      False\n",
            "1      False\n",
            "2      False\n",
            "3      False\n",
            "4      False\n",
            "       ...  \n",
            "609    False\n",
            "610    False\n",
            "611    False\n",
            "612    False\n",
            "613    False\n",
            "Length: 614, dtype: bool\n"
          ]
        }
      ]
    },
    {
      "cell_type": "code",
      "source": [
        "print(df.duplicated().sum())"
      ],
      "metadata": {
        "colab": {
          "base_uri": "https://localhost:8080/"
        },
        "id": "22HS4Q1VD1DP",
        "outputId": "ca31ec9a-caa0-4792-a2dc-6867f9da1b09"
      },
      "execution_count": null,
      "outputs": [
        {
          "output_type": "stream",
          "name": "stdout",
          "text": [
            "0\n"
          ]
        }
      ]
    },
    {
      "cell_type": "code",
      "source": [
        "print(df.isnull().sum())"
      ],
      "metadata": {
        "colab": {
          "base_uri": "https://localhost:8080/"
        },
        "id": "3uffoVqlD1Gl",
        "outputId": "25d986b8-8546-4a01-dc31-b95b210f7626"
      },
      "execution_count": 14,
      "outputs": [
        {
          "output_type": "stream",
          "name": "stdout",
          "text": [
            "Loan_ID              0\n",
            "Gender               0\n",
            "Married              0\n",
            "Dependents           0\n",
            "Education            0\n",
            "Self_Employed        0\n",
            "ApplicantIncome      0\n",
            "CoapplicantIncome    0\n",
            "LoanAmount           0\n",
            "Loan_Amount_Term     0\n",
            "Credit_History       0\n",
            "Property_Area        0\n",
            "Loan_Status          0\n",
            "dtype: int64\n"
          ]
        }
      ]
    },
    {
      "cell_type": "code",
      "source": [
        "df = df.fillna(\"Others\")"
      ],
      "metadata": {
        "id": "Xj9EsjtwD1K4"
      },
      "execution_count": 10,
      "outputs": []
    },
    {
      "cell_type": "code",
      "source": [
        "print(df.isnull().sum())"
      ],
      "metadata": {
        "colab": {
          "base_uri": "https://localhost:8080/"
        },
        "id": "3TuO4S81D1PJ",
        "outputId": "10a86b65-4ade-49ef-c4dc-64f4fbcbc45c"
      },
      "execution_count": 11,
      "outputs": [
        {
          "output_type": "stream",
          "name": "stdout",
          "text": [
            "Loan_ID              0\n",
            "Gender               0\n",
            "Married              0\n",
            "Dependents           0\n",
            "Education            0\n",
            "Self_Employed        0\n",
            "ApplicantIncome      0\n",
            "CoapplicantIncome    0\n",
            "LoanAmount           0\n",
            "Loan_Amount_Term     0\n",
            "Credit_History       0\n",
            "Property_Area        0\n",
            "Loan_Status          0\n",
            "dtype: int64\n"
          ]
        }
      ]
    },
    {
      "cell_type": "code",
      "source": [
        "print(df[\"Loan_Status\"].nunique())"
      ],
      "metadata": {
        "colab": {
          "base_uri": "https://localhost:8080/"
        },
        "id": "Cc_mPEPID1V8",
        "outputId": "fcfd6bfc-2b89-442c-c930-66e0a791b75f"
      },
      "execution_count": 12,
      "outputs": [
        {
          "output_type": "stream",
          "name": "stdout",
          "text": [
            "2\n"
          ]
        }
      ]
    },
    {
      "cell_type": "code",
      "source": [
        "plt.figure(figsize = (6, 5))\n",
        "sns.heatmap(df.corr())"
      ],
      "metadata": {
        "colab": {
          "base_uri": "https://localhost:8080/",
          "height": 503
        },
        "id": "HQYeAoL4L6kQ",
        "outputId": "4bb4acb5-3b95-4581-bed5-bb87a8626b24"
      },
      "execution_count": 13,
      "outputs": [
        {
          "output_type": "stream",
          "name": "stderr",
          "text": [
            "<ipython-input-13-d8e505620ac4>:2: FutureWarning: The default value of numeric_only in DataFrame.corr is deprecated. In a future version, it will default to False. Select only valid columns or specify the value of numeric_only to silence this warning.\n",
            "  sns.heatmap(df.corr())\n"
          ]
        },
        {
          "output_type": "execute_result",
          "data": {
            "text/plain": [
              "<Axes: >"
            ]
          },
          "metadata": {},
          "execution_count": 13
        },
        {
          "output_type": "display_data",
          "data": {
            "text/plain": [
              "<Figure size 600x500 with 2 Axes>"
            ],
            "image/png": "[encoded data removed]"
          },
          "metadata": {}
        }
      ]
    },
    {
      "cell_type": "code",
      "source": [
        "plt.figure(figsize = (10, 10))\n",
        "sns.barplot(x = \"ApplicantIncome\", y = \"Loan_Status\", data = df, palette = \"Spectral\")\n",
        "plt.title(\"Loan_Status Vs ApplicantIncome\", fontsize = 30)\n",
        "plt.xlabel(\"ApplicantIncome\", fontsize = 20)\n",
        "plt.ylabel(\"Loan_Status\", fontsize = 20)\n",
        "plt.xticks(rotation = \"vertical\")"
      ],
      "metadata": {
        "id": "FaEY1DruL6nH",
        "colab": {
          "base_uri": "https://localhost:8080/",
          "height": 821
        },
        "outputId": "4e2abc90-6524-40c7-f024-8e554110f42a"
      },
      "execution_count": null,
      "outputs": [
        {
          "output_type": "execute_result",
          "data": {
            "text/plain": [
              "(array([   0., 1000., 2000., 3000., 4000., 5000., 6000., 7000.]),\n",
              " [Text(0, 0, ''),\n",
              "  Text(0, 0, ''),\n",
              "  Text(0, 0, ''),\n",
              "  Text(0, 0, ''),\n",
              "  Text(0, 0, ''),\n",
              "  Text(0, 0, ''),\n",
              "  Text(0, 0, ''),\n",
              "  Text(0, 0, '')])"
            ]
          },
          "metadata": {},
          "execution_count": 39
        },
        {
          "output_type": "display_data",
          "data": {
            "text/plain": [
              "<Figure size 720x720 with 1 Axes>"
            ],
            "image/png": "[encoded data removed]"
          },
          "metadata": {
            "needs_background": "light"
          }
        }
      ]
    },
    {
      "cell_type": "code",
      "source": [
        "plt.figure(figsize = (15, 15))\n",
        "sns.scatterplot(x = \"ApplicantIncome\", y = \"Loan_Status\", hue = \"Gender\", data = df)\n",
        "plt.title(\"Applicant Income By Gender\", fontsize = 30)\n",
        "plt.xlabel(\"ApplicantIncome\", fontsize = 20)\n",
        "plt.ylabel(\"Loan_Status\", fontsize = 20)"
      ],
      "metadata": {
        "id": "e_JLueQ4L6qk",
        "colab": {
          "base_uri": "https://localhost:8080/",
          "height": 1000
        },
        "outputId": "a07015a5-aed4-435a-9bb7-a0d1af2d701c"
      },
      "execution_count": 18,
      "outputs": [
        {
          "output_type": "execute_result",
          "data": {
            "text/plain": [
              "Text(0, 0.5, 'Loan_Status')"
            ]
          },
          "metadata": {},
          "execution_count": 18
        },
        {
          "output_type": "display_data",
          "data": {
            "text/plain": [
              "<Figure size 1500x1500 with 1 Axes>"
            ],
            "image/png": "[encoded data removed]"
          },
          "metadata": {}
        }
      ]
    },
    {
      "cell_type": "code",
      "source": [
        "from sklearn.metrics import confusion_matrix, classification_report, accuracy_score\n",
        "import warnings\n",
        "warnings.filterwarnings('ignore')"
      ],
      "metadata": {
        "id": "TAq1cRLO7_oP"
      },
      "execution_count": 20,
      "outputs": []
    },
    {
      "cell_type": "code",
      "source": [
        "# Naive_Bayes Classifier  \n",
        "def naive_bayes_classifier(train_x, train_y):\n",
        "    from sklearn.naive_bayes import MultinomialNB\n",
        "    model = MultinomialNB(alpha=0.01)\n",
        "    model.fit(train_x, train_y)\n",
        "    return model\n",
        "    \n",
        "# Decision Tree Classifier  \n",
        "def decision_tree_classifier(train_x, train_y):  \n",
        "    from sklearn import tree  \n",
        "    model = tree.DecisionTreeClassifier()  \n",
        "    model.fit(train_x, train_y)  \n",
        "    return model  \n",
        "  \n",
        "# KNN Classifier  \n",
        "def knn_classifier(train_x, train_y):  \n",
        "    from sklearn.neighbors import KNeighborsClassifier  \n",
        "    model = KNeighborsClassifier()  \n",
        "    model.fit(train_x, train_y)  \n",
        "    return model  \n",
        "  \n",
        "  \n",
        "# Logistic Regression Classifier  \n",
        "def logistic_regression_classifier(train_x, train_y):  \n",
        "    from sklearn.linear_model import LogisticRegression  \n",
        "    model = LogisticRegression(penalty='l2')  \n",
        "    model.fit(train_x, train_y)  \n",
        "    return model  \n",
        "\n",
        "def gradient_boosting_classifier(train_x, train_y):  \n",
        "    from sklearn.ensemble import GradientBoostingClassifier  \n",
        "    model = GradientBoostingClassifier()\n",
        "    # model = GradientBoostingClassifier(learning_rate=0.01, n_estimators=1500,max_depth=7, min_samples_split=2, min_samples_leaf=1, subsample=1,max_features='sqrt', random_state=10) \n",
        "    model.fit(train_x, train_y)  \n",
        "    return model  \n",
        "  \n",
        "# SVM Classifier  \n",
        "def svm_classifier(train_x, train_y):  \n",
        "    from sklearn.svm import SVC  \n",
        "    model = SVC(kernel='rbf', probability=True)  \n",
        "    model.fit(train_x, train_y)  \n",
        "    return model  \n",
        "  \n",
        "# Random Forest Classifier  \n",
        "def random_forest_classifier(train_x, train_y):  \n",
        "    from sklearn.ensemble import RandomForestClassifier  \n",
        "    model = RandomForestClassifier(n_estimators=100)  \n",
        "    model.fit(train_x, train_y)  \n",
        "    return model  "
      ],
      "metadata": {
        "id": "_2ynHPV2vdAj"
      },
      "execution_count": 21,
      "outputs": []
    },
    {
      "cell_type": "code",
      "source": [
        "df = df.drop(['Loan_ID', 'Gender', 'Married', 'Dependents', 'Education', 'Self_Employed', 'Property_Area'], axis = 1)\n",
        "df.dropna(inplace = True)\n",
        "from sklearn.preprocessing import LabelEncoder\n",
        "le = LabelEncoder()\n",
        "Loan_Statue_encoder = le.fit_transform(df.Loan_Status)\n",
        "Loan_Statue_encoder\n",
        "df.Loan_Status = Loan_Statue_encoder"
      ],
      "metadata": {
        "id": "jSwrC24bL65w"
      },
      "execution_count": null,
      "outputs": []
    },
    {
      "cell_type": "code",
      "source": [
        "def get_data():\n",
        "    df = pd.read_csv(\"sample_data/loan_sanction.csv\")\n",
        "    print(df.info())\n",
        "  \n",
        "\n",
        "\n",
        "    \n",
        "    print(df.shape)\n",
        "    df = df.drop(['Loan_ID', 'Gender', 'Married', 'Dependents', 'Education', 'Self_Employed', 'Property_Area'], axis = 1)\n",
        "    df.dropna(inplace = True)\n",
        "    from sklearn.preprocessing import LabelEncoder\n",
        "    le = LabelEncoder()\n",
        "    Loan_Statue_encoder = le.fit_transform(df.Loan_Status)\n",
        "    Loan_Statue_encoder\n",
        "    df.Loan_Status = Loan_Statue_encoder\n",
        "        \n",
        "    \n",
        "    print(df.describe().T)\n",
        "   \n",
        "\n",
        "    #spliting data for input and output\n",
        "    x=df.iloc[:,:-1]\n",
        "    y=df.iloc[:,-1]\n",
        "    \n",
        "\n",
        "    # from sklearn.model_selection import train_test_split\n",
        "    # x_train,x_test,y_train,y_test=train_test_split(x,y,test_size=0.20,random_state=42)\n",
        "    if(x.shape[0]==y.shape[0]):\n",
        "        a = round (x.shape[0]*0.8)\n",
        "        x_train = x.iloc[0:a] \n",
        "        x_test = x.iloc[a:] \n",
        "        y_train = y[0:a] \n",
        "        y_test = y[a:] \n",
        "        \n",
        "        print(x_train.shape)\n",
        "        print(x_test.shape)\n",
        "        print(y_train.shape)\n",
        "        print(y_test.shape) \n",
        "        print(x_train.info()) \n",
        "        print(y_train.info())   \n",
        "    else:\n",
        "        print(\"The length of x and y are not the same!\")\n",
        "    \n",
        "  \n",
        "    # from sklearn.preprocessing import MinMaxScaler\n",
        "    # scaler = MinMaxScaler()\n",
        "    # scaler.fit(x_train)\n",
        "    # x_train = scaler.fit_transform(x_train)\n",
        "    # x_test = scaler.fit_transform(x_test)\n",
        "    return x_train,x_test,y_train,y_test"
      ],
      "metadata": {
        "id": "NJdxJrekxNEJ"
      },
      "execution_count": 22,
      "outputs": []
    },
    {
      "cell_type": "code",
      "source": [
        "x_train,x_test,y_train,y_test = get_data()"
      ],
      "metadata": {
        "colab": {
          "base_uri": "https://localhost:8080/"
        },
        "id": "KBLoY1k0yEMl",
        "outputId": "660030b0-9081-41b4-8b80-bf33a7bef22d"
      },
      "execution_count": 23,
      "outputs": [
        {
          "output_type": "stream",
          "name": "stdout",
          "text": [
            "<class 'pandas.core.frame.DataFrame'>\n",
            "RangeIndex: 614 entries, 0 to 613\n",
            "Data columns (total 13 columns):\n",
            " #   Column             Non-Null Count  Dtype  \n",
            "---  ------             --------------  -----  \n",
            " 0   Loan_ID            614 non-null    object \n",
            " 1   Gender             601 non-null    object \n",
            " 2   Married            611 non-null    object \n",
            " 3   Dependents         599 non-null    object \n",
            " 4   Education          614 non-null    object \n",
            " 5   Self_Employed      582 non-null    object \n",
            " 6   ApplicantIncome    614 non-null    int64  \n",
            " 7   CoapplicantIncome  614 non-null    float64\n",
            " 8   LoanAmount         592 non-null    float64\n",
            " 9   Loan_Amount_Term   600 non-null    float64\n",
            " 10  Credit_History     564 non-null    float64\n",
            " 11  Property_Area      614 non-null    object \n",
            " 12  Loan_Status        614 non-null    object \n",
            "dtypes: float64(4), int64(1), object(8)\n",
            "memory usage: 62.5+ KB\n",
            "None\n",
            "(614, 13)\n",
            "                   count         mean          std    min     25%     50%  \\\n",
            "ApplicantIncome    529.0  5507.822306  6404.132369  150.0  2900.0  3816.0   \n",
            "CoapplicantIncome  529.0  1542.394934  2524.295797    0.0     0.0  1086.0   \n",
            "LoanAmount         529.0   145.852552    84.108409    9.0   100.0   128.0   \n",
            "Loan_Amount_Term   529.0   342.351607    64.861662   36.0   360.0   360.0   \n",
            "Credit_History     529.0     0.850662     0.356759    0.0     1.0     1.0   \n",
            "Loan_Status        529.0     0.691871     0.462157    0.0     0.0     1.0   \n",
            "\n",
            "                      75%      max  \n",
            "ApplicantIncome    5815.0  81000.0  \n",
            "CoapplicantIncome  2232.0  33837.0  \n",
            "LoanAmount          167.0    700.0  \n",
            "Loan_Amount_Term    360.0    480.0  \n",
            "Credit_History        1.0      1.0  \n",
            "Loan_Status           1.0      1.0  \n",
            "(423, 5)\n",
            "(106, 5)\n",
            "(423,)\n",
            "(106,)\n",
            "<class 'pandas.core.frame.DataFrame'>\n",
            "Int64Index: 423 entries, 1 to 493\n",
            "Data columns (total 5 columns):\n",
            " #   Column             Non-Null Count  Dtype  \n",
            "---  ------             --------------  -----  \n",
            " 0   ApplicantIncome    423 non-null    int64  \n",
            " 1   CoapplicantIncome  423 non-null    float64\n",
            " 2   LoanAmount         423 non-null    float64\n",
            " 3   Loan_Amount_Term   423 non-null    float64\n",
            " 4   Credit_History     423 non-null    float64\n",
            "dtypes: float64(4), int64(1)\n",
            "memory usage: 19.8 KB\n",
            "None\n",
            "<class 'pandas.core.series.Series'>\n",
            "Int64Index: 423 entries, 1 to 493\n",
            "Series name: Loan_Status\n",
            "Non-Null Count  Dtype\n",
            "--------------  -----\n",
            "423 non-null    int64\n",
            "dtypes: int64(1)\n",
            "memory usage: 6.6 KB\n",
            "None\n"
          ]
        }
      ]
    },
    {
      "cell_type": "code",
      "source": [
        "x_train[:20]"
      ],
      "metadata": {
        "id": "1HiyiSPei4D6",
        "colab": {
          "base_uri": "https://localhost:8080/",
          "height": 677
        },
        "outputId": "2a9a8eba-3fa3-4639-d708-6115095d5571"
      },
      "execution_count": 24,
      "outputs": [
        {
          "output_type": "execute_result",
          "data": {
            "text/plain": [
              "    ApplicantIncome  CoapplicantIncome  LoanAmount  Loan_Amount_Term  \\\n",
              "1              4583             1508.0       128.0             360.0   \n",
              "2              3000                0.0        66.0             360.0   \n",
              "3              2583             2358.0       120.0             360.0   \n",
              "4              6000                0.0       141.0             360.0   \n",
              "5              5417             4196.0       267.0             360.0   \n",
              "6              2333             1516.0        95.0             360.0   \n",
              "7              3036             2504.0       158.0             360.0   \n",
              "8              4006             1526.0       168.0             360.0   \n",
              "9             12841            10968.0       349.0             360.0   \n",
              "10             3200              700.0        70.0             360.0   \n",
              "11             2500             1840.0       109.0             360.0   \n",
              "12             3073             8106.0       200.0             360.0   \n",
              "13             1853             2840.0       114.0             360.0   \n",
              "14             1299             1086.0        17.0             120.0   \n",
              "15             4950                0.0       125.0             360.0   \n",
              "17             3510                0.0        76.0             360.0   \n",
              "18             4887                0.0       133.0             360.0   \n",
              "20             7660                0.0       104.0             360.0   \n",
              "21             5955             5625.0       315.0             360.0   \n",
              "22             2600             1911.0       116.0             360.0   \n",
              "\n",
              "    Credit_History  \n",
              "1              1.0  \n",
              "2              1.0  \n",
              "3              1.0  \n",
              "4              1.0  \n",
              "5              1.0  \n",
              "6              1.0  \n",
              "7              0.0  \n",
              "8              1.0  \n",
              "9              1.0  \n",
              "10             1.0  \n",
              "11             1.0  \n",
              "12             1.0  \n",
              "13             1.0  \n",
              "14             1.0  \n",
              "15             1.0  \n",
              "17             0.0  \n",
              "18             1.0  \n",
              "20             0.0  \n",
              "21             1.0  \n",
              "22             0.0  "
            ],
            "text/html": [
              "\n",
              "  <div id=\"df-d1839dd3-5fac-42b9-9a08-56009451dfe7\">\n",
              "    <div class=\"colab-df-container\">\n",
              "      <div>\n",
              "<style scoped>\n",
              "    .dataframe tbody tr th:only-of-type {\n",
              "        vertical-align: middle;\n",
              "    }\n",
              "\n",
              "    .dataframe tbody tr th {\n",
              "        vertical-align: top;\n",
              "    }\n",
              "\n",
              "    .dataframe thead th {\n",
              "        text-align: right;\n",
              "    }\n",
              "</style>\n",
              "<table border=\"1\" class=\"dataframe\">\n",
              "  <thead>\n",
              "    <tr style=\"text-align: right;\">\n",
              "      <th></th>\n",
              "      <th>ApplicantIncome</th>\n",
              "      <th>CoapplicantIncome</th>\n",
              "      <th>LoanAmount</th>\n",
              "      <th>Loan_Amount_Term</th>\n",
              "      <th>Credit_History</th>\n",
              "    </tr>\n",
              "  </thead>\n",
              "  <tbody>\n",
              "    <tr>\n",
              "      <th>1</th>\n",
              "      <td>4583</td>\n",
              "      <td>1508.0</td>\n",
              "      <td>128.0</td>\n",
              "      <td>360.0</td>\n",
              "      <td>1.0</td>\n",
              "    </tr>\n",
              "    <tr>\n",
              "      <th>2</th>\n",
              "      <td>3000</td>\n",
              "      <td>0.0</td>\n",
              "      <td>66.0</td>\n",
              "      <td>360.0</td>\n",
              "      <td>1.0</td>\n",
              "    </tr>\n",
              "    <tr>\n",
              "      <th>3</th>\n",
              "      <td>2583</td>\n",
              "      <td>2358.0</td>\n",
              "      <td>120.0</td>\n",
              "      <td>360.0</td>\n",
              "      <td>1.0</td>\n",
              "    </tr>\n",
              "    <tr>\n",
              "      <th>4</th>\n",
              "      <td>6000</td>\n",
              "      <td>0.0</td>\n",
              "      <td>141.0</td>\n",
              "      <td>360.0</td>\n",
              "      <td>1.0</td>\n",
              "    </tr>\n",
              "    <tr>\n",
              "      <th>5</th>\n",
              "      <td>5417</td>\n",
              "      <td>4196.0</td>\n",
              "      <td>267.0</td>\n",
              "      <td>360.0</td>\n",
              "      <td>1.0</td>\n",
              "    </tr>\n",
              "    <tr>\n",
              "      <th>6</th>\n",
              "      <td>2333</td>\n",
              "      <td>1516.0</td>\n",
              "      <td>95.0</td>\n",
              "      <td>360.0</td>\n",
              "      <td>1.0</td>\n",
              "    </tr>\n",
              "    <tr>\n",
              "      <th>7</th>\n",
              "      <td>3036</td>\n",
              "      <td>2504.0</td>\n",
              "      <td>158.0</td>\n",
              "      <td>360.0</td>\n",
              "      <td>0.0</td>\n",
              "    </tr>\n",
              "    <tr>\n",
              "      <th>8</th>\n",
              "      <td>4006</td>\n",
              "      <td>1526.0</td>\n",
              "      <td>168.0</td>\n",
              "      <td>360.0</td>\n",
              "      <td>1.0</td>\n",
              "    </tr>\n",
              "    <tr>\n",
              "      <th>9</th>\n",
              "      <td>12841</td>\n",
              "      <td>10968.0</td>\n",
              "      <td>349.0</td>\n",
              "      <td>360.0</td>\n",
              "      <td>1.0</td>\n",
              "    </tr>\n",
              "    <tr>\n",
              "      <th>10</th>\n",
              "      <td>3200</td>\n",
              "      <td>700.0</td>\n",
              "      <td>70.0</td>\n",
              "      <td>360.0</td>\n",
              "      <td>1.0</td>\n",
              "    </tr>\n",
              "    <tr>\n",
              "      <th>11</th>\n",
              "      <td>2500</td>\n",
              "      <td>1840.0</td>\n",
              "      <td>109.0</td>\n",
              "      <td>360.0</td>\n",
              "      <td>1.0</td>\n",
              "    </tr>\n",
              "    <tr>\n",
              "      <th>12</th>\n",
              "      <td>3073</td>\n",
              "      <td>8106.0</td>\n",
              "      <td>200.0</td>\n",
              "      <td>360.0</td>\n",
              "      <td>1.0</td>\n",
              "    </tr>\n",
              "    <tr>\n",
              "      <th>13</th>\n",
              "      <td>1853</td>\n",
              "      <td>2840.0</td>\n",
              "      <td>114.0</td>\n",
              "      <td>360.0</td>\n",
              "      <td>1.0</td>\n",
              "    </tr>\n",
              "    <tr>\n",
              "      <th>14</th>\n",
              "      <td>1299</td>\n",
              "      <td>1086.0</td>\n",
              "      <td>17.0</td>\n",
              "      <td>120.0</td>\n",
              "      <td>1.0</td>\n",
              "    </tr>\n",
              "    <tr>\n",
              "      <th>15</th>\n",
              "      <td>4950</td>\n",
              "      <td>0.0</td>\n",
              "      <td>125.0</td>\n",
              "      <td>360.0</td>\n",
              "      <td>1.0</td>\n",
              "    </tr>\n",
              "    <tr>\n",
              "      <th>17</th>\n",
              "      <td>3510</td>\n",
              "      <td>0.0</td>\n",
              "      <td>76.0</td>\n",
              "      <td>360.0</td>\n",
              "      <td>0.0</td>\n",
              "    </tr>\n",
              "    <tr>\n",
              "      <th>18</th>\n",
              "      <td>4887</td>\n",
              "      <td>0.0</td>\n",
              "      <td>133.0</td>\n",
              "      <td>360.0</td>\n",
              "      <td>1.0</td>\n",
              "    </tr>\n",
              "    <tr>\n",
              "      <th>20</th>\n",
              "      <td>7660</td>\n",
              "      <td>0.0</td>\n",
              "      <td>104.0</td>\n",
              "      <td>360.0</td>\n",
              "      <td>0.0</td>\n",
              "    </tr>\n",
              "    <tr>\n",
              "      <th>21</th>\n",
              "      <td>5955</td>\n",
              "      <td>5625.0</td>\n",
              "      <td>315.0</td>\n",
              "      <td>360.0</td>\n",
              "      <td>1.0</td>\n",
              "    </tr>\n",
              "    <tr>\n",
              "      <th>22</th>\n",
              "      <td>2600</td>\n",
              "      <td>1911.0</td>\n",
              "      <td>116.0</td>\n",
              "      <td>360.0</td>\n",
              "      <td>0.0</td>\n",
              "    </tr>\n",
              "  </tbody>\n",
              "</table>\n",
              "</div>\n",
              "      <button class=\"colab-df-convert\" onclick=\"convertToInteractive('df-d1839dd3-5fac-42b9-9a08-56009451dfe7')\"\n",
              "              title=\"Convert this dataframe to an interactive table.\"\n",
              "              style=\"display:none;\">\n",
              "        \n",
              "  <svg xmlns=\"http://www.w3.org/2000/svg\" height=\"24px\"viewBox=\"0 0 24 24\"\n",
              "       width=\"24px\">\n",
              "    <path d=\"M0 0h24v24H0V0z\" fill=\"none\"/>\n",
              "    <path d=\"M18.56 5.44l.94 2.06.94-2.06 2.06-.94-2.06-.94-.94-2.06-.94 2.06-2.06.94zm-11 1L8.5 8.5l.94-2.06 2.06-.94-2.06-.94L8.5 2.5l-.94 2.06-2.06.94zm10 10l.94 2.06.94-2.06 2.06-.94-2.06-.94-.94-2.06-.94 2.06-2.06.94z\"/><path d=\"M17.41 7.96l-1.37-1.37c-.4-.4-.92-.59-1.43-.59-.52 0-1.04.2-1.43.59L10.3 9.45l-7.72 7.72c-.78.78-.78 2.05 0 2.83L4 21.41c.39.39.9.59 1.41.59.51 0 1.02-.2 1.41-.59l7.78-7.78 2.81-2.81c.8-.78.8-2.07 0-2.86zM5.41 20L4 18.59l7.72-7.72 1.47 1.35L5.41 20z\"/>\n",
              "  </svg>\n",
              "      </button>\n",
              "      \n",
              "  <style>\n",
              "    .colab-df-container {\n",
              "      display:flex;\n",
              "      flex-wrap:wrap;\n",
              "      gap: 12px;\n",
              "    }\n",
              "\n",
              "    .colab-df-convert {\n",
              "      background-color: #E8F0FE;\n",
              "      border: none;\n",
              "      border-radius: 50%;\n",
              "      cursor: pointer;\n",
              "      display: none;\n",
              "      fill: #1967D2;\n",
              "      height: 32px;\n",
              "      padding: 0 0 0 0;\n",
              "      width: 32px;\n",
              "    }\n",
              "\n",
              "    .colab-df-convert:hover {\n",
              "      background-color: #E2EBFA;\n",
              "      box-shadow: 0px 1px 2px rgba(60, 64, 67, 0.3), 0px 1px 3px 1px rgba(60, 64, 67, 0.15);\n",
              "      fill: #174EA6;\n",
              "    }\n",
              "\n",
              "    [theme=dark] .colab-df-convert {\n",
              "      background-color: #3B4455;\n",
              "      fill: #D2E3FC;\n",
              "    }\n",
              "\n",
              "    [theme=dark] .colab-df-convert:hover {\n",
              "      background-color: #434B5C;\n",
              "      box-shadow: 0px 1px 3px 1px rgba(0, 0, 0, 0.15);\n",
              "      filter: drop-shadow(0px 1px 2px rgba(0, 0, 0, 0.3));\n",
              "      fill: #FFFFFF;\n",
              "    }\n",
              "  </style>\n",
              "\n",
              "      <script>\n",
              "        const buttonEl =\n",
              "          document.querySelector('#df-d1839dd3-5fac-42b9-9a08-56009451dfe7 button.colab-df-convert');\n",
              "        buttonEl.style.display =\n",
              "          google.colab.kernel.accessAllowed ? 'block' : 'none';\n",
              "\n",
              "        async function convertToInteractive(key) {\n",
              "          const element = document.querySelector('#df-d1839dd3-5fac-42b9-9a08-56009451dfe7');\n",
              "          const dataTable =\n",
              "            await google.colab.kernel.invokeFunction('convertToInteractive',\n",
              "                                                     [key], {});\n",
              "          if (!dataTable) return;\n",
              "\n",
              "          const docLinkHtml = 'Like what you see? Visit the ' +\n",
              "            '<a target=\"_blank\" href=https://colab.research.google.com/notebooks/data_table.ipynb>data table notebook</a>'\n",
              "            + ' to learn more about interactive tables.';\n",
              "          element.innerHTML = '';\n",
              "          dataTable['output_type'] = 'display_data';\n",
              "          await google.colab.output.renderOutput(dataTable, element);\n",
              "          const docLink = document.createElement('div');\n",
              "          docLink.innerHTML = docLinkHtml;\n",
              "          element.appendChild(docLink);\n",
              "        }\n",
              "      </script>\n",
              "    </div>\n",
              "  </div>\n",
              "  "
            ]
          },
          "metadata": {},
          "execution_count": 24
        }
      ]
    },
    {
      "cell_type": "code",
      "source": [
        "y_train[:20]"
      ],
      "metadata": {
        "id": "yrmgpWKbi4Q6",
        "colab": {
          "base_uri": "https://localhost:8080/"
        },
        "outputId": "73c824db-c68c-4543-8059-d6385c3887dd"
      },
      "execution_count": 25,
      "outputs": [
        {
          "output_type": "execute_result",
          "data": {
            "text/plain": [
              "1     0\n",
              "2     1\n",
              "3     1\n",
              "4     1\n",
              "5     1\n",
              "6     1\n",
              "7     0\n",
              "8     1\n",
              "9     0\n",
              "10    1\n",
              "11    1\n",
              "12    1\n",
              "13    0\n",
              "14    1\n",
              "15    1\n",
              "17    0\n",
              "18    0\n",
              "20    0\n",
              "21    1\n",
              "22    0\n",
              "Name: Loan_Status, dtype: int64"
            ]
          },
          "metadata": {},
          "execution_count": 25
        }
      ]
    },
    {
      "cell_type": "code",
      "source": [
        "test_classifiers = [\n",
        "    'MB', \n",
        "    'KNN', \n",
        "    'LR', \n",
        "    'RF',\n",
        "    'DT',\n",
        "    'SVM',\n",
        "    'GBDT'\n",
        "    ]\n",
        "\n",
        "\n",
        "classifiers = {\n",
        "    \n",
        "             'MB':naive_bayes_classifier,\n",
        "              'KNN':knn_classifier,\n",
        "               'LR':logistic_regression_classifier,\n",
        "               'RF':random_forest_classifier,\n",
        "               'DT':decision_tree_classifier,\n",
        "               'SVM':svm_classifier,\n",
        "               'GBDT':gradient_boosting_classifier\n",
        "}"
      ],
      "metadata": {
        "id": "eimdoSU_XK4Y"
      },
      "execution_count": 26,
      "outputs": []
    },
    {
      "cell_type": "code",
      "source": [
        "for classifier in test_classifiers: \n",
        "    print('******************* %s ********************' % classifier) \n",
        "  \n",
        "    model = classifiers[classifier](x_train, y_train) \n",
        "  \n",
        "    predict = model.predict(x_test) \n",
        "    train_out = model.predict(x_train) \n",
        "  \n",
        "    matrix = confusion_matrix(y_test, predict) \n",
        "    print(matrix) \n",
        "    class_report = classification_report(y_test, predict) \n",
        "    print(class_report)"
      ],
      "metadata": {
        "colab": {
          "base_uri": "https://localhost:8080/"
        },
        "id": "UvA7a_PU-i8G",
        "outputId": "389e8b08-8be2-4f2c-f8f8-b52507fc96c1"
      },
      "execution_count": 27,
      "outputs": [
        {
          "output_type": "stream",
          "name": "stdout",
          "text": [
            "******************* MB ********************\n",
            "[[15 17]\n",
            " [36 38]]\n",
            "              precision    recall  f1-score   support\n",
            "\n",
            "           0       0.29      0.47      0.36        32\n",
            "           1       0.69      0.51      0.59        74\n",
            "\n",
            "    accuracy                           0.50       106\n",
            "   macro avg       0.49      0.49      0.48       106\n",
            "weighted avg       0.57      0.50      0.52       106\n",
            "\n",
            "******************* KNN ********************\n",
            "[[ 8 24]\n",
            " [10 64]]\n",
            "              precision    recall  f1-score   support\n",
            "\n",
            "           0       0.44      0.25      0.32        32\n",
            "           1       0.73      0.86      0.79        74\n",
            "\n",
            "    accuracy                           0.68       106\n",
            "   macro avg       0.59      0.56      0.56       106\n",
            "weighted avg       0.64      0.68      0.65       106\n",
            "\n",
            "******************* LR ********************\n",
            "[[17 15]\n",
            " [ 2 72]]\n",
            "              precision    recall  f1-score   support\n",
            "\n",
            "           0       0.89      0.53      0.67        32\n",
            "           1       0.83      0.97      0.89        74\n",
            "\n",
            "    accuracy                           0.84       106\n",
            "   macro avg       0.86      0.75      0.78       106\n",
            "weighted avg       0.85      0.84      0.83       106\n",
            "\n",
            "******************* RF ********************\n",
            "[[19 13]\n",
            " [ 8 66]]\n",
            "              precision    recall  f1-score   support\n",
            "\n",
            "           0       0.70      0.59      0.64        32\n",
            "           1       0.84      0.89      0.86        74\n",
            "\n",
            "    accuracy                           0.80       106\n",
            "   macro avg       0.77      0.74      0.75       106\n",
            "weighted avg       0.80      0.80      0.80       106\n",
            "\n",
            "******************* DT ********************\n",
            "[[20 12]\n",
            " [12 62]]\n",
            "              precision    recall  f1-score   support\n",
            "\n",
            "           0       0.62      0.62      0.62        32\n",
            "           1       0.84      0.84      0.84        74\n",
            "\n",
            "    accuracy                           0.77       106\n",
            "   macro avg       0.73      0.73      0.73       106\n",
            "weighted avg       0.77      0.77      0.77       106\n",
            "\n",
            "******************* SVM ********************\n",
            "[[ 0 32]\n",
            " [ 0 74]]\n",
            "              precision    recall  f1-score   support\n",
            "\n",
            "           0       0.00      0.00      0.00        32\n",
            "           1       0.70      1.00      0.82        74\n",
            "\n",
            "    accuracy                           0.70       106\n",
            "   macro avg       0.35      0.50      0.41       106\n",
            "weighted avg       0.49      0.70      0.57       106\n",
            "\n",
            "******************* GBDT ********************\n",
            "[[19 13]\n",
            " [ 9 65]]\n",
            "              precision    recall  f1-score   support\n",
            "\n",
            "           0       0.68      0.59      0.63        32\n",
            "           1       0.83      0.88      0.86        74\n",
            "\n",
            "    accuracy                           0.79       106\n",
            "   macro avg       0.76      0.74      0.74       106\n",
            "weighted avg       0.79      0.79      0.79       106\n",
            "\n"
          ]
        }
      ]
    },
    {
      "cell_type": "code",
      "source": [
        "from tensorflow import keras\n",
        "from tensorflow.keras import layers\n",
        "\n",
        "from sklearn import preprocessing\n",
        "\n",
        "from tensorflow.keras.models import Sequential\n",
        "from tensorflow.keras.layers import Dense, Dropout, BatchNormalization\n",
        "from tensorflow.keras import optimizers\n",
        "from tensorflow.keras.layers import Dense, Dropout, Activation, Flatten, Conv2D, MaxPooling2D\n",
        "from keras import callbacks\n",
        "from keras.optimizers import Adam"
      ],
      "metadata": {
        "id": "vAJoRfmx0llS"
      },
      "execution_count": 28,
      "outputs": []
    },
    {
      "cell_type": "code",
      "source": [
        "from sklearn.preprocessing import LabelEncoder\n",
        "le = LabelEncoder()\n",
        "y_test=le.fit_transform(y_test)\n",
        "y_train=le.fit_transform(y_train)\n",
        "y_train[:100]"
      ],
      "metadata": {
        "id": "Ck-upuca0l3j",
        "colab": {
          "base_uri": "https://localhost:8080/"
        },
        "outputId": "59c70f5e-0662-4357-853c-69754099b420"
      },
      "execution_count": 29,
      "outputs": [
        {
          "output_type": "execute_result",
          "data": {
            "text/plain": [
              "array([0, 1, 1, 1, 1, 1, 0, 1, 0, 1, 1, 1, 0, 1, 1, 0, 0, 0, 1, 0, 0, 1,\n",
              "       1, 1, 0, 1, 0, 0, 1, 0, 1, 1, 1, 0, 1, 1, 1, 1, 0, 1, 1, 1, 0, 0,\n",
              "       0, 1, 1, 0, 1, 1, 1, 1, 0, 0, 0, 0, 1, 1, 0, 1, 1, 1, 1, 0, 0, 0,\n",
              "       0, 1, 0, 1, 1, 1, 1, 1, 1, 1, 1, 1, 1, 1, 1, 1, 1, 1, 1, 1, 1, 1,\n",
              "       0, 0, 1, 1, 1, 1, 1, 1, 0, 1, 1, 1])"
            ]
          },
          "metadata": {},
          "execution_count": 29
        }
      ]
    },
    {
      "cell_type": "code",
      "source": [
        "#Early stopping\n",
        "early_stopping = callbacks.EarlyStopping(\n",
        "    min_delta=0.001, # minimium amount of change to count as an improvement\n",
        "    patience=20, # how many epochs to wait before stopping\n",
        "    restore_best_weights=True,\n",
        ")\n",
        "\n",
        "# Initialising the NN\n",
        "model = Sequential()\n",
        "\n",
        "# layers\n",
        "\n",
        "model.add(Dense(units = 12, kernel_initializer = 'uniform', activation = 'relu', input_dim = 5))\n",
        "\n",
        "model.add(Dropout(0.25))\n",
        "model.add(Dense(units = 8, kernel_initializer = 'uniform', activation = 'relu'))\n",
        "model.add(Dropout(0.5))\n",
        "model.add(Dense(units = 1, kernel_initializer = 'uniform', activation = 'sigmoid'))\n",
        "\n",
        "# Compiling the ANN\n",
        "opt = Adam(learning_rate=0.00009)\n",
        "model.compile(optimizer = opt, loss = 'binary_crossentropy', metrics = ['accuracy'])\n",
        "\n",
        "# Train the ANN\n",
        "history = model.fit(x_train, y_train, batch_size = 32, epochs = 150, callbacks=[early_stopping], validation_split=0.2)"
      ],
      "metadata": {
        "id": "NFkv4wIyL69s",
        "colab": {
          "base_uri": "https://localhost:8080/"
        },
        "outputId": "7a7945d7-9c88-4b7f-fac0-eb1d814c9150"
      },
      "execution_count": 31,
      "outputs": [
        {
          "output_type": "stream",
          "name": "stdout",
          "text": [
            "Epoch 1/150\n",
            "11/11 [==============================] - 1s 22ms/step - loss: 0.7648 - accuracy: 0.5473 - val_loss: 0.7237 - val_accuracy: 0.6353\n",
            "Epoch 2/150\n",
            "11/11 [==============================] - 0s 5ms/step - loss: 0.8139 - accuracy: 0.5385 - val_loss: 0.7206 - val_accuracy: 0.6588\n",
            "Epoch 3/150\n",
            "11/11 [==============================] - 0s 5ms/step - loss: 0.7662 - accuracy: 0.5710 - val_loss: 0.7192 - val_accuracy: 0.6588\n",
            "Epoch 4/150\n",
            "11/11 [==============================] - 0s 7ms/step - loss: 0.7020 - accuracy: 0.6095 - val_loss: 0.7223 - val_accuracy: 0.6588\n",
            "Epoch 5/150\n",
            "11/11 [==============================] - 0s 6ms/step - loss: 0.7461 - accuracy: 0.5296 - val_loss: 0.7274 - val_accuracy: 0.6588\n",
            "Epoch 6/150\n",
            "11/11 [==============================] - 0s 6ms/step - loss: 0.7119 - accuracy: 0.6361 - val_loss: 0.7305 - val_accuracy: 0.6588\n",
            "Epoch 7/150\n",
            "11/11 [==============================] - 0s 6ms/step - loss: 0.7480 - accuracy: 0.5858 - val_loss: 0.7255 - val_accuracy: 0.6588\n",
            "Epoch 8/150\n",
            "11/11 [==============================] - 0s 5ms/step - loss: 0.7234 - accuracy: 0.6183 - val_loss: 0.7243 - val_accuracy: 0.6588\n",
            "Epoch 9/150\n",
            "11/11 [==============================] - 0s 7ms/step - loss: 0.7212 - accuracy: 0.6361 - val_loss: 0.7257 - val_accuracy: 0.6588\n",
            "Epoch 10/150\n",
            "11/11 [==============================] - 0s 7ms/step - loss: 0.6917 - accuracy: 0.6479 - val_loss: 0.7223 - val_accuracy: 0.6588\n",
            "Epoch 11/150\n",
            "11/11 [==============================] - 0s 5ms/step - loss: 0.6984 - accuracy: 0.6361 - val_loss: 0.7213 - val_accuracy: 0.6588\n",
            "Epoch 12/150\n",
            "11/11 [==============================] - 0s 7ms/step - loss: 0.6850 - accuracy: 0.5947 - val_loss: 0.7187 - val_accuracy: 0.6588\n",
            "Epoch 13/150\n",
            "11/11 [==============================] - 0s 7ms/step - loss: 0.6976 - accuracy: 0.6124 - val_loss: 0.7140 - val_accuracy: 0.6588\n",
            "Epoch 14/150\n",
            "11/11 [==============================] - 0s 8ms/step - loss: 0.7297 - accuracy: 0.6183 - val_loss: 0.7073 - val_accuracy: 0.6588\n",
            "Epoch 15/150\n",
            "11/11 [==============================] - 0s 5ms/step - loss: 0.6551 - accuracy: 0.6716 - val_loss: 0.7061 - val_accuracy: 0.6588\n",
            "Epoch 16/150\n",
            "11/11 [==============================] - 0s 5ms/step - loss: 0.6657 - accuracy: 0.6095 - val_loss: 0.7042 - val_accuracy: 0.6588\n",
            "Epoch 17/150\n",
            "11/11 [==============================] - 0s 5ms/step - loss: 0.6881 - accuracy: 0.6479 - val_loss: 0.7017 - val_accuracy: 0.6588\n",
            "Epoch 18/150\n",
            "11/11 [==============================] - 0s 7ms/step - loss: 0.6906 - accuracy: 0.6065 - val_loss: 0.7004 - val_accuracy: 0.6588\n",
            "Epoch 19/150\n",
            "11/11 [==============================] - 0s 6ms/step - loss: 0.6822 - accuracy: 0.6183 - val_loss: 0.7004 - val_accuracy: 0.6588\n",
            "Epoch 20/150\n",
            "11/11 [==============================] - 0s 7ms/step - loss: 0.6677 - accuracy: 0.6154 - val_loss: 0.6980 - val_accuracy: 0.6588\n",
            "Epoch 21/150\n",
            "11/11 [==============================] - 0s 6ms/step - loss: 0.6916 - accuracy: 0.6124 - val_loss: 0.6990 - val_accuracy: 0.6588\n",
            "Epoch 22/150\n",
            "11/11 [==============================] - 0s 7ms/step - loss: 0.7027 - accuracy: 0.6361 - val_loss: 0.6988 - val_accuracy: 0.6588\n",
            "Epoch 23/150\n",
            "11/11 [==============================] - 0s 7ms/step - loss: 0.6689 - accuracy: 0.6627 - val_loss: 0.6980 - val_accuracy: 0.6588\n",
            "Epoch 24/150\n",
            "11/11 [==============================] - 0s 5ms/step - loss: 0.6686 - accuracy: 0.6272 - val_loss: 0.6974 - val_accuracy: 0.6588\n",
            "Epoch 25/150\n",
            "11/11 [==============================] - 0s 6ms/step - loss: 0.7083 - accuracy: 0.6183 - val_loss: 0.6949 - val_accuracy: 0.6588\n",
            "Epoch 26/150\n",
            "11/11 [==============================] - 0s 7ms/step - loss: 0.6579 - accuracy: 0.6686 - val_loss: 0.6932 - val_accuracy: 0.6588\n",
            "Epoch 27/150\n",
            "11/11 [==============================] - 0s 6ms/step - loss: 0.6704 - accuracy: 0.6183 - val_loss: 0.6925 - val_accuracy: 0.6588\n",
            "Epoch 28/150\n",
            "11/11 [==============================] - 0s 7ms/step - loss: 0.6667 - accuracy: 0.6568 - val_loss: 0.6920 - val_accuracy: 0.6588\n",
            "Epoch 29/150\n",
            "11/11 [==============================] - 0s 7ms/step - loss: 0.6525 - accuracy: 0.6775 - val_loss: 0.6915 - val_accuracy: 0.6588\n",
            "Epoch 30/150\n",
            "11/11 [==============================] - 0s 5ms/step - loss: 0.6872 - accuracy: 0.6450 - val_loss: 0.6917 - val_accuracy: 0.6588\n",
            "Epoch 31/150\n",
            "11/11 [==============================] - 0s 6ms/step - loss: 0.6635 - accuracy: 0.6538 - val_loss: 0.6915 - val_accuracy: 0.6588\n",
            "Epoch 32/150\n",
            "11/11 [==============================] - 0s 5ms/step - loss: 0.6782 - accuracy: 0.6154 - val_loss: 0.6919 - val_accuracy: 0.6588\n",
            "Epoch 33/150\n",
            "11/11 [==============================] - 0s 7ms/step - loss: 0.6617 - accuracy: 0.6686 - val_loss: 0.6917 - val_accuracy: 0.6588\n",
            "Epoch 34/150\n",
            "11/11 [==============================] - 0s 8ms/step - loss: 0.6573 - accuracy: 0.6716 - val_loss: 0.6912 - val_accuracy: 0.6588\n",
            "Epoch 35/150\n",
            "11/11 [==============================] - 0s 6ms/step - loss: 0.6628 - accuracy: 0.6746 - val_loss: 0.6907 - val_accuracy: 0.6588\n",
            "Epoch 36/150\n",
            "11/11 [==============================] - 0s 6ms/step - loss: 0.6665 - accuracy: 0.6657 - val_loss: 0.6897 - val_accuracy: 0.6588\n",
            "Epoch 37/150\n",
            "11/11 [==============================] - 0s 7ms/step - loss: 0.6616 - accuracy: 0.6657 - val_loss: 0.6876 - val_accuracy: 0.6588\n",
            "Epoch 38/150\n",
            "11/11 [==============================] - 0s 7ms/step - loss: 0.6768 - accuracy: 0.6686 - val_loss: 0.6866 - val_accuracy: 0.6588\n",
            "Epoch 39/150\n",
            "11/11 [==============================] - 0s 7ms/step - loss: 0.6627 - accuracy: 0.6775 - val_loss: 0.6864 - val_accuracy: 0.6588\n",
            "Epoch 40/150\n",
            "11/11 [==============================] - 0s 7ms/step - loss: 0.6380 - accuracy: 0.6982 - val_loss: 0.6872 - val_accuracy: 0.6588\n",
            "Epoch 41/150\n",
            "11/11 [==============================] - 0s 7ms/step - loss: 0.6536 - accuracy: 0.6775 - val_loss: 0.6890 - val_accuracy: 0.6588\n",
            "Epoch 42/150\n",
            "11/11 [==============================] - 0s 9ms/step - loss: 0.6489 - accuracy: 0.6686 - val_loss: 0.6891 - val_accuracy: 0.6588\n",
            "Epoch 43/150\n",
            "11/11 [==============================] - 0s 10ms/step - loss: 0.6712 - accuracy: 0.6479 - val_loss: 0.6892 - val_accuracy: 0.6588\n",
            "Epoch 44/150\n",
            "11/11 [==============================] - 0s 7ms/step - loss: 0.6529 - accuracy: 0.6923 - val_loss: 0.6896 - val_accuracy: 0.6588\n",
            "Epoch 45/150\n",
            "11/11 [==============================] - 0s 9ms/step - loss: 0.6498 - accuracy: 0.6775 - val_loss: 0.6889 - val_accuracy: 0.6588\n",
            "Epoch 46/150\n",
            "11/11 [==============================] - 0s 9ms/step - loss: 0.6509 - accuracy: 0.6982 - val_loss: 0.6894 - val_accuracy: 0.6588\n",
            "Epoch 47/150\n",
            "11/11 [==============================] - 0s 9ms/step - loss: 0.6508 - accuracy: 0.6686 - val_loss: 0.6891 - val_accuracy: 0.6588\n",
            "Epoch 48/150\n",
            "11/11 [==============================] - 0s 8ms/step - loss: 0.6466 - accuracy: 0.6746 - val_loss: 0.6885 - val_accuracy: 0.6588\n",
            "Epoch 49/150\n",
            "11/11 [==============================] - 0s 8ms/step - loss: 0.6354 - accuracy: 0.6686 - val_loss: 0.6891 - val_accuracy: 0.6588\n",
            "Epoch 50/150\n",
            "11/11 [==============================] - 0s 9ms/step - loss: 0.6737 - accuracy: 0.6716 - val_loss: 0.6898 - val_accuracy: 0.6588\n",
            "Epoch 51/150\n",
            "11/11 [==============================] - 0s 7ms/step - loss: 0.6463 - accuracy: 0.6864 - val_loss: 0.6888 - val_accuracy: 0.6588\n",
            "Epoch 52/150\n",
            "11/11 [==============================] - 0s 7ms/step - loss: 0.6508 - accuracy: 0.6805 - val_loss: 0.6884 - val_accuracy: 0.6588\n",
            "Epoch 53/150\n",
            "11/11 [==============================] - 0s 7ms/step - loss: 0.6782 - accuracy: 0.6746 - val_loss: 0.6866 - val_accuracy: 0.6588\n",
            "Epoch 54/150\n",
            "11/11 [==============================] - 0s 8ms/step - loss: 0.6709 - accuracy: 0.6775 - val_loss: 0.6851 - val_accuracy: 0.6588\n",
            "Epoch 55/150\n",
            "11/11 [==============================] - 0s 7ms/step - loss: 0.6477 - accuracy: 0.6627 - val_loss: 0.6832 - val_accuracy: 0.6588\n",
            "Epoch 56/150\n",
            "11/11 [==============================] - 0s 9ms/step - loss: 0.6443 - accuracy: 0.6834 - val_loss: 0.6828 - val_accuracy: 0.6588\n",
            "Epoch 57/150\n",
            "11/11 [==============================] - 0s 7ms/step - loss: 0.6533 - accuracy: 0.6953 - val_loss: 0.6827 - val_accuracy: 0.6588\n",
            "Epoch 58/150\n",
            "11/11 [==============================] - 0s 9ms/step - loss: 0.6491 - accuracy: 0.6746 - val_loss: 0.6822 - val_accuracy: 0.6588\n",
            "Epoch 59/150\n",
            "11/11 [==============================] - 0s 10ms/step - loss: 0.6893 - accuracy: 0.6746 - val_loss: 0.6808 - val_accuracy: 0.6588\n",
            "Epoch 60/150\n",
            "11/11 [==============================] - 0s 9ms/step - loss: 0.6509 - accuracy: 0.6923 - val_loss: 0.6811 - val_accuracy: 0.6588\n",
            "Epoch 61/150\n",
            "11/11 [==============================] - 0s 7ms/step - loss: 0.6353 - accuracy: 0.6864 - val_loss: 0.6823 - val_accuracy: 0.6588\n",
            "Epoch 62/150\n",
            "11/11 [==============================] - 0s 9ms/step - loss: 0.6756 - accuracy: 0.6657 - val_loss: 0.6826 - val_accuracy: 0.6588\n",
            "Epoch 63/150\n",
            "11/11 [==============================] - 0s 9ms/step - loss: 0.6430 - accuracy: 0.6923 - val_loss: 0.6825 - val_accuracy: 0.6588\n",
            "Epoch 64/150\n",
            "11/11 [==============================] - 0s 8ms/step - loss: 0.6315 - accuracy: 0.6864 - val_loss: 0.6834 - val_accuracy: 0.6588\n",
            "Epoch 65/150\n",
            "11/11 [==============================] - 0s 8ms/step - loss: 0.6677 - accuracy: 0.6864 - val_loss: 0.6831 - val_accuracy: 0.6588\n",
            "Epoch 66/150\n",
            "11/11 [==============================] - 0s 9ms/step - loss: 0.6626 - accuracy: 0.6923 - val_loss: 0.6818 - val_accuracy: 0.6588\n",
            "Epoch 67/150\n",
            "11/11 [==============================] - 0s 8ms/step - loss: 0.6664 - accuracy: 0.6746 - val_loss: 0.6813 - val_accuracy: 0.6588\n",
            "Epoch 68/150\n",
            "11/11 [==============================] - 0s 7ms/step - loss: 0.6478 - accuracy: 0.6893 - val_loss: 0.6810 - val_accuracy: 0.6588\n",
            "Epoch 69/150\n",
            "11/11 [==============================] - 0s 10ms/step - loss: 0.6526 - accuracy: 0.6893 - val_loss: 0.6809 - val_accuracy: 0.6588\n",
            "Epoch 70/150\n",
            "11/11 [==============================] - 0s 8ms/step - loss: 0.6323 - accuracy: 0.6834 - val_loss: 0.6809 - val_accuracy: 0.6588\n",
            "Epoch 71/150\n",
            "11/11 [==============================] - 0s 7ms/step - loss: 0.6475 - accuracy: 0.6834 - val_loss: 0.6800 - val_accuracy: 0.6588\n",
            "Epoch 72/150\n",
            "11/11 [==============================] - 0s 11ms/step - loss: 0.6438 - accuracy: 0.6893 - val_loss: 0.6798 - val_accuracy: 0.6588\n",
            "Epoch 73/150\n",
            "11/11 [==============================] - 0s 8ms/step - loss: 0.6576 - accuracy: 0.6923 - val_loss: 0.6791 - val_accuracy: 0.6588\n",
            "Epoch 74/150\n",
            "11/11 [==============================] - 0s 7ms/step - loss: 0.6386 - accuracy: 0.6834 - val_loss: 0.6783 - val_accuracy: 0.6588\n",
            "Epoch 75/150\n",
            "11/11 [==============================] - 0s 6ms/step - loss: 0.6518 - accuracy: 0.6982 - val_loss: 0.6773 - val_accuracy: 0.6588\n",
            "Epoch 76/150\n",
            "11/11 [==============================] - 0s 6ms/step - loss: 0.6610 - accuracy: 0.6746 - val_loss: 0.6773 - val_accuracy: 0.6588\n",
            "Epoch 77/150\n",
            "11/11 [==============================] - 0s 7ms/step - loss: 0.6595 - accuracy: 0.6716 - val_loss: 0.6773 - val_accuracy: 0.6588\n",
            "Epoch 78/150\n",
            "11/11 [==============================] - 0s 5ms/step - loss: 0.6467 - accuracy: 0.6923 - val_loss: 0.6765 - val_accuracy: 0.6588\n",
            "Epoch 79/150\n",
            "11/11 [==============================] - 0s 7ms/step - loss: 0.6352 - accuracy: 0.6953 - val_loss: 0.6777 - val_accuracy: 0.6588\n",
            "Epoch 80/150\n",
            "11/11 [==============================] - 0s 7ms/step - loss: 0.6587 - accuracy: 0.6923 - val_loss: 0.6772 - val_accuracy: 0.6588\n",
            "Epoch 81/150\n",
            "11/11 [==============================] - 0s 8ms/step - loss: 0.6810 - accuracy: 0.6893 - val_loss: 0.6758 - val_accuracy: 0.6588\n",
            "Epoch 82/150\n",
            "11/11 [==============================] - 0s 7ms/step - loss: 0.6686 - accuracy: 0.6864 - val_loss: 0.6742 - val_accuracy: 0.6588\n",
            "Epoch 83/150\n",
            "11/11 [==============================] - 0s 8ms/step - loss: 0.6425 - accuracy: 0.6923 - val_loss: 0.6736 - val_accuracy: 0.6588\n",
            "Epoch 84/150\n",
            "11/11 [==============================] - 0s 6ms/step - loss: 0.6534 - accuracy: 0.6805 - val_loss: 0.6735 - val_accuracy: 0.6588\n",
            "Epoch 85/150\n",
            "11/11 [==============================] - 0s 7ms/step - loss: 0.6406 - accuracy: 0.6775 - val_loss: 0.6738 - val_accuracy: 0.6588\n",
            "Epoch 86/150\n",
            "11/11 [==============================] - 0s 6ms/step - loss: 0.6383 - accuracy: 0.6834 - val_loss: 0.6745 - val_accuracy: 0.6588\n",
            "Epoch 87/150\n",
            "11/11 [==============================] - 0s 7ms/step - loss: 0.6452 - accuracy: 0.6716 - val_loss: 0.6758 - val_accuracy: 0.6588\n",
            "Epoch 88/150\n",
            "11/11 [==============================] - 0s 8ms/step - loss: 0.6407 - accuracy: 0.6923 - val_loss: 0.6765 - val_accuracy: 0.6588\n",
            "Epoch 89/150\n",
            "11/11 [==============================] - 0s 6ms/step - loss: 0.6561 - accuracy: 0.6864 - val_loss: 0.6760 - val_accuracy: 0.6588\n",
            "Epoch 90/150\n",
            "11/11 [==============================] - 0s 6ms/step - loss: 0.6459 - accuracy: 0.6864 - val_loss: 0.6764 - val_accuracy: 0.6588\n",
            "Epoch 91/150\n",
            "11/11 [==============================] - 0s 6ms/step - loss: 0.6520 - accuracy: 0.6923 - val_loss: 0.6756 - val_accuracy: 0.6588\n",
            "Epoch 92/150\n",
            "11/11 [==============================] - 0s 7ms/step - loss: 0.6670 - accuracy: 0.6893 - val_loss: 0.6747 - val_accuracy: 0.6588\n",
            "Epoch 93/150\n",
            "11/11 [==============================] - 0s 6ms/step - loss: 0.6530 - accuracy: 0.6864 - val_loss: 0.6741 - val_accuracy: 0.6588\n",
            "Epoch 94/150\n",
            "11/11 [==============================] - 0s 8ms/step - loss: 0.6597 - accuracy: 0.6864 - val_loss: 0.6738 - val_accuracy: 0.6588\n",
            "Epoch 95/150\n",
            "11/11 [==============================] - 0s 5ms/step - loss: 0.6602 - accuracy: 0.6923 - val_loss: 0.6730 - val_accuracy: 0.6588\n",
            "Epoch 96/150\n",
            "11/11 [==============================] - 0s 6ms/step - loss: 0.6449 - accuracy: 0.6923 - val_loss: 0.6714 - val_accuracy: 0.6588\n",
            "Epoch 97/150\n",
            "11/11 [==============================] - 0s 6ms/step - loss: 0.6389 - accuracy: 0.6834 - val_loss: 0.6714 - val_accuracy: 0.6588\n",
            "Epoch 98/150\n",
            "11/11 [==============================] - 0s 6ms/step - loss: 0.6347 - accuracy: 0.7101 - val_loss: 0.6723 - val_accuracy: 0.6588\n",
            "Epoch 99/150\n",
            "11/11 [==============================] - 0s 6ms/step - loss: 0.6400 - accuracy: 0.6982 - val_loss: 0.6735 - val_accuracy: 0.6588\n",
            "Epoch 100/150\n",
            "11/11 [==============================] - 0s 8ms/step - loss: 0.6556 - accuracy: 0.6953 - val_loss: 0.6737 - val_accuracy: 0.6588\n",
            "Epoch 101/150\n",
            "11/11 [==============================] - 0s 5ms/step - loss: 0.6559 - accuracy: 0.6982 - val_loss: 0.6729 - val_accuracy: 0.6588\n",
            "Epoch 102/150\n",
            "11/11 [==============================] - 0s 7ms/step - loss: 0.6480 - accuracy: 0.6923 - val_loss: 0.6730 - val_accuracy: 0.6588\n",
            "Epoch 103/150\n",
            "11/11 [==============================] - 0s 8ms/step - loss: 0.6407 - accuracy: 0.7012 - val_loss: 0.6736 - val_accuracy: 0.6588\n",
            "Epoch 104/150\n",
            "11/11 [==============================] - 0s 5ms/step - loss: 0.6382 - accuracy: 0.6982 - val_loss: 0.6742 - val_accuracy: 0.6588\n",
            "Epoch 105/150\n",
            "11/11 [==============================] - 0s 7ms/step - loss: 0.6356 - accuracy: 0.6923 - val_loss: 0.6749 - val_accuracy: 0.6588\n",
            "Epoch 106/150\n",
            "11/11 [==============================] - 0s 5ms/step - loss: 0.6440 - accuracy: 0.6923 - val_loss: 0.6753 - val_accuracy: 0.6588\n",
            "Epoch 107/150\n",
            "11/11 [==============================] - 0s 7ms/step - loss: 0.6416 - accuracy: 0.6953 - val_loss: 0.6760 - val_accuracy: 0.6588\n",
            "Epoch 108/150\n",
            "11/11 [==============================] - 0s 7ms/step - loss: 0.6443 - accuracy: 0.6953 - val_loss: 0.6754 - val_accuracy: 0.6588\n",
            "Epoch 109/150\n",
            "11/11 [==============================] - 0s 6ms/step - loss: 0.6526 - accuracy: 0.6805 - val_loss: 0.6755 - val_accuracy: 0.6588\n",
            "Epoch 110/150\n",
            "11/11 [==============================] - 0s 7ms/step - loss: 0.6413 - accuracy: 0.6953 - val_loss: 0.6748 - val_accuracy: 0.6588\n",
            "Epoch 111/150\n",
            "11/11 [==============================] - 0s 7ms/step - loss: 0.6398 - accuracy: 0.6893 - val_loss: 0.6739 - val_accuracy: 0.6588\n",
            "Epoch 112/150\n",
            "11/11 [==============================] - 0s 6ms/step - loss: 0.6765 - accuracy: 0.6893 - val_loss: 0.6725 - val_accuracy: 0.6588\n",
            "Epoch 113/150\n",
            "11/11 [==============================] - 0s 7ms/step - loss: 0.6477 - accuracy: 0.6953 - val_loss: 0.6713 - val_accuracy: 0.6588\n",
            "Epoch 114/150\n",
            "11/11 [==============================] - 0s 8ms/step - loss: 0.6435 - accuracy: 0.6923 - val_loss: 0.6708 - val_accuracy: 0.6588\n",
            "Epoch 115/150\n",
            "11/11 [==============================] - 0s 6ms/step - loss: 0.6468 - accuracy: 0.6864 - val_loss: 0.6705 - val_accuracy: 0.6588\n",
            "Epoch 116/150\n",
            "11/11 [==============================] - 0s 7ms/step - loss: 0.6492 - accuracy: 0.6864 - val_loss: 0.6707 - val_accuracy: 0.6588\n"
          ]
        }
      ]
    },
    {
      "cell_type": "code",
      "source": [
        "history_df = pd.DataFrame(history.history)\n",
        "\n",
        "plt.plot(history_df.loc[:, ['loss']], \"#BDE2E2\", label='Training loss')\n",
        "plt.plot(history_df.loc[:, ['val_loss']],\"#C2C4E2\", label='Validation loss')\n",
        "plt.title('Training and Validation loss')\n",
        "plt.xlabel('Epochs')\n",
        "plt.ylabel('Loss')\n",
        "plt.legend(loc=\"best\")\n",
        "\n",
        "plt.show()"
      ],
      "metadata": {
        "id": "1eFgo6CJv1t1",
        "colab": {
          "base_uri": "https://localhost:8080/",
          "height": 472
        },
        "outputId": "11855c7b-15c4-43a8-b649-236e16f08d40"
      },
      "execution_count": 32,
      "outputs": [
        {
          "output_type": "display_data",
          "data": {
            "text/plain": [
              "<Figure size 640x480 with 1 Axes>"
            ],
            "image/png": "[encoded data removed]"
          },
          "metadata": {}
        }
      ]
    },
    {
      "cell_type": "code",
      "source": [
        "y_pred = model.predict(x_test)\n",
        "y_pred = (y_pred > 0.5)\n",
        "matrix=confusion_matrix(y_test, y_pred)\n",
        "print(matrix)\n",
        "class_report=classification_report(y_test, y_pred)\n",
        "print(class_report)"
      ],
      "metadata": {
        "id": "9iHXYAyyiuYj",
        "colab": {
          "base_uri": "https://localhost:8080/"
        },
        "outputId": "f1b8ebd6-5da6-4fa3-e944-8ac5ca9d7216"
      },
      "execution_count": 33,
      "outputs": [
        {
          "output_type": "stream",
          "name": "stdout",
          "text": [
            "4/4 [==============================] - 0s 4ms/step\n",
            "[[ 0 32]\n",
            " [ 0 74]]\n",
            "              precision    recall  f1-score   support\n",
            "\n",
            "           0       0.00      0.00      0.00        32\n",
            "           1       0.70      1.00      0.82        74\n",
            "\n",
            "    accuracy                           0.70       106\n",
            "   macro avg       0.35      0.50      0.41       106\n",
            "weighted avg       0.49      0.70      0.57       106\n",
            "\n"
          ]
        }
      ]
    },
    {
      "cell_type": "code",
      "source": [],
      "metadata": {
        "id": "YY4-itRziui3"
      },
      "execution_count": null,
      "outputs": []
    }
  ]
}