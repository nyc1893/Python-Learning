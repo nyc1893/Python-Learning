{
  "cells": [
    {
      "cell_type": "code",
      "execution_count": 41,
      "id": "0a0fdf6c",
      "metadata": {
        "id": "0a0fdf6c"
      },
      "outputs": [],
      "source": [
        "import pandas as pd\n",
        "import numpy as np\n",
        "import matplotlib.pyplot as plt\n",
        "import seaborn as sns\n",
        "from sklearn.linear_model import LinearRegression\n",
        "from sklearn.ensemble import RandomForestRegressor\n",
        "from sklearn.metrics import mean_absolute_error, mean_squared_error\n",
        "from sklearn.feature_selection import mutual_info_regression\n",
        "from sklearn.model_selection import cross_val_score\n",
        "from lightgbm import LGBMRegressor\n",
        "%matplotlib inline"
      ]
    },
    {
      "cell_type": "markdown",
      "id": "ff6bbc6a",
      "metadata": {
        "id": "ff6bbc6a"
      },
      "source": [
        "# File paths\n"
      ]
    },
    {
      "cell_type": "code",
      "execution_count": 42,
      "id": "2193a5e4",
      "metadata": {
        "id": "2193a5e4"
      },
      "outputs": [],
      "source": [
        "training_file_path = \"/content/solar_training.csv\"\n",
        "test_file_path = \"/content/solar_test.csv\""
      ]
    },
    {
      "cell_type": "markdown",
      "id": "0df385cb",
      "metadata": {
        "id": "0df385cb"
      },
      "source": [
        "# Reading the data\n"
      ]
    },
    {
      "cell_type": "code",
      "execution_count": 43,
      "id": "fc12845d",
      "metadata": {
        "id": "fc12845d"
      },
      "outputs": [],
      "source": [
        "training_data = pd.read_csv(training_file_path)\n",
        "test_data = pd.read_csv(test_file_path)"
      ]
    },
    {
      "cell_type": "markdown",
      "id": "0001e07e",
      "metadata": {
        "id": "0001e07e"
      },
      "source": [
        "# Displaying the first few rows of the training and test data\n"
      ]
    },
    {
      "cell_type": "code",
      "execution_count": 44,
      "id": "50bc03ad",
      "metadata": {
        "id": "50bc03ad"
      },
      "outputs": [],
      "source": [
        "training_data_head = training_data.head()\n",
        "test_data_head = test_data.head()"
      ]
    },
    {
      "cell_type": "code",
      "execution_count": 45,
      "id": "9e7f0615",
      "metadata": {
        "colab": {
          "base_uri": "https://localhost:8080/",
          "height": 0
        },
        "id": "9e7f0615",
        "outputId": "e3080b8a-f709-44d0-97e3-1130505b74f1"
      },
      "outputs": [
        {
          "output_type": "execute_result",
          "data": {
            "text/plain": [
              "(   ZONEID       TIMESTAMP     VAR78     VAR79      VAR134     VAR157  \\\n",
              " 0       1  20120401 01:00  0.001967  0.003609  94843.6250  60.221909   \n",
              " 1       1  20120401 02:00  0.005524  0.033575  94757.9375  54.678604   \n",
              " 2       1  20120401 03:00  0.030113  0.132009  94732.8125  61.294891   \n",
              " 3       1  20120401 04:00  0.057167  0.110645  94704.0625  67.775284   \n",
              " 4       1  20120401 05:00  0.051027  0.189560  94675.0000  70.172989   \n",
              " \n",
              "      VAR164    VAR165    VAR166      VAR167      VAR169     VAR175  \\\n",
              " 0  0.244601  1.039334 -2.503039  294.448486   2577830.0  1202532.0   \n",
              " 1  0.457138  2.482865 -2.993330  295.651367   5356093.0  2446757.0   \n",
              " 2  0.771429  3.339867 -1.982535  294.454590   7921788.0  3681336.0   \n",
              " 3  0.965866  3.106102 -1.446051  293.261475   9860520.0  4921504.0   \n",
              " 4  0.944669  2.601146 -1.904493  292.732910  11143097.0  6254380.0   \n",
              " \n",
              "        VAR178    VAR228     POWER  \n",
              " 0   2861797.0  0.000000  0.754103  \n",
              " 1   5949378.0  0.000000  0.555000  \n",
              " 2   8939176.0  0.001341  0.438397  \n",
              " 3  11331679.0  0.002501  0.145449  \n",
              " 4  13105558.0  0.003331  0.111987  ,\n",
              "    ZONEID       TIMESTAMP     VAR78  VAR79      VAR134     VAR157    VAR164  \\\n",
              " 0     1.0  20130701 01:00  0.001335    0.0  95342.6875  74.118164  0.048920   \n",
              " 1     1.0  20130701 02:00  0.000179    0.0  95259.6875  67.015564  0.005646   \n",
              " 2     1.0  20130701 03:00  0.000267    0.0  95166.3125  59.357101  0.000000   \n",
              " 3     1.0  20130701 04:00  0.000572    0.0  95111.5000  54.863464  0.000000   \n",
              " 4     1.0  20130701 05:00  0.000755    0.0  95100.5000  55.692444  0.000977   \n",
              " \n",
              "      VAR165    VAR166      VAR167     VAR169       VAR175     VAR178  VAR228  \\\n",
              " 0  1.131939 -0.579174  282.172363  1557786.0   955170.625  1733948.0     0.0   \n",
              " 1  1.716605 -0.476846  284.574219  3380267.0  1906639.000  3728032.0     0.0   \n",
              " 2  2.750459 -0.378750  286.135742  5244430.0  2872777.000  5764803.0     0.0   \n",
              " 3  3.973446  0.103195  286.377685  6910629.0  3845137.000  7611417.0     0.0   \n",
              " 4  4.154067  0.386442  285.615723  8172020.0  4816626.000  9055756.0     0.0   \n",
              " \n",
              "       POWER  \n",
              " 0  0.123846  \n",
              " 1  0.194103  \n",
              " 2  0.511474  \n",
              " 3  0.525128  \n",
              " 4  0.348846  )"
            ]
          },
          "metadata": {},
          "execution_count": 45
        }
      ],
      "source": [
        "(training_data_head, test_data_head)\n"
      ]
    },
    {
      "cell_type": "markdown",
      "id": "eab31bdc",
      "metadata": {
        "id": "eab31bdc"
      },
      "source": [
        "# Checking for missing values in both datasets\n"
      ]
    },
    {
      "cell_type": "code",
      "execution_count": 46,
      "id": "bf1eb79d",
      "metadata": {
        "id": "bf1eb79d"
      },
      "outputs": [],
      "source": [
        "missing_values_training = training_data.isnull().sum()\n",
        "missing_values_test = test_data.isnull().sum()"
      ]
    },
    {
      "cell_type": "markdown",
      "id": "6545bbe3",
      "metadata": {
        "id": "6545bbe3"
      },
      "source": [
        "# Converting the 'TIMESTAMP' column to datetime format in both datasets\n"
      ]
    },
    {
      "cell_type": "code",
      "execution_count": 47,
      "id": "75e75901",
      "metadata": {
        "id": "75e75901"
      },
      "outputs": [],
      "source": [
        "training_data['TIMESTAMP'] = pd.to_datetime(training_data['TIMESTAMP'], format='%Y%m%d %H:%M')\n",
        "test_data['TIMESTAMP'] = pd.to_datetime(test_data['TIMESTAMP'], format='%Y%m%d %H:%M')"
      ]
    },
    {
      "cell_type": "markdown",
      "id": "12f5302b",
      "metadata": {
        "id": "12f5302b"
      },
      "source": [
        "# Displaying the missing values information and the head of the datasets to confirm the TIMESTAMP conversion"
      ]
    },
    {
      "cell_type": "code",
      "execution_count": 48,
      "id": "09e95e31",
      "metadata": {
        "id": "09e95e31"
      },
      "outputs": [],
      "source": [
        "missing_values_info = {\n",
        "    \"Training Data Missing Values\": missing_values_training,\n",
        "    \"Test Data Missing Values\": missing_values_test\n",
        "}"
      ]
    },
    {
      "cell_type": "code",
      "execution_count": 49,
      "id": "35202390",
      "metadata": {
        "colab": {
          "base_uri": "https://localhost:8080/",
          "height": 0
        },
        "id": "35202390",
        "outputId": "a7048b63-88fa-41d4-fee3-2053ce273c20"
      },
      "outputs": [
        {
          "output_type": "execute_result",
          "data": {
            "text/plain": [
              "(   ZONEID           TIMESTAMP     VAR78     VAR79      VAR134     VAR157  \\\n",
              " 0       1 2012-04-01 01:00:00  0.001967  0.003609  94843.6250  60.221909   \n",
              " 1       1 2012-04-01 02:00:00  0.005524  0.033575  94757.9375  54.678604   \n",
              " 2       1 2012-04-01 03:00:00  0.030113  0.132009  94732.8125  61.294891   \n",
              " 3       1 2012-04-01 04:00:00  0.057167  0.110645  94704.0625  67.775284   \n",
              " 4       1 2012-04-01 05:00:00  0.051027  0.189560  94675.0000  70.172989   \n",
              " \n",
              "      VAR164    VAR165    VAR166      VAR167      VAR169     VAR175  \\\n",
              " 0  0.244601  1.039334 -2.503039  294.448486   2577830.0  1202532.0   \n",
              " 1  0.457138  2.482865 -2.993330  295.651367   5356093.0  2446757.0   \n",
              " 2  0.771429  3.339867 -1.982535  294.454590   7921788.0  3681336.0   \n",
              " 3  0.965866  3.106102 -1.446051  293.261475   9860520.0  4921504.0   \n",
              " 4  0.944669  2.601146 -1.904493  292.732910  11143097.0  6254380.0   \n",
              " \n",
              "        VAR178    VAR228     POWER  \n",
              " 0   2861797.0  0.000000  0.754103  \n",
              " 1   5949378.0  0.000000  0.555000  \n",
              " 2   8939176.0  0.001341  0.438397  \n",
              " 3  11331679.0  0.002501  0.145449  \n",
              " 4  13105558.0  0.003331  0.111987  ,\n",
              "    ZONEID           TIMESTAMP     VAR78  VAR79      VAR134     VAR157  \\\n",
              " 0     1.0 2013-07-01 01:00:00  0.001335    0.0  95342.6875  74.118164   \n",
              " 1     1.0 2013-07-01 02:00:00  0.000179    0.0  95259.6875  67.015564   \n",
              " 2     1.0 2013-07-01 03:00:00  0.000267    0.0  95166.3125  59.357101   \n",
              " 3     1.0 2013-07-01 04:00:00  0.000572    0.0  95111.5000  54.863464   \n",
              " 4     1.0 2013-07-01 05:00:00  0.000755    0.0  95100.5000  55.692444   \n",
              " \n",
              "      VAR164    VAR165    VAR166      VAR167     VAR169       VAR175  \\\n",
              " 0  0.048920  1.131939 -0.579174  282.172363  1557786.0   955170.625   \n",
              " 1  0.005646  1.716605 -0.476846  284.574219  3380267.0  1906639.000   \n",
              " 2  0.000000  2.750459 -0.378750  286.135742  5244430.0  2872777.000   \n",
              " 3  0.000000  3.973446  0.103195  286.377685  6910629.0  3845137.000   \n",
              " 4  0.000977  4.154067  0.386442  285.615723  8172020.0  4816626.000   \n",
              " \n",
              "       VAR178  VAR228     POWER  \n",
              " 0  1733948.0     0.0  0.123846  \n",
              " 1  3728032.0     0.0  0.194103  \n",
              " 2  5764803.0     0.0  0.511474  \n",
              " 3  7611417.0     0.0  0.525128  \n",
              " 4  9055756.0     0.0  0.348846  ,\n",
              " {'Training Data Missing Values': ZONEID       0\n",
              "  TIMESTAMP    0\n",
              "  VAR78        0\n",
              "  VAR79        0\n",
              "  VAR134       0\n",
              "  VAR157       0\n",
              "  VAR164       0\n",
              "  VAR165       0\n",
              "  VAR166       0\n",
              "  VAR167       0\n",
              "  VAR169       0\n",
              "  VAR175       0\n",
              "  VAR178       0\n",
              "  VAR228       0\n",
              "  POWER        0\n",
              "  dtype: int64,\n",
              "  'Test Data Missing Values': ZONEID       6549\n",
              "  TIMESTAMP    6549\n",
              "  VAR78        6549\n",
              "  VAR79        6549\n",
              "  VAR134       6549\n",
              "  VAR157       6549\n",
              "  VAR164       6549\n",
              "  VAR165       6549\n",
              "  VAR166       6549\n",
              "  VAR167       6549\n",
              "  VAR169       6549\n",
              "  VAR175       6549\n",
              "  VAR178       6549\n",
              "  VAR228       6549\n",
              "  POWER        6549\n",
              "  dtype: int64})"
            ]
          },
          "metadata": {},
          "execution_count": 49
        }
      ],
      "source": [
        "(training_data.head(), test_data.head(), missing_values_info)"
      ]
    },
    {
      "cell_type": "markdown",
      "id": "389e8891",
      "metadata": {
        "id": "389e8891"
      },
      "source": [
        "# Removing rows with missing values from the test dataset"
      ]
    },
    {
      "cell_type": "code",
      "execution_count": 50,
      "id": "797ed089",
      "metadata": {
        "id": "797ed089"
      },
      "outputs": [],
      "source": [
        "test_data_cleaned = test_data.dropna()"
      ]
    },
    {
      "cell_type": "markdown",
      "id": "efee2d90",
      "metadata": {
        "id": "efee2d90"
      },
      "source": [
        "# Checking if all missing values are removed"
      ]
    },
    {
      "cell_type": "code",
      "execution_count": 51,
      "id": "68357388",
      "metadata": {
        "id": "68357388"
      },
      "outputs": [],
      "source": [
        "remaining_missing_values_test = test_data_cleaned.isnull().sum()"
      ]
    },
    {
      "cell_type": "code",
      "execution_count": 52,
      "id": "fe080799",
      "metadata": {
        "colab": {
          "base_uri": "https://localhost:8080/",
          "height": 0
        },
        "id": "fe080799",
        "outputId": "3d126e9a-f9b2-4205-eb6b-d9d41c8fadf1"
      },
      "outputs": [
        {
          "output_type": "execute_result",
          "data": {
            "text/plain": [
              "(   ZONEID           TIMESTAMP     VAR78  VAR79      VAR134     VAR157  \\\n",
              " 0     1.0 2013-07-01 01:00:00  0.001335    0.0  95342.6875  74.118164   \n",
              " 1     1.0 2013-07-01 02:00:00  0.000179    0.0  95259.6875  67.015564   \n",
              " 2     1.0 2013-07-01 03:00:00  0.000267    0.0  95166.3125  59.357101   \n",
              " 3     1.0 2013-07-01 04:00:00  0.000572    0.0  95111.5000  54.863464   \n",
              " 4     1.0 2013-07-01 05:00:00  0.000755    0.0  95100.5000  55.692444   \n",
              " \n",
              "      VAR164    VAR165    VAR166      VAR167     VAR169       VAR175  \\\n",
              " 0  0.048920  1.131939 -0.579174  282.172363  1557786.0   955170.625   \n",
              " 1  0.005646  1.716605 -0.476846  284.574219  3380267.0  1906639.000   \n",
              " 2  0.000000  2.750459 -0.378750  286.135742  5244430.0  2872777.000   \n",
              " 3  0.000000  3.973446  0.103195  286.377685  6910629.0  3845137.000   \n",
              " 4  0.000977  4.154067  0.386442  285.615723  8172020.0  4816626.000   \n",
              " \n",
              "       VAR178  VAR228     POWER  \n",
              " 0  1733948.0     0.0  0.123846  \n",
              " 1  3728032.0     0.0  0.194103  \n",
              " 2  5764803.0     0.0  0.511474  \n",
              " 3  7611417.0     0.0  0.525128  \n",
              " 4  9055756.0     0.0  0.348846  ,\n",
              " ZONEID       0\n",
              " TIMESTAMP    0\n",
              " VAR78        0\n",
              " VAR79        0\n",
              " VAR134       0\n",
              " VAR157       0\n",
              " VAR164       0\n",
              " VAR165       0\n",
              " VAR166       0\n",
              " VAR167       0\n",
              " VAR169       0\n",
              " VAR175       0\n",
              " VAR178       0\n",
              " VAR228       0\n",
              " POWER        0\n",
              " dtype: int64)"
            ]
          },
          "metadata": {},
          "execution_count": 52
        }
      ],
      "source": [
        "test_data_cleaned.head(), remaining_missing_values_test"
      ]
    },
    {
      "cell_type": "markdown",
      "id": "43ecf56b",
      "metadata": {
        "id": "43ecf56b"
      },
      "source": [
        "# Calculating basic statistics for the training and test datasets"
      ]
    },
    {
      "cell_type": "code",
      "execution_count": 53,
      "id": "1d4055c1",
      "metadata": {
        "id": "1d4055c1"
      },
      "outputs": [],
      "source": [
        "training_stats = training_data.describe()\n",
        "test_stats = test_data_cleaned.describe()"
      ]
    },
    {
      "cell_type": "markdown",
      "id": "e2ff143a",
      "metadata": {
        "id": "e2ff143a"
      },
      "source": [
        "# Additional statistics: Variance and Mean Absolute Deviation (MAD)"
      ]
    },
    {
      "cell_type": "code",
      "execution_count": 54,
      "id": "15c5580a",
      "metadata": {
        "colab": {
          "base_uri": "https://localhost:8080/",
          "height": 0
        },
        "id": "15c5580a",
        "outputId": "7e3cef7f-7891-4c93-8d86-6a8c0899b9de"
      },
      "outputs": [
        {
          "output_type": "stream",
          "name": "stderr",
          "text": [
            "<ipython-input-54-aad529a5f7ef>:1: FutureWarning: The default value of numeric_only in DataFrame.var is deprecated. In a future version, it will default to False. In addition, specifying 'numeric_only=None' is deprecated. Select only valid columns or specify the value of numeric_only to silence this warning.\n",
            "  training_variance = training_data.var()\n",
            "<ipython-input-54-aad529a5f7ef>:2: FutureWarning: The 'mad' method is deprecated and will be removed in a future version. To compute the same result, you may do `(df - df.mean()).abs().mean()`.\n",
            "  training_mad = training_data.mad()\n",
            "<ipython-input-54-aad529a5f7ef>:3: FutureWarning: The default value of numeric_only in DataFrame.var is deprecated. In a future version, it will default to False. In addition, specifying 'numeric_only=None' is deprecated. Select only valid columns or specify the value of numeric_only to silence this warning.\n",
            "  test_variance = test_data_cleaned.var()\n",
            "<ipython-input-54-aad529a5f7ef>:4: FutureWarning: The 'mad' method is deprecated and will be removed in a future version. To compute the same result, you may do `(df - df.mean()).abs().mean()`.\n",
            "  test_mad = test_data_cleaned.mad()\n"
          ]
        }
      ],
      "source": [
        "training_variance = training_data.var()\n",
        "training_mad = training_data.mad()\n",
        "test_variance = test_data_cleaned.var()\n",
        "test_mad = test_data_cleaned.mad()"
      ]
    },
    {
      "cell_type": "markdown",
      "id": "4969a53b",
      "metadata": {
        "id": "4969a53b"
      },
      "source": [
        "# Compiling all statistics into a dictionary for a clearer presentation"
      ]
    },
    {
      "cell_type": "code",
      "execution_count": 55,
      "id": "bde010f9",
      "metadata": {
        "id": "bde010f9"
      },
      "outputs": [],
      "source": [
        "statistics_info = {\n",
        "    \"Training Data Statistics\": training_stats,\n",
        "    \"Test Data Statistics\": test_stats,\n",
        "    \"Training Data Variance\": training_variance,\n",
        "    \"Training Data MAD\": training_mad,\n",
        "    \"Test Data Variance\": test_variance,\n",
        "    \"Test Data MAD\": test_mad\n",
        "}"
      ]
    },
    {
      "cell_type": "code",
      "execution_count": 56,
      "id": "dc87d1bc",
      "metadata": {
        "colab": {
          "base_uri": "https://localhost:8080/",
          "height": 0
        },
        "id": "dc87d1bc",
        "outputId": "63561cc0-38e6-4a1a-b383-97973d5d7f4d"
      },
      "outputs": [
        {
          "output_type": "execute_result",
          "data": {
            "text/plain": [
              "{'Training Data Statistics':              ZONEID         VAR78         VAR79        VAR134        VAR157  \\\n",
              " count  32832.000000  32832.000000  32832.000000  32832.000000  32832.000000   \n",
              " mean       2.000000      0.039729      0.015692  93859.193390     68.544895   \n",
              " std        0.816509      0.113359      0.048724   1094.945197     19.713814   \n",
              " min        1.000000      0.000000      0.000000  90359.000000      8.525364   \n",
              " 25%        1.000000      0.000000      0.000000  92946.750000     53.766098   \n",
              " 50%        2.000000      0.002703      0.000100  94062.375000     71.495399   \n",
              " 75%        3.000000      0.033705      0.006114  94701.890625     85.344917   \n",
              " max        3.000000      2.068974      0.606646  96308.062500    101.790909   \n",
              " \n",
              "              VAR164        VAR165        VAR166        VAR167        VAR169  \\\n",
              " count  32832.000000  32832.000000  32832.000000  32832.000000  3.283200e+04   \n",
              " mean       0.422735      0.684254     -0.104849    284.681270  1.186076e+07   \n",
              " std        0.397027      2.403277      2.073906      7.063519  6.388731e+06   \n",
              " min        0.000000     -8.908603     -8.404230    269.596435  1.498780e+05   \n",
              " 25%        0.010010     -0.759784     -1.521249    279.343933  7.156000e+06   \n",
              " 50%        0.322187      0.351701     -0.293779    283.830566  1.054804e+07   \n",
              " 75%        0.860547      2.064232      1.137790    289.361023  1.634618e+07   \n",
              " max        1.000008     13.056718     10.710998    310.062256  3.442611e+07   \n",
              " \n",
              "              VAR175        VAR178        VAR228         POWER  \n",
              " count  3.283200e+04  3.283200e+04  32832.000000  32832.000000  \n",
              " mean   1.367547e+07  1.385294e+07      0.001033      0.184126  \n",
              " std    7.671840e+06  6.854869e+06      0.003600      0.273742  \n",
              " min    8.235982e+05  6.465230e+05      0.000000      0.000000  \n",
              " 25%    7.214234e+06  8.997402e+06      0.000000      0.000000  \n",
              " 50%    1.353454e+07  1.246145e+07      0.000000      0.001768  \n",
              " 75%    1.979196e+07  1.879794e+07      0.000244      0.328141  \n",
              " max    3.417538e+07  3.757890e+07      0.036896      0.992600  ,\n",
              " 'Test Data Statistics':              ZONEID         VAR78         VAR79        VAR134        VAR157  \\\n",
              " count  26280.000000  26280.000000  26280.000000  26280.000000  26280.000000   \n",
              " mean       2.000000      0.044609      0.017704  93749.654982     67.530910   \n",
              " std        0.816512      0.132407      0.053425   1127.367748     20.927000   \n",
              " min        1.000000      0.000000      0.000000  90345.875000      6.348233   \n",
              " 25%        1.000000      0.000000      0.000000  92861.265625     51.884689   \n",
              " 50%        2.000000      0.003757      0.000183  93937.343750     71.021309   \n",
              " 75%        3.000000      0.035585      0.009112  94636.140625     85.331768   \n",
              " max        3.000000      4.103422      0.820470  96317.125000    102.838364   \n",
              " \n",
              "              VAR164        VAR165        VAR166        VAR167        VAR169  \\\n",
              " count  26280.000000  26280.000000  26280.000000  26280.000000  2.628000e+04   \n",
              " mean       0.466737      0.880190     -0.467614    285.936615  1.275952e+07   \n",
              " std        0.403464      2.518335      1.877585      6.899664  6.845523e+06   \n",
              " min        0.000000     -8.207640     -7.551683    269.436279  1.147127e+05   \n",
              " 25%        0.022198     -0.715289     -1.710716    280.733582  7.564260e+06   \n",
              " 50%        0.419195      0.438262     -0.578547    285.364258  1.171971e+07   \n",
              " 75%        0.924622      2.314305      0.744717    290.201782  1.805087e+07   \n",
              " max        1.000007     11.985642      8.504712    310.458496  3.462558e+07   \n",
              " \n",
              "              VAR175        VAR178        VAR228         POWER  \n",
              " count  2.628000e+04  2.628000e+04  26280.000000  26280.000000  \n",
              " mean   1.395855e+07  1.499035e+07      0.000988      0.183192  \n",
              " std    7.828823e+06  7.269746e+06      0.003216      0.270998  \n",
              " min    8.216176e+05  8.083242e+05      0.000000      0.000000  \n",
              " 25%    7.312014e+06  9.490596e+06      0.000000      0.000000  \n",
              " 50%    1.381949e+07  1.377462e+07      0.000000      0.004295  \n",
              " 75%    2.026667e+07  2.071640e+07      0.000306      0.317135  \n",
              " max    3.467366e+07  3.772200e+07      0.055961      1.003550  ,\n",
              " 'Training Data Variance': ZONEID    6.666870e-01\n",
              " VAR78     1.285037e-02\n",
              " VAR79     2.374002e-03\n",
              " VAR134    1.198905e+06\n",
              " VAR157    3.886345e+02\n",
              " VAR164    1.576301e-01\n",
              " VAR165    5.775739e+00\n",
              " VAR166    4.301087e+00\n",
              " VAR167    4.989330e+01\n",
              " VAR169    4.081589e+13\n",
              " VAR175    5.885714e+13\n",
              " VAR178    4.698923e+13\n",
              " VAR228    1.296042e-05\n",
              " POWER     7.493465e-02\n",
              " dtype: float64,\n",
              " 'Training Data MAD': ZONEID    6.666667e-01\n",
              " VAR78     5.260719e-02\n",
              " VAR79     2.351520e-02\n",
              " VAR134    9.259818e+02\n",
              " VAR157    1.671239e+01\n",
              " VAR164    3.649983e-01\n",
              " VAR165    1.837780e+00\n",
              " VAR166    1.610952e+00\n",
              " VAR167    5.743419e+00\n",
              " VAR169    5.217843e+06\n",
              " VAR175    6.526209e+06\n",
              " VAR178    5.610287e+06\n",
              " VAR228    1.657930e-03\n",
              " POWER     2.280110e-01\n",
              " dtype: float64,\n",
              " 'Test Data Variance': ZONEID    6.666920e-01\n",
              " VAR78     1.753165e-02\n",
              " VAR79     2.854278e-03\n",
              " VAR134    1.270958e+06\n",
              " VAR157    4.379393e+02\n",
              " VAR164    1.627830e-01\n",
              " VAR165    6.342009e+00\n",
              " VAR166    3.525327e+00\n",
              " VAR167    4.760536e+01\n",
              " VAR169    4.686119e+13\n",
              " VAR175    6.129047e+13\n",
              " VAR178    5.284920e+13\n",
              " VAR228    1.034477e-05\n",
              " POWER     7.344018e-02\n",
              " dtype: float64,\n",
              " 'Test Data MAD': ZONEID    6.666667e-01\n",
              " VAR78     5.904968e-02\n",
              " VAR79     2.574428e-02\n",
              " VAR134    9.524876e+02\n",
              " VAR157    1.773450e+01\n",
              " VAR164    3.727784e-01\n",
              " VAR165    1.971456e+00\n",
              " VAR166    1.479338e+00\n",
              " VAR167    5.542559e+00\n",
              " VAR169    5.734162e+06\n",
              " VAR175    6.679081e+06\n",
              " VAR178    6.120236e+06\n",
              " VAR228    1.511813e-03\n",
              " POWER     2.245618e-01\n",
              " dtype: float64}"
            ]
          },
          "metadata": {},
          "execution_count": 56
        }
      ],
      "source": [
        "statistics_info"
      ]
    },
    {
      "cell_type": "code",
      "execution_count": 57,
      "id": "78d2c8c9",
      "metadata": {
        "id": "78d2c8c9"
      },
      "outputs": [],
      "source": [
        "import matplotlib.pyplot as plt\n",
        "import seaborn as sns"
      ]
    },
    {
      "cell_type": "markdown",
      "id": "daea5f33",
      "metadata": {
        "id": "daea5f33"
      },
      "source": [
        "# Creating a figure for multiple subplots"
      ]
    },
    {
      "cell_type": "code",
      "execution_count": 58,
      "id": "5a40ddde",
      "metadata": {
        "colab": {
          "base_uri": "https://localhost:8080/",
          "height": 792
        },
        "id": "5a40ddde",
        "outputId": "aa783153-89a1-4ad1-9e0c-53aa0c2b536c"
      },
      "outputs": [
        {
          "output_type": "display_data",
          "data": {
            "text/plain": [
              "<Figure size 1500x1000 with 4 Axes>"
            ],
            "image/png": "[encoded data removed]"
          },
          "metadata": {}
        }
      ],
      "source": [
        "sns.set(style=\"whitegrid\")\n",
        "fig, axes = plt.subplots(nrows=2, ncols=2, figsize=(15, 10))"
      ]
    },
    {
      "cell_type": "markdown",
      "id": "3ef4127b",
      "metadata": {
        "id": "3ef4127b"
      },
      "source": [
        "# Time Series Plot for Power Generation"
      ]
    },
    {
      "cell_type": "code",
      "execution_count": 59,
      "id": "6d68d474",
      "metadata": {
        "id": "6d68d474"
      },
      "outputs": [],
      "source": [
        "training_data.groupby('TIMESTAMP')['POWER'].mean().plot(ax=axes[0, 0], color='blue', title='Time Series of Power Generation')\n",
        "plt.show()"
      ]
    },
    {
      "cell_type": "markdown",
      "id": "9b092a10",
      "metadata": {
        "id": "9b092a10"
      },
      "source": [
        "# Histogram for Power Generation"
      ]
    },
    {
      "cell_type": "code",
      "execution_count": 60,
      "id": "5f90592a",
      "metadata": {
        "id": "5f90592a"
      },
      "outputs": [],
      "source": [
        "training_data['POWER'].plot(kind='hist', ax=axes[0, 1], bins=50, color='green', title='Histogram of Power Generation')\n",
        "plt.show()"
      ]
    },
    {
      "cell_type": "markdown",
      "id": "29eeb876",
      "metadata": {
        "id": "29eeb876"
      },
      "source": [
        "# Box Plot for Power Generation"
      ]
    },
    {
      "cell_type": "code",
      "execution_count": 61,
      "id": "f13083b4",
      "metadata": {
        "colab": {
          "base_uri": "https://localhost:8080/",
          "height": 0
        },
        "id": "f13083b4",
        "outputId": "1fbf6fc4-30c2-4ae3-fe9d-4d0c9a7c958f"
      },
      "outputs": [
        {
          "output_type": "execute_result",
          "data": {
            "text/plain": [
              "Text(0.5, 1.0, 'Box Plot of Power Generation by Zone')"
            ]
          },
          "metadata": {},
          "execution_count": 61
        }
      ],
      "source": [
        "sns.boxplot(x='ZONEID', y='POWER', data=training_data, ax=axes[1, 0], palette='Set2').set_title('Box Plot of Power Generation by Zone')"
      ]
    },
    {
      "cell_type": "markdown",
      "id": "b2ee4989",
      "metadata": {
        "id": "b2ee4989"
      },
      "source": [
        "# Correlation Heatmap"
      ]
    },
    {
      "cell_type": "code",
      "execution_count": 62,
      "id": "62f17b7a",
      "metadata": {
        "colab": {
          "base_uri": "https://localhost:8080/",
          "height": 0
        },
        "id": "62f17b7a",
        "outputId": "5d4dc89d-4cb0-4176-b544-80e6fa94d0b9"
      },
      "outputs": [
        {
          "output_type": "execute_result",
          "data": {
            "text/plain": [
              "Text(0.5, 1.0, 'Correlation Heatmap of Variables')"
            ]
          },
          "metadata": {},
          "execution_count": 62
        }
      ],
      "source": [
        "corr = training_data.drop(['ZONEID', 'TIMESTAMP'], axis=1).corr()\n",
        "sns.heatmap(corr, ax=axes[1, 1], cmap='coolwarm', annot=False).set_title('Correlation Heatmap of Variables')"
      ]
    },
    {
      "cell_type": "markdown",
      "id": "c972b399",
      "metadata": {
        "id": "c972b399"
      },
      "source": [
        "# Adjusting layout"
      ]
    },
    {
      "cell_type": "code",
      "execution_count": 63,
      "id": "212160c2",
      "metadata": {
        "colab": {
          "base_uri": "https://localhost:8080/",
          "height": 34
        },
        "id": "212160c2",
        "outputId": "2ea94e17-738a-475c-b708-097ebe754ab1"
      },
      "outputs": [
        {
          "output_type": "display_data",
          "data": {
            "text/plain": [
              "<Figure size 640x480 with 0 Axes>"
            ]
          },
          "metadata": {}
        }
      ],
      "source": [
        "plt.tight_layout()"
      ]
    },
    {
      "cell_type": "markdown",
      "id": "b207c2a3",
      "metadata": {
        "id": "b207c2a3"
      },
      "source": [
        "# Displaying the plots"
      ]
    },
    {
      "cell_type": "code",
      "execution_count": 103,
      "id": "8c5e1896",
      "metadata": {
        "id": "8c5e1896"
      },
      "outputs": [],
      "source": [
        "plt.show()"
      ]
    },
    {
      "cell_type": "markdown",
      "id": "ce05cdb9",
      "metadata": {
        "id": "ce05cdb9"
      },
      "source": [
        "# Adding new features for power values from 24 to 48 hours ago"
      ]
    },
    {
      "cell_type": "code",
      "execution_count": 65,
      "id": "bfc4a851",
      "metadata": {
        "id": "bfc4a851"
      },
      "outputs": [],
      "source": [
        "for i in range(24, 49):\n",
        "    training_data[f'POWER_{i}_hours_ago'] = training_data.groupby('ZONEID')['POWER'].shift(i)"
      ]
    },
    {
      "cell_type": "markdown",
      "id": "f7fb95a9",
      "metadata": {
        "id": "f7fb95a9"
      },
      "source": [
        " # Restructuring the dataset: The target variable is the power\n",
        "\n",
        "---\n",
        "\n",
        "generation 24 hours ahead\n",
        "\n",
        "1.   List item\n",
        "2.   List item\n",
        "\n"
      ]
    },
    {
      "cell_type": "code",
      "execution_count": 66,
      "id": "35b7eac5",
      "metadata": {
        "id": "35b7eac5"
      },
      "outputs": [],
      "source": [
        "training_data['POWER_24_hours_ahead'] = training_data.groupby('ZONEID')['POWER'].shift(-24)"
      ]
    },
    {
      "cell_type": "markdown",
      "id": "6efa83e0",
      "metadata": {
        "id": "6efa83e0"
      },
      "source": [
        "# Dropping rows with NaN values which are a result of the shifting operation"
      ]
    },
    {
      "cell_type": "code",
      "execution_count": 67,
      "id": "b9eac5a6",
      "metadata": {
        "id": "b9eac5a6"
      },
      "outputs": [],
      "source": [
        "training_data_restructured = training_data.dropna()"
      ]
    },
    {
      "cell_type": "markdown",
      "id": "068df4fa",
      "metadata": {
        "id": "068df4fa"
      },
      "source": [
        "# Displaying the first few rows of the restructured dataset to verify the new features"
      ]
    },
    {
      "cell_type": "code",
      "execution_count": 68,
      "id": "d6cda271",
      "metadata": {
        "colab": {
          "base_uri": "https://localhost:8080/",
          "height": 342
        },
        "id": "d6cda271",
        "outputId": "cff3bde0-f800-49bc-ad80-5541f841f812"
      },
      "outputs": [
        {
          "output_type": "execute_result",
          "data": {
            "text/plain": [
              "    ZONEID           TIMESTAMP     VAR78     VAR79      VAR134     VAR157  \\\n",
              "48       1 2012-04-03 01:00:00  0.090919  0.004616  94711.4375  63.741364   \n",
              "49       1 2012-04-03 02:00:00  0.018543  0.000551  94638.3125  61.387207   \n",
              "50       1 2012-04-03 03:00:00  0.003380  0.000016  94553.0000  56.486938   \n",
              "51       1 2012-04-03 04:00:00  0.009621  0.000976  94501.0000  53.474503   \n",
              "52       1 2012-04-03 05:00:00  0.019655  0.000321  94455.2500  52.380081   \n",
              "\n",
              "      VAR164    VAR165    VAR166      VAR167  ...  POWER_40_hours_ago  \\\n",
              "48  0.410126  0.304482 -0.324355  292.126465  ...            0.000128   \n",
              "49  0.029388  0.283238 -0.777376  293.629639  ...            0.000000   \n",
              "50  0.020172  0.474200 -1.141390  295.256103  ...            0.000000   \n",
              "51  0.630585  0.832374 -1.779152  296.464356  ...            0.000000   \n",
              "52  0.120308  1.060286 -2.266140  296.883057  ...            0.000000   \n",
              "\n",
              "    POWER_41_hours_ago  POWER_42_hours_ago  POWER_43_hours_ago  \\\n",
              "48            0.030064            0.088718            0.057244   \n",
              "49            0.000128            0.030064            0.088718   \n",
              "50            0.000000            0.000128            0.030064   \n",
              "51            0.000000            0.000000            0.000128   \n",
              "52            0.000000            0.000000            0.000000   \n",
              "\n",
              "    POWER_44_hours_ago  POWER_45_hours_ago  POWER_46_hours_ago  \\\n",
              "48            0.111987            0.145449            0.438397   \n",
              "49            0.057244            0.111987            0.145449   \n",
              "50            0.088718            0.057244            0.111987   \n",
              "51            0.030064            0.088718            0.057244   \n",
              "52            0.000128            0.030064            0.088718   \n",
              "\n",
              "    POWER_47_hours_ago  POWER_48_hours_ago  POWER_24_hours_ahead  \n",
              "48            0.555000            0.754103              0.754103  \n",
              "49            0.438397            0.555000              0.745897  \n",
              "50            0.145449            0.438397              0.682756  \n",
              "51            0.111987            0.145449              0.521026  \n",
              "52            0.057244            0.111987              0.338462  \n",
              "\n",
              "[5 rows x 41 columns]"
            ],
            "text/html": [
              "\n",
              "  <div id=\"df-67b5df7e-a073-4ffc-a03e-17e576a45882\" class=\"colab-df-container\">\n",
              "    <div>\n",
              "<style scoped>\n",
              "    .dataframe tbody tr th:only-of-type {\n",
              "        vertical-align: middle;\n",
              "    }\n",
              "\n",
              "    .dataframe tbody tr th {\n",
              "        vertical-align: top;\n",
              "    }\n",
              "\n",
              "    .dataframe thead th {\n",
              "        text-align: right;\n",
              "    }\n",
              "</style>\n",
              "<table border=\"1\" class=\"dataframe\">\n",
              "  <thead>\n",
              "    <tr style=\"text-align: right;\">\n",
              "      <th></th>\n",
              "      <th>ZONEID</th>\n",
              "      <th>TIMESTAMP</th>\n",
              "      <th>VAR78</th>\n",
              "      <th>VAR79</th>\n",
              "      <th>VAR134</th>\n",
              "      <th>VAR157</th>\n",
              "      <th>VAR164</th>\n",
              "      <th>VAR165</th>\n",
              "      <th>VAR166</th>\n",
              "      <th>VAR167</th>\n",
              "      <th>...</th>\n",
              "      <th>POWER_40_hours_ago</th>\n",
              "      <th>POWER_41_hours_ago</th>\n",
              "      <th>POWER_42_hours_ago</th>\n",
              "      <th>POWER_43_hours_ago</th>\n",
              "      <th>POWER_44_hours_ago</th>\n",
              "      <th>POWER_45_hours_ago</th>\n",
              "      <th>POWER_46_hours_ago</th>\n",
              "      <th>POWER_47_hours_ago</th>\n",
              "      <th>POWER_48_hours_ago</th>\n",
              "      <th>POWER_24_hours_ahead</th>\n",
              "    </tr>\n",
              "  </thead>\n",
              "  <tbody>\n",
              "    <tr>\n",
              "      <th>48</th>\n",
              "      <td>1</td>\n",
              "      <td>2012-04-03 01:00:00</td>\n",
              "      <td>0.090919</td>\n",
              "      <td>0.004616</td>\n",
              "      <td>94711.4375</td>\n",
              "      <td>63.741364</td>\n",
              "      <td>0.410126</td>\n",
              "      <td>0.304482</td>\n",
              "      <td>-0.324355</td>\n",
              "      <td>292.126465</td>\n",
              "      <td>...</td>\n",
              "      <td>0.000128</td>\n",
              "      <td>0.030064</td>\n",
              "      <td>0.088718</td>\n",
              "      <td>0.057244</td>\n",
              "      <td>0.111987</td>\n",
              "      <td>0.145449</td>\n",
              "      <td>0.438397</td>\n",
              "      <td>0.555000</td>\n",
              "      <td>0.754103</td>\n",
              "      <td>0.754103</td>\n",
              "    </tr>\n",
              "    <tr>\n",
              "      <th>49</th>\n",
              "      <td>1</td>\n",
              "      <td>2012-04-03 02:00:00</td>\n",
              "      <td>0.018543</td>\n",
              "      <td>0.000551</td>\n",
              "      <td>94638.3125</td>\n",
              "      <td>61.387207</td>\n",
              "      <td>0.029388</td>\n",
              "      <td>0.283238</td>\n",
              "      <td>-0.777376</td>\n",
              "      <td>293.629639</td>\n",
              "      <td>...</td>\n",
              "      <td>0.000000</td>\n",
              "      <td>0.000128</td>\n",
              "      <td>0.030064</td>\n",
              "      <td>0.088718</td>\n",
              "      <td>0.057244</td>\n",
              "      <td>0.111987</td>\n",
              "      <td>0.145449</td>\n",
              "      <td>0.438397</td>\n",
              "      <td>0.555000</td>\n",
              "      <td>0.745897</td>\n",
              "    </tr>\n",
              "    <tr>\n",
              "      <th>50</th>\n",
              "      <td>1</td>\n",
              "      <td>2012-04-03 03:00:00</td>\n",
              "      <td>0.003380</td>\n",
              "      <td>0.000016</td>\n",
              "      <td>94553.0000</td>\n",
              "      <td>56.486938</td>\n",
              "      <td>0.020172</td>\n",
              "      <td>0.474200</td>\n",
              "      <td>-1.141390</td>\n",
              "      <td>295.256103</td>\n",
              "      <td>...</td>\n",
              "      <td>0.000000</td>\n",
              "      <td>0.000000</td>\n",
              "      <td>0.000128</td>\n",
              "      <td>0.030064</td>\n",
              "      <td>0.088718</td>\n",
              "      <td>0.057244</td>\n",
              "      <td>0.111987</td>\n",
              "      <td>0.145449</td>\n",
              "      <td>0.438397</td>\n",
              "      <td>0.682756</td>\n",
              "    </tr>\n",
              "    <tr>\n",
              "      <th>51</th>\n",
              "      <td>1</td>\n",
              "      <td>2012-04-03 04:00:00</td>\n",
              "      <td>0.009621</td>\n",
              "      <td>0.000976</td>\n",
              "      <td>94501.0000</td>\n",
              "      <td>53.474503</td>\n",
              "      <td>0.630585</td>\n",
              "      <td>0.832374</td>\n",
              "      <td>-1.779152</td>\n",
              "      <td>296.464356</td>\n",
              "      <td>...</td>\n",
              "      <td>0.000000</td>\n",
              "      <td>0.000000</td>\n",
              "      <td>0.000000</td>\n",
              "      <td>0.000128</td>\n",
              "      <td>0.030064</td>\n",
              "      <td>0.088718</td>\n",
              "      <td>0.057244</td>\n",
              "      <td>0.111987</td>\n",
              "      <td>0.145449</td>\n",
              "      <td>0.521026</td>\n",
              "    </tr>\n",
              "    <tr>\n",
              "      <th>52</th>\n",
              "      <td>1</td>\n",
              "      <td>2012-04-03 05:00:00</td>\n",
              "      <td>0.019655</td>\n",
              "      <td>0.000321</td>\n",
              "      <td>94455.2500</td>\n",
              "      <td>52.380081</td>\n",
              "      <td>0.120308</td>\n",
              "      <td>1.060286</td>\n",
              "      <td>-2.266140</td>\n",
              "      <td>296.883057</td>\n",
              "      <td>...</td>\n",
              "      <td>0.000000</td>\n",
              "      <td>0.000000</td>\n",
              "      <td>0.000000</td>\n",
              "      <td>0.000000</td>\n",
              "      <td>0.000128</td>\n",
              "      <td>0.030064</td>\n",
              "      <td>0.088718</td>\n",
              "      <td>0.057244</td>\n",
              "      <td>0.111987</td>\n",
              "      <td>0.338462</td>\n",
              "    </tr>\n",
              "  </tbody>\n",
              "</table>\n",
              "<p>5 rows × 41 columns</p>\n",
              "</div>\n",
              "    <div class=\"colab-df-buttons\">\n",
              "\n",
              "  <div class=\"colab-df-container\">\n",
              "    <button class=\"colab-df-convert\" onclick=\"convertToInteractive('df-67b5df7e-a073-4ffc-a03e-17e576a45882')\"\n",
              "            title=\"Convert this dataframe to an interactive table.\"\n",
              "            style=\"display:none;\">\n",
              "\n",
              "  <svg xmlns=\"http://www.w3.org/2000/svg\" height=\"24px\" viewBox=\"0 -960 960 960\">\n",
              "    <path d=\"M120-120v-720h720v720H120Zm60-500h600v-160H180v160Zm220 220h160v-160H400v160Zm0 220h160v-160H400v160ZM180-400h160v-160H180v160Zm440 0h160v-160H620v160ZM180-180h160v-160H180v160Zm440 0h160v-160H620v160Z\"/>\n",
              "  </svg>\n",
              "    </button>\n",
              "\n",
              "  <style>\n",
              "    .colab-df-container {\n",
              "      display:flex;\n",
              "      gap: 12px;\n",
              "    }\n",
              "\n",
              "    .colab-df-convert {\n",
              "      background-color: #E8F0FE;\n",
              "      border: none;\n",
              "      border-radius: 50%;\n",
              "      cursor: pointer;\n",
              "      display: none;\n",
              "      fill: #1967D2;\n",
              "      height: 32px;\n",
              "      padding: 0 0 0 0;\n",
              "      width: 32px;\n",
              "    }\n",
              "\n",
              "    .colab-df-convert:hover {\n",
              "      background-color: #E2EBFA;\n",
              "      box-shadow: 0px 1px 2px rgba(60, 64, 67, 0.3), 0px 1px 3px 1px rgba(60, 64, 67, 0.15);\n",
              "      fill: #174EA6;\n",
              "    }\n",
              "\n",
              "    .colab-df-buttons div {\n",
              "      margin-bottom: 4px;\n",
              "    }\n",
              "\n",
              "    [theme=dark] .colab-df-convert {\n",
              "      background-color: #3B4455;\n",
              "      fill: #D2E3FC;\n",
              "    }\n",
              "\n",
              "    [theme=dark] .colab-df-convert:hover {\n",
              "      background-color: #434B5C;\n",
              "      box-shadow: 0px 1px 3px 1px rgba(0, 0, 0, 0.15);\n",
              "      filter: drop-shadow(0px 1px 2px rgba(0, 0, 0, 0.3));\n",
              "      fill: #FFFFFF;\n",
              "    }\n",
              "  </style>\n",
              "\n",
              "    <script>\n",
              "      const buttonEl =\n",
              "        document.querySelector('#df-67b5df7e-a073-4ffc-a03e-17e576a45882 button.colab-df-convert');\n",
              "      buttonEl.style.display =\n",
              "        google.colab.kernel.accessAllowed ? 'block' : 'none';\n",
              "\n",
              "      async function convertToInteractive(key) {\n",
              "        const element = document.querySelector('#df-67b5df7e-a073-4ffc-a03e-17e576a45882');\n",
              "        const dataTable =\n",
              "          await google.colab.kernel.invokeFunction('convertToInteractive',\n",
              "                                                    [key], {});\n",
              "        if (!dataTable) return;\n",
              "\n",
              "        const docLinkHtml = 'Like what you see? Visit the ' +\n",
              "          '<a target=\"_blank\" href=https://colab.research.google.com/notebooks/data_table.ipynb>data table notebook</a>'\n",
              "          + ' to learn more about interactive tables.';\n",
              "        element.innerHTML = '';\n",
              "        dataTable['output_type'] = 'display_data';\n",
              "        await google.colab.output.renderOutput(dataTable, element);\n",
              "        const docLink = document.createElement('div');\n",
              "        docLink.innerHTML = docLinkHtml;\n",
              "        element.appendChild(docLink);\n",
              "      }\n",
              "    </script>\n",
              "  </div>\n",
              "\n",
              "\n",
              "<div id=\"df-2f4b9d7b-470d-473b-83de-eeec2044b4e4\">\n",
              "  <button class=\"colab-df-quickchart\" onclick=\"quickchart('df-2f4b9d7b-470d-473b-83de-eeec2044b4e4')\"\n",
              "            title=\"Suggest charts\"\n",
              "            style=\"display:none;\">\n",
              "\n",
              "<svg xmlns=\"http://www.w3.org/2000/svg\" height=\"24px\"viewBox=\"0 0 24 24\"\n",
              "     width=\"24px\">\n",
              "    <g>\n",
              "        <path d=\"M19 3H5c-1.1 0-2 .9-2 2v14c0 1.1.9 2 2 2h14c1.1 0 2-.9 2-2V5c0-1.1-.9-2-2-2zM9 17H7v-7h2v7zm4 0h-2V7h2v10zm4 0h-2v-4h2v4z\"/>\n",
              "    </g>\n",
              "</svg>\n",
              "  </button>\n",
              "\n",
              "<style>\n",
              "  .colab-df-quickchart {\n",
              "      --bg-color: #E8F0FE;\n",
              "      --fill-color: #1967D2;\n",
              "      --hover-bg-color: #E2EBFA;\n",
              "      --hover-fill-color: #174EA6;\n",
              "      --disabled-fill-color: #AAA;\n",
              "      --disabled-bg-color: #DDD;\n",
              "  }\n",
              "\n",
              "  [theme=dark] .colab-df-quickchart {\n",
              "      --bg-color: #3B4455;\n",
              "      --fill-color: #D2E3FC;\n",
              "      --hover-bg-color: #434B5C;\n",
              "      --hover-fill-color: #FFFFFF;\n",
              "      --disabled-bg-color: #3B4455;\n",
              "      --disabled-fill-color: #666;\n",
              "  }\n",
              "\n",
              "  .colab-df-quickchart {\n",
              "    background-color: var(--bg-color);\n",
              "    border: none;\n",
              "    border-radius: 50%;\n",
              "    cursor: pointer;\n",
              "    display: none;\n",
              "    fill: var(--fill-color);\n",
              "    height: 32px;\n",
              "    padding: 0;\n",
              "    width: 32px;\n",
              "  }\n",
              "\n",
              "  .colab-df-quickchart:hover {\n",
              "    background-color: var(--hover-bg-color);\n",
              "    box-shadow: 0 1px 2px rgba(60, 64, 67, 0.3), 0 1px 3px 1px rgba(60, 64, 67, 0.15);\n",
              "    fill: var(--button-hover-fill-color);\n",
              "  }\n",
              "\n",
              "  .colab-df-quickchart-complete:disabled,\n",
              "  .colab-df-quickchart-complete:disabled:hover {\n",
              "    background-color: var(--disabled-bg-color);\n",
              "    fill: var(--disabled-fill-color);\n",
              "    box-shadow: none;\n",
              "  }\n",
              "\n",
              "  .colab-df-spinner {\n",
              "    border: 2px solid var(--fill-color);\n",
              "    border-color: transparent;\n",
              "    border-bottom-color: var(--fill-color);\n",
              "    animation:\n",
              "      spin 1s steps(1) infinite;\n",
              "  }\n",
              "\n",
              "  @keyframes spin {\n",
              "    0% {\n",
              "      border-color: transparent;\n",
              "      border-bottom-color: var(--fill-color);\n",
              "      border-left-color: var(--fill-color);\n",
              "    }\n",
              "    20% {\n",
              "      border-color: transparent;\n",
              "      border-left-color: var(--fill-color);\n",
              "      border-top-color: var(--fill-color);\n",
              "    }\n",
              "    30% {\n",
              "      border-color: transparent;\n",
              "      border-left-color: var(--fill-color);\n",
              "      border-top-color: var(--fill-color);\n",
              "      border-right-color: var(--fill-color);\n",
              "    }\n",
              "    40% {\n",
              "      border-color: transparent;\n",
              "      border-right-color: var(--fill-color);\n",
              "      border-top-color: var(--fill-color);\n",
              "    }\n",
              "    60% {\n",
              "      border-color: transparent;\n",
              "      border-right-color: var(--fill-color);\n",
              "    }\n",
              "    80% {\n",
              "      border-color: transparent;\n",
              "      border-right-color: var(--fill-color);\n",
              "      border-bottom-color: var(--fill-color);\n",
              "    }\n",
              "    90% {\n",
              "      border-color: transparent;\n",
              "      border-bottom-color: var(--fill-color);\n",
              "    }\n",
              "  }\n",
              "</style>\n",
              "\n",
              "  <script>\n",
              "    async function quickchart(key) {\n",
              "      const quickchartButtonEl =\n",
              "        document.querySelector('#' + key + ' button');\n",
              "      quickchartButtonEl.disabled = true;  // To prevent multiple clicks.\n",
              "      quickchartButtonEl.classList.add('colab-df-spinner');\n",
              "      try {\n",
              "        const charts = await google.colab.kernel.invokeFunction(\n",
              "            'suggestCharts', [key], {});\n",
              "      } catch (error) {\n",
              "        console.error('Error during call to suggestCharts:', error);\n",
              "      }\n",
              "      quickchartButtonEl.classList.remove('colab-df-spinner');\n",
              "      quickchartButtonEl.classList.add('colab-df-quickchart-complete');\n",
              "    }\n",
              "    (() => {\n",
              "      let quickchartButtonEl =\n",
              "        document.querySelector('#df-2f4b9d7b-470d-473b-83de-eeec2044b4e4 button');\n",
              "      quickchartButtonEl.style.display =\n",
              "        google.colab.kernel.accessAllowed ? 'block' : 'none';\n",
              "    })();\n",
              "  </script>\n",
              "</div>\n",
              "    </div>\n",
              "  </div>\n"
            ]
          },
          "metadata": {},
          "execution_count": 68
        }
      ],
      "source": [
        "training_data_restructured.head()"
      ]
    },
    {
      "cell_type": "markdown",
      "id": "7e481d22",
      "metadata": {
        "id": "7e481d22"
      },
      "source": [
        "# Creating a correlation matrix including the new features and the future power generation"
      ]
    },
    {
      "cell_type": "code",
      "execution_count": 69,
      "id": "8a43d175",
      "metadata": {
        "id": "8a43d175"
      },
      "outputs": [],
      "source": [
        "correlation_matrix = training_data_restructured.iloc[:, -26:].corr()"
      ]
    },
    {
      "cell_type": "markdown",
      "id": "ba275844",
      "metadata": {
        "id": "ba275844"
      },
      "source": [
        "# Plotting the correlation heatmap"
      ]
    },
    {
      "cell_type": "code",
      "execution_count": 70,
      "id": "5383c3dc",
      "metadata": {
        "colab": {
          "base_uri": "https://localhost:8080/",
          "height": 921
        },
        "id": "5383c3dc",
        "outputId": "97473375-f962-4707-87e3-fd6149a0be0b"
      },
      "outputs": [
        {
          "output_type": "display_data",
          "data": {
            "text/plain": [
              "<Figure size 1500x1000 with 2 Axes>"
            ],
            "image/png": "[encoded data removed]"
          },
          "metadata": {}
        }
      ],
      "source": [
        "plt.figure(figsize=(15, 10))\n",
        "sns.heatmap(correlation_matrix, annot=False, cmap='coolwarm')\n",
        "plt.title('Correlation Heatmap Including New Features')\n",
        "plt.show()"
      ]
    },
    {
      "cell_type": "markdown",
      "id": "e24282df",
      "metadata": {
        "id": "e24282df"
      },
      "source": [
        "# Preparing the features (X) and target (y) for MI calculation"
      ]
    },
    {
      "cell_type": "code",
      "execution_count": 71,
      "id": "1995fe3d",
      "metadata": {
        "id": "1995fe3d"
      },
      "outputs": [],
      "source": [
        "X = training_data_restructured.iloc[:, -26:-1]  # All newly added features\n",
        "y = training_data_restructured['POWER_24_hours_ahead']  # Future power generation"
      ]
    },
    {
      "cell_type": "markdown",
      "id": "2b5e01e4",
      "metadata": {
        "id": "2b5e01e4"
      },
      "source": [
        "# Calculating Mutual Information"
      ]
    },
    {
      "cell_type": "code",
      "execution_count": 72,
      "id": "c86ee127",
      "metadata": {
        "id": "c86ee127"
      },
      "outputs": [],
      "source": [
        "mi_scores = mutual_info_regression(X, y)\n",
        "mi_scores = pd.Series(mi_scores, name=\"MI Scores\", index=X.columns)"
      ]
    },
    {
      "cell_type": "markdown",
      "id": "b5f5576d",
      "metadata": {
        "id": "b5f5576d"
      },
      "source": [
        "# Sorting the scores for better visualization"
      ]
    },
    {
      "cell_type": "code",
      "execution_count": 73,
      "id": "3376f527",
      "metadata": {
        "colab": {
          "base_uri": "https://localhost:8080/",
          "height": 0
        },
        "id": "3376f527",
        "outputId": "ffd92009-aa8f-4e44-ea37-0d1ef19c2473"
      },
      "outputs": [
        {
          "output_type": "execute_result",
          "data": {
            "text/plain": [
              "POWER_24_hours_ago    1.130293\n",
              "POWER_48_hours_ago    1.081980\n",
              "POWER_25_hours_ago    0.699318\n",
              "POWER_47_hours_ago    0.686186\n",
              "POWER_36_hours_ago    0.559282\n",
              "POWER_37_hours_ago    0.498739\n",
              "POWER_35_hours_ago    0.494452\n",
              "POWER_46_hours_ago    0.444791\n",
              "POWER_26_hours_ago    0.443062\n",
              "POWER_34_hours_ago    0.377813\n",
              "POWER_38_hours_ago    0.374151\n",
              "POWER_45_hours_ago    0.292831\n",
              "POWER_27_hours_ago    0.288842\n",
              "POWER_33_hours_ago    0.257146\n",
              "POWER_39_hours_ago    0.251967\n",
              "POWER_28_hours_ago    0.181334\n",
              "POWER_44_hours_ago    0.179570\n",
              "POWER_40_hours_ago    0.173350\n",
              "POWER_32_hours_ago    0.169389\n",
              "POWER_43_hours_ago    0.118053\n",
              "POWER_29_hours_ago    0.117402\n",
              "POWER_41_hours_ago    0.114342\n",
              "POWER_31_hours_ago    0.105936\n",
              "POWER_42_hours_ago    0.092726\n",
              "POWER_30_hours_ago    0.089488\n",
              "Name: MI Scores, dtype: float64"
            ]
          },
          "metadata": {},
          "execution_count": 73
        }
      ],
      "source": [
        "mi_scores = mi_scores.sort_values(ascending=False)\n",
        "mi_scores"
      ]
    },
    {
      "cell_type": "markdown",
      "id": "0e28b74f",
      "metadata": {
        "id": "0e28b74f"
      },
      "source": [
        "# Preparing data for each solar power plant (ZONEID)"
      ]
    },
    {
      "cell_type": "code",
      "execution_count": 74,
      "id": "34084b7a",
      "metadata": {
        "id": "34084b7a"
      },
      "outputs": [],
      "source": [
        "from sklearn.model_selection import train_test_split"
      ]
    },
    {
      "cell_type": "code",
      "execution_count": 75,
      "id": "4a99ed16",
      "metadata": {
        "id": "4a99ed16"
      },
      "outputs": [],
      "source": [
        "zone_datasets = {}\n",
        "for zone in training_data_restructured['ZONEID'].unique():\n",
        "    zone_data = training_data_restructured[training_data_restructured['ZONEID'] == zone]\n",
        "\n",
        "    # Dropping non-numeric and non-relevant columns\n",
        "    zone_data = zone_data.drop(['ZONEID', 'TIMESTAMP'], axis=1)\n",
        "\n",
        "    # Splitting data into features (X) and target (y)\n",
        "    X = zone_data.drop('POWER_24_hours_ahead', axis=1)\n",
        "    y = zone_data['POWER_24_hours_ahead']\n",
        "\n",
        "    # Splitting each dataset into training and validation sets\n",
        "    X_train, X_val, y_train, y_val = train_test_split(X, y, test_size=0.2, random_state=42)\n",
        "\n",
        "    # Storing the split data in a dictionary for easy access\n",
        "    zone_datasets[zone] = (X_train, X_val, y_train, y_val)\n"
      ]
    },
    {
      "cell_type": "markdown",
      "id": "18191f2e",
      "metadata": {
        "id": "18191f2e"
      },
      "source": [
        "# Verifying the data preparation"
      ]
    },
    {
      "cell_type": "code",
      "execution_count": 76,
      "id": "3687bb8f",
      "metadata": {
        "colab": {
          "base_uri": "https://localhost:8080/",
          "height": 0
        },
        "id": "3687bb8f",
        "outputId": "51ebe15f-b0f4-4cf5-bb76-616944ee1cdb"
      },
      "outputs": [
        {
          "output_type": "execute_result",
          "data": {
            "text/plain": [
              "(dict_keys([1, 2, 3]), (8697, 38), (2175, 38))"
            ]
          },
          "metadata": {},
          "execution_count": 76
        }
      ],
      "source": [
        "zone_datasets.keys(), zone_datasets[1][0].shape, zone_datasets[1][1].shape # Example shape for Zone 1's train and validation set"
      ]
    },
    {
      "cell_type": "markdown",
      "id": "43daa91a",
      "metadata": {
        "id": "43daa91a"
      },
      "source": [
        "# ******* Zone 1: All Models *******\n"
      ]
    },
    {
      "cell_type": "markdown",
      "id": "7807d4a0",
      "metadata": {
        "id": "7807d4a0"
      },
      "source": [
        "# Training the data for Zone 1"
      ]
    },
    {
      "cell_type": "code",
      "execution_count": 77,
      "id": "eadddd48",
      "metadata": {
        "id": "eadddd48"
      },
      "outputs": [],
      "source": [
        "X_train, X_val, y_train, y_val = zone_datasets[1]  # Data for Zone 1"
      ]
    },
    {
      "cell_type": "markdown",
      "id": "ca0c65ef",
      "metadata": {
        "id": "ca0c65ef"
      },
      "source": [
        "# 1. Linear Regression"
      ]
    },
    {
      "cell_type": "code",
      "execution_count": 78,
      "id": "8d8d8f03",
      "metadata": {
        "colab": {
          "base_uri": "https://localhost:8080/",
          "height": 0
        },
        "id": "8d8d8f03",
        "outputId": "bc3a56f8-0e6e-4775-d6b3-619cfe6508ac"
      },
      "outputs": [
        {
          "output_type": "execute_result",
          "data": {
            "text/plain": [
              "(0.06555901947840792, 0.11622359461770475)"
            ]
          },
          "metadata": {},
          "execution_count": 78
        }
      ],
      "source": [
        "from sklearn.linear_model import LinearRegression\n",
        "\n",
        "# Initialize the model\n",
        "linear_model = LinearRegression()\n",
        "\n",
        "# Train the model\n",
        "linear_model.fit(X_train, y_train)\n",
        "\n",
        "# Make predictions\n",
        "predictions_lr = linear_model.predict(X_val)\n",
        "\n",
        "# Evaluate the model\n",
        "mae_lr = mean_absolute_error(y_val, predictions_lr)\n",
        "rmse_lr = np.sqrt(mean_squared_error(y_val, predictions_lr))\n",
        "(mae_lr, rmse_lr)"
      ]
    },
    {
      "cell_type": "markdown",
      "id": "318e963a",
      "metadata": {
        "id": "318e963a"
      },
      "source": [
        "# 2. Random Forest Regressor"
      ]
    },
    {
      "cell_type": "code",
      "execution_count": 79,
      "id": "90760a46",
      "metadata": {
        "colab": {
          "base_uri": "https://localhost:8080/",
          "height": 0
        },
        "id": "90760a46",
        "outputId": "34679e59-9673-4260-fdda-4060c0dc653a"
      },
      "outputs": [
        {
          "output_type": "execute_result",
          "data": {
            "text/plain": [
              "(0.053174812263485055, 0.10762606411912702)"
            ]
          },
          "metadata": {},
          "execution_count": 79
        }
      ],
      "source": [
        "from sklearn.ensemble import RandomForestRegressor\n",
        "\n",
        "# Initialize the model\n",
        "rf_model = RandomForestRegressor(n_estimators=100, random_state=42)\n",
        "\n",
        "# Train the model\n",
        "rf_model.fit(X_train, y_train)\n",
        "\n",
        "# Make predictions\n",
        "predictions_rf = rf_model.predict(X_val)\n",
        "\n",
        "# Evaluate the model\n",
        "mae_rf = mean_absolute_error(y_val, predictions_rf)\n",
        "rmse_rf = np.sqrt(mean_squared_error(y_val, predictions_rf))\n",
        "(mae_rf, rmse_rf)"
      ]
    },
    {
      "cell_type": "markdown",
      "id": "c765729a",
      "metadata": {
        "id": "c765729a"
      },
      "source": [
        "# 3. Gradient Boosting Machine (GBM)"
      ]
    },
    {
      "cell_type": "code",
      "execution_count": 80,
      "id": "da916bd4",
      "metadata": {
        "colab": {
          "base_uri": "https://localhost:8080/",
          "height": 0
        },
        "id": "da916bd4",
        "outputId": "bee0d2c5-b060-4118-fa18-dc63b17d91a5"
      },
      "outputs": [
        {
          "output_type": "stream",
          "name": "stdout",
          "text": [
            "[LightGBM] [Info] Auto-choosing col-wise multi-threading, the overhead of testing was 0.007750 seconds.\n",
            "You can set `force_col_wise=true` to remove the overhead.\n",
            "[LightGBM] [Info] Total Bins 9689\n",
            "[LightGBM] [Info] Number of data points in the train set: 8697, number of used features: 38\n",
            "[LightGBM] [Info] Start training from score 0.167897\n"
          ]
        },
        {
          "output_type": "execute_result",
          "data": {
            "text/plain": [
              "(0.04997813424758209, 0.10241261144172739)"
            ]
          },
          "metadata": {},
          "execution_count": 80
        }
      ],
      "source": [
        "\n",
        "# Initialize the model\n",
        "gbm_model = LGBMRegressor()\n",
        "\n",
        "# Train the model\n",
        "gbm_model.fit(X_train, y_train)\n",
        "\n",
        "# Make predictions\n",
        "predictions_gbm = gbm_model.predict(X_val)\n",
        "\n",
        "# Evaluate the model\n",
        "mae_gbm = mean_absolute_error(y_val, predictions_gbm)\n",
        "rmse_gbm = np.sqrt(mean_squared_error(y_val, predictions_gbm))\n",
        "(mae_gbm, rmse_gbm)"
      ]
    },
    {
      "cell_type": "markdown",
      "id": "accb3139",
      "metadata": {
        "id": "accb3139"
      },
      "source": [
        "# 4. Long Short-Term Memory (LSTM)"
      ]
    },
    {
      "cell_type": "code",
      "execution_count": 83,
      "id": "7fa521c6",
      "metadata": {
        "colab": {
          "base_uri": "https://localhost:8080/",
          "height": 0
        },
        "id": "7fa521c6",
        "outputId": "f0beb009-7d5d-43f7-d3b4-a8e866d008dd"
      },
      "outputs": [
        {
          "output_type": "stream",
          "name": "stdout",
          "text": [
            "Epoch 1/10\n",
            "272/272 [==============================] - 10s 7ms/step - loss: 0.0523\n",
            "Epoch 2/10\n",
            "272/272 [==============================] - 2s 6ms/step - loss: 0.0494\n",
            "Epoch 3/10\n",
            "272/272 [==============================] - 1s 5ms/step - loss: 0.0488\n",
            "Epoch 4/10\n",
            "272/272 [==============================] - 1s 5ms/step - loss: 0.0488\n",
            "Epoch 5/10\n",
            "272/272 [==============================] - 1s 5ms/step - loss: 0.0486\n",
            "Epoch 6/10\n",
            "272/272 [==============================] - 2s 8ms/step - loss: 0.0486\n",
            "Epoch 7/10\n",
            "272/272 [==============================] - 2s 9ms/step - loss: 0.0484\n",
            "Epoch 8/10\n",
            "272/272 [==============================] - 2s 9ms/step - loss: 0.0485\n",
            "Epoch 9/10\n",
            "272/272 [==============================] - 3s 11ms/step - loss: 0.0484\n",
            "Epoch 10/10\n",
            "272/272 [==============================] - 2s 6ms/step - loss: 0.0485\n",
            "68/68 [==============================] - 1s 2ms/step\n"
          ]
        }
      ],
      "source": [
        "from keras.models import Sequential\n",
        "from keras.layers import LSTM, Dense\n",
        "\n",
        "# Assuming X_train and y_train are already defined and properly formatted\n",
        "\n",
        "# Reshape data for LSTM (example)\n",
        "X_train_reshaped = X_train.values.reshape((X_train.shape[0], 1, X_train.shape[1]))\n",
        "X_val_reshaped = X_val.values.reshape((X_val.shape[0], 1, X_val.shape[1]))\n",
        "\n",
        "# Initialize the model\n",
        "lstm_model = Sequential()\n",
        "lstm_model.add(LSTM(units=50, return_sequences=True, input_shape=(X_train_reshaped.shape[1], X_train_reshaped.shape[2])))\n",
        "lstm_model.add(LSTM(units=50))\n",
        "lstm_model.add(Dense(1))\n",
        "\n",
        "lstm_model.compile(optimizer='adam', loss='mean_squared_error')\n",
        "\n",
        "# Train the model with fewer epochs\n",
        "lstm_model.fit(X_train_reshaped, y_train, epochs=10, batch_size=32)  # Reduced epochs to 10\n",
        "\n",
        "# Make predictions\n",
        "predictions_lstm = lstm_model.predict(X_val_reshaped)\n",
        "\n",
        "# Evaluate the model\n",
        "mae_lstm = mean_absolute_error(y_val, predictions_lstm)\n",
        "rmse_lstm = np.sqrt(mean_squared_error(y_val, predictions_lstm))\n"
      ]
    },
    {
      "cell_type": "markdown",
      "id": "86de999b",
      "metadata": {
        "id": "86de999b"
      },
      "source": [
        "# 5. Support Vector Regression (SVR)"
      ]
    },
    {
      "cell_type": "code",
      "execution_count": 84,
      "id": "3531a1b7",
      "metadata": {
        "id": "3531a1b7"
      },
      "outputs": [],
      "source": [
        "from sklearn.svm import SVR\n",
        "\n",
        "# Initialize the model\n",
        "svr_model = SVR()\n",
        "\n",
        "# Train the model\n",
        "svr_model.fit(X_train, y_train)\n",
        "\n",
        "# Make predictions\n",
        "predictions_svr = svr_model.predict(X_val)\n",
        "\n",
        "# Evaluate the model\n",
        "mae_svr = mean_absolute_error(y_val, predictions_svr)\n",
        "rmse_svr = np.sqrt(mean_squared_error(y_val, predictions_svr))"
      ]
    },
    {
      "cell_type": "markdown",
      "id": "f7716e6e",
      "metadata": {
        "id": "f7716e6e"
      },
      "source": [
        "# 6. Lasso Regression\n"
      ]
    },
    {
      "cell_type": "code",
      "execution_count": 85,
      "id": "e45bca99",
      "metadata": {
        "colab": {
          "base_uri": "https://localhost:8080/",
          "height": 0
        },
        "id": "e45bca99",
        "outputId": "bb14c9c2-d5a7-4e0c-c13b-dada13d5a9d0"
      },
      "outputs": [
        {
          "output_type": "stream",
          "name": "stderr",
          "text": [
            "/usr/local/lib/python3.10/dist-packages/sklearn/linear_model/_coordinate_descent.py:631: ConvergenceWarning: Objective did not converge. You might want to increase the number of iterations, check the scale of the features or consider increasing regularisation. Duality gap: 1.435e+00, tolerance: 5.816e-02\n",
            "  model = cd_fast.enet_coordinate_descent(\n"
          ]
        }
      ],
      "source": [
        "from sklearn.linear_model import Lasso\n",
        "\n",
        "# Initialize the model\n",
        "lasso_model = Lasso(alpha=0.1)\n",
        "\n",
        "# Train the model\n",
        "lasso_model.fit(X_train, y_train)\n",
        "\n",
        "# Make predictions\n",
        "predictions_lasso = lasso_model.predict(X_val)\n",
        "\n",
        "# Evaluate the model\n",
        "mae_lasso = mean_absolute_error(y_val, predictions_lasso)\n",
        "rmse_lasso = np.sqrt(mean_squared_error(y_val, predictions_lasso))\n"
      ]
    },
    {
      "cell_type": "markdown",
      "id": "5c81d09e",
      "metadata": {
        "id": "5c81d09e"
      },
      "source": [
        "# ******* Zone 2: All Models *******"
      ]
    },
    {
      "cell_type": "markdown",
      "id": "3974c45c",
      "metadata": {
        "id": "3974c45c"
      },
      "source": [
        "# 1. Linear Regression"
      ]
    },
    {
      "cell_type": "code",
      "execution_count": 86,
      "id": "a7f37254",
      "metadata": {
        "colab": {
          "base_uri": "https://localhost:8080/",
          "height": 0
        },
        "id": "a7f37254",
        "outputId": "a428d973-52ca-4ca9-b193-b82b4a0e7ce2"
      },
      "outputs": [
        {
          "output_type": "execute_result",
          "data": {
            "text/plain": [
              "(0.06908735789219106, 0.11797096677320378)"
            ]
          },
          "metadata": {},
          "execution_count": 86
        }
      ],
      "source": [
        "# Linear Regression for Zone 2\n",
        "lr_model_2 = LinearRegression()\n",
        "lr_model_2.fit(zone_datasets[2][0], zone_datasets[2][2])\n",
        "predictions_lr_2 = lr_model_2.predict(zone_datasets[2][1])\n",
        "mae_lr_2 = mean_absolute_error(zone_datasets[2][3], predictions_lr_2)\n",
        "rmse_lr_2 = np.sqrt(mean_squared_error(zone_datasets[2][3], predictions_lr_2))\n",
        "( mae_lr_2,rmse_lr_2 )"
      ]
    },
    {
      "cell_type": "markdown",
      "id": "c8bcf9bb",
      "metadata": {
        "id": "c8bcf9bb"
      },
      "source": [
        "# 2. Random Forest Regressor"
      ]
    },
    {
      "cell_type": "code",
      "execution_count": 87,
      "id": "90460f97",
      "metadata": {
        "id": "90460f97"
      },
      "outputs": [],
      "source": [
        "# Random Forest Regressor for Zone 2\n",
        "rf_model_2 = RandomForestRegressor(n_estimators=100, random_state=42)\n",
        "rf_model_2.fit(zone_datasets[2][0], zone_datasets[2][2])\n",
        "predictions_rf_2 = rf_model_2.predict(zone_datasets[2][1])\n",
        "mae_rf_2 = mean_absolute_error(zone_datasets[2][3], predictions_rf_2)\n",
        "rmse_rf_2 = np.sqrt(mean_squared_error(zone_datasets[2][3], predictions_rf_2))\n"
      ]
    },
    {
      "cell_type": "markdown",
      "id": "626672c4",
      "metadata": {
        "id": "626672c4"
      },
      "source": [
        "# 3. Gradient Boosting Machine (GBM)"
      ]
    },
    {
      "cell_type": "code",
      "execution_count": 88,
      "id": "2d8b0ade",
      "metadata": {
        "colab": {
          "base_uri": "https://localhost:8080/",
          "height": 0
        },
        "id": "2d8b0ade",
        "outputId": "8aa0bb1a-9600-45e3-b536-e58841168130"
      },
      "outputs": [
        {
          "output_type": "stream",
          "name": "stdout",
          "text": [
            "[LightGBM] [Info] Auto-choosing col-wise multi-threading, the overhead of testing was 0.009592 seconds.\n",
            "You can set `force_col_wise=true` to remove the overhead.\n",
            "[LightGBM] [Info] Total Bins 9690\n",
            "[LightGBM] [Info] Number of data points in the train set: 8697, number of used features: 38\n",
            "[LightGBM] [Info] Start training from score 0.187115\n"
          ]
        }
      ],
      "source": [
        "# Gradient Boosting Machine for Zone 2\n",
        "gbm_model_2 = LGBMRegressor()\n",
        "gbm_model_2.fit(zone_datasets[2][0], zone_datasets[2][2])\n",
        "predictions_gbm_2 = gbm_model_2.predict(zone_datasets[2][1])\n",
        "mae_gbm_2 = mean_absolute_error(zone_datasets[2][3], predictions_gbm_2)\n",
        "rmse_gbm_2 = np.sqrt(mean_squared_error(zone_datasets[2][3], predictions_gbm_2))\n"
      ]
    },
    {
      "cell_type": "markdown",
      "id": "eb8d8cc4",
      "metadata": {
        "id": "eb8d8cc4"
      },
      "source": [
        "# 4. Long Short-Term Memory (LSTM)"
      ]
    },
    {
      "cell_type": "code",
      "execution_count": 92,
      "id": "ab7b8f18",
      "metadata": {
        "colab": {
          "base_uri": "https://localhost:8080/",
          "height": 0
        },
        "id": "ab7b8f18",
        "outputId": "3bde5a7c-0634-4cc5-f2fe-7e1653cae12e"
      },
      "outputs": [
        {
          "output_type": "stream",
          "name": "stdout",
          "text": [
            "Epoch 1/10\n",
            "272/272 [==============================] - 11s 5ms/step - loss: 0.0537\n",
            "Epoch 2/10\n",
            "272/272 [==============================] - 2s 7ms/step - loss: 0.0455\n",
            "Epoch 3/10\n",
            "272/272 [==============================] - 2s 7ms/step - loss: 0.0442\n",
            "Epoch 4/10\n",
            "272/272 [==============================] - 2s 6ms/step - loss: 0.0440\n",
            "Epoch 5/10\n",
            "272/272 [==============================] - 1s 5ms/step - loss: 0.0439\n",
            "Epoch 6/10\n",
            "272/272 [==============================] - 1s 5ms/step - loss: 0.0432\n",
            "Epoch 7/10\n",
            "272/272 [==============================] - 1s 5ms/step - loss: 0.0431\n",
            "Epoch 8/10\n",
            "272/272 [==============================] - 1s 5ms/step - loss: 0.0425\n",
            "Epoch 9/10\n",
            "272/272 [==============================] - 1s 5ms/step - loss: 0.0425\n",
            "Epoch 10/10\n",
            "272/272 [==============================] - 1s 5ms/step - loss: 0.0420\n",
            "68/68 [==============================] - 1s 2ms/step\n"
          ]
        }
      ],
      "source": [
        "from keras.models import Sequential\n",
        "from keras.layers import LSTM, Dense\n",
        "# Extract Zone 2 data from the `zone_datasets` dictionary\n",
        "X_train_2, X_val_2, y_train_2, y_val_2 = zone_datasets[2]\n",
        "\n",
        "# Reshape data for LSTM (example)\n",
        "X_train_2_reshaped = X_train_2.values.reshape((X_train_2.shape[0], 1, X_train_2.shape[1]))\n",
        "X_val_2_reshaped = X_val_2.values.reshape((X_val_2.shape[0], 1, X_val_2.shape[1]))\n",
        "\n",
        "# Initialize the LSTM model for Zone 2\n",
        "lstm_model_2 = Sequential()\n",
        "lstm_model_2.add(LSTM(units=50, return_sequences=True, input_shape=(X_train_2_reshaped.shape[1], X_train_2_reshaped.shape[2])))\n",
        "lstm_model_2.add(LSTM(units=50))\n",
        "lstm_model_2.add(Dense(1))\n",
        "\n",
        "lstm_model_2.compile(optimizer='adam', loss='mean_squared_error')\n",
        "\n",
        "# Train the model with fewer epochs for Zone 2\n",
        "lstm_model_2.fit(X_train_2_reshaped, y_train_2, epochs=10, batch_size=32)  # Reduced epochs to 10\n",
        "\n",
        "# Make predictions for Zone 2\n",
        "predictions_lstm_2 = lstm_model_2.predict(X_val_2_reshaped)\n",
        "\n",
        "# Evaluate the model for Zone 2\n",
        "mae_lstm_2 = mean_absolute_error(y_val_2, predictions_lstm_2)\n",
        "rmse_lstm_2 = np.sqrt(mean_squared_error(y_val_2, predictions_lstm_2))\n",
        "\n",
        "\n"
      ]
    },
    {
      "cell_type": "markdown",
      "id": "e3926aa2",
      "metadata": {
        "id": "e3926aa2"
      },
      "source": [
        "# 5. Support Vector Regression (SVR)"
      ]
    },
    {
      "cell_type": "code",
      "execution_count": 93,
      "id": "8b83e7c5",
      "metadata": {
        "id": "8b83e7c5"
      },
      "outputs": [],
      "source": [
        "# Support Vector Regression for Zone 2\n",
        "svr_model_2 = SVR()\n",
        "svr_model_2.fit(zone_datasets[2][0], zone_datasets[2][2])\n",
        "predictions_svr_2 = svr_model_2.predict(zone_datasets[2][1])\n",
        "mae_svr_2 = mean_absolute_error(zone_datasets[2][3], predictions_svr_2)\n",
        "rmse_svr_2 = np.sqrt(mean_squared_error(zone_datasets[2][3], predictions_svr_2))"
      ]
    },
    {
      "cell_type": "markdown",
      "id": "3a78bee6",
      "metadata": {
        "id": "3a78bee6"
      },
      "source": [
        "# 6. Lasso Regression"
      ]
    },
    {
      "cell_type": "code",
      "execution_count": 94,
      "id": "8b2b6e5a",
      "metadata": {
        "colab": {
          "base_uri": "https://localhost:8080/",
          "height": 0
        },
        "id": "8b2b6e5a",
        "outputId": "386e0db0-5ef3-474f-a91b-434cdf627f80"
      },
      "outputs": [
        {
          "output_type": "stream",
          "name": "stderr",
          "text": [
            "/usr/local/lib/python3.10/dist-packages/sklearn/linear_model/_coordinate_descent.py:631: ConvergenceWarning: Objective did not converge. You might want to increase the number of iterations, check the scale of the features or consider increasing regularisation. Duality gap: 4.707e-01, tolerance: 6.603e-02\n",
            "  model = cd_fast.enet_coordinate_descent(\n"
          ]
        }
      ],
      "source": [
        "# Lasso Regression for Zone 2\n",
        "lasso_model_2 = Lasso(alpha=0.1)\n",
        "lasso_model_2.fit(zone_datasets[2][0], zone_datasets[2][2])\n",
        "predictions_lasso_2 = lasso_model_2.predict(zone_datasets[2][1])\n",
        "mae_lasso_2 = mean_absolute_error(zone_datasets[2][3], predictions_lasso_2)\n",
        "rmse_lasso_2 = np.sqrt(mean_squared_error(zone_datasets[2][3], predictions_lasso_2))"
      ]
    },
    {
      "cell_type": "markdown",
      "id": "64f04067",
      "metadata": {
        "id": "64f04067"
      },
      "source": [
        "# ******* Zone 3: All Models *******\n"
      ]
    },
    {
      "cell_type": "markdown",
      "id": "63c86918",
      "metadata": {
        "id": "63c86918"
      },
      "source": [
        "# 1. Linear Regression"
      ]
    },
    {
      "cell_type": "code",
      "execution_count": 95,
      "id": "dfa5f868",
      "metadata": {
        "id": "dfa5f868"
      },
      "outputs": [],
      "source": [
        "# Linear Regression for Zone 3\n",
        "lr_model_3 = LinearRegression()\n",
        "lr_model_3.fit(zone_datasets[3][0], zone_datasets[3][2])\n",
        "predictions_lr_3 = lr_model_3.predict(zone_datasets[3][1])\n",
        "mae_lr_3 = mean_absolute_error(zone_datasets[3][3], predictions_lr_3)\n",
        "rmse_lr_3 = np.sqrt(mean_squared_error(zone_datasets[3][3], predictions_lr_3))\n"
      ]
    },
    {
      "cell_type": "markdown",
      "id": "744f968d",
      "metadata": {
        "id": "744f968d"
      },
      "source": [
        "# 2. Random Forest Regressor\n"
      ]
    },
    {
      "cell_type": "code",
      "execution_count": 96,
      "id": "dec51887",
      "metadata": {
        "id": "dec51887"
      },
      "outputs": [],
      "source": [
        "# Random Forest Regressor for Zone 3\n",
        "rf_model_3 = RandomForestRegressor(n_estimators=100, random_state=42)\n",
        "rf_model_3.fit(zone_datasets[3][0], zone_datasets[3][2])\n",
        "predictions_rf_3 = rf_model_3.predict(zone_datasets[3][1])\n",
        "mae_rf_3 = mean_absolute_error(zone_datasets[3][3], predictions_rf_3)\n",
        "rmse_rf_3 = np.sqrt(mean_squared_error(zone_datasets[3][3], predictions_rf_3))\n"
      ]
    },
    {
      "cell_type": "markdown",
      "id": "b8561305",
      "metadata": {
        "id": "b8561305"
      },
      "source": [
        "# 3. Gradient Boosting Machine (GBM)"
      ]
    },
    {
      "cell_type": "code",
      "execution_count": 97,
      "id": "a58c0456",
      "metadata": {
        "colab": {
          "base_uri": "https://localhost:8080/",
          "height": 0
        },
        "id": "a58c0456",
        "outputId": "f6691168-0e6d-45dd-ce88-f04ce690b425"
      },
      "outputs": [
        {
          "output_type": "stream",
          "name": "stdout",
          "text": [
            "[LightGBM] [Info] Auto-choosing row-wise multi-threading, the overhead of testing was 0.001039 seconds.\n",
            "You can set `force_row_wise=true` to remove the overhead.\n",
            "And if memory is not enough, you can set `force_col_wise=true`.\n",
            "[LightGBM] [Info] Total Bins 9690\n",
            "[LightGBM] [Info] Number of data points in the train set: 8697, number of used features: 38\n",
            "[LightGBM] [Info] Start training from score 0.194452\n"
          ]
        }
      ],
      "source": [
        "# Gradient Boosting Machine for Zone 3\n",
        "gbm_model_3 = LGBMRegressor()\n",
        "gbm_model_3.fit(zone_datasets[3][0], zone_datasets[3][2])\n",
        "predictions_gbm_3 = gbm_model_3.predict(zone_datasets[3][1])\n",
        "mae_gbm_3 = mean_absolute_error(zone_datasets[3][3], predictions_gbm_3)\n",
        "rmse_gbm_3 = np.sqrt(mean_squared_error(zone_datasets[3][3], predictions_gbm_3))\n"
      ]
    },
    {
      "cell_type": "markdown",
      "id": "ea599562",
      "metadata": {
        "id": "ea599562"
      },
      "source": [
        "# 4. Long Short-Term Memory (LSTM)"
      ]
    },
    {
      "cell_type": "code",
      "execution_count": 98,
      "id": "a64961be",
      "metadata": {
        "colab": {
          "base_uri": "https://localhost:8080/",
          "height": 0
        },
        "id": "a64961be",
        "outputId": "0c54dc3d-beb5-412c-ea82-e0843236be8e"
      },
      "outputs": [
        {
          "output_type": "stream",
          "name": "stdout",
          "text": [
            "Epoch 1/10\n",
            "272/272 [==============================] - 7s 7ms/step - loss: 0.0638\n",
            "Epoch 2/10\n",
            "272/272 [==============================] - 2s 6ms/step - loss: 0.0597\n",
            "Epoch 3/10\n",
            "272/272 [==============================] - 1s 5ms/step - loss: 0.0595\n",
            "Epoch 4/10\n",
            "272/272 [==============================] - 1s 5ms/step - loss: 0.0590\n",
            "Epoch 5/10\n",
            "272/272 [==============================] - 1s 5ms/step - loss: 0.0592\n",
            "Epoch 6/10\n",
            "272/272 [==============================] - 1s 5ms/step - loss: 0.0588\n",
            "Epoch 7/10\n",
            "272/272 [==============================] - 1s 5ms/step - loss: 0.0587\n",
            "Epoch 8/10\n",
            "272/272 [==============================] - 1s 5ms/step - loss: 0.0587\n",
            "Epoch 9/10\n",
            "272/272 [==============================] - 1s 5ms/step - loss: 0.0589\n",
            "Epoch 10/10\n",
            "272/272 [==============================] - 2s 7ms/step - loss: 0.0586\n",
            "68/68 [==============================] - 1s 3ms/step\n"
          ]
        }
      ],
      "source": [
        "\n",
        "# Extract Zone 3 data from the `zone_datasets` dictionary\n",
        "X_train_3, X_val_3, y_train_3, y_val_3 = zone_datasets[3]\n",
        "\n",
        "# Reshape data for LSTM (example)\n",
        "X_train_3_reshaped = X_train_3.values.reshape((X_train_3.shape[0], 1, X_train_3.shape[1]))\n",
        "X_val_3_reshaped = X_val_3.values.reshape((X_val_3.shape[0], 1, X_val_3.shape[1]))\n",
        "\n",
        "# Initialize the LSTM model for Zone 3\n",
        "lstm_model_3 = Sequential()\n",
        "lstm_model_3.add(LSTM(units=50, return_sequences=True, input_shape=(X_train_3_reshaped.shape[1], X_train_3_reshaped.shape[2])))\n",
        "lstm_model_3.add(LSTM(units=50))\n",
        "lstm_model_3.add(Dense(1))\n",
        "\n",
        "lstm_model_3.compile(optimizer='adam', loss='mean_squared_error')\n",
        "\n",
        "# Train the model with fewer epochs for Zone 3\n",
        "lstm_model_3.fit(X_train_3_reshaped, y_train_3, epochs=10, batch_size=32)  # Reduced epochs to 10\n",
        "\n",
        "# Make predictions for Zone 3\n",
        "predictions_lstm_3 = lstm_model_3.predict(X_val_3_reshaped)\n",
        "\n",
        "# Evaluate the model for Zone 3\n",
        "mae_lstm_3 = mean_absolute_error(y_val_3, predictions_lstm_3)\n",
        "rmse_lstm_3 = np.sqrt(mean_squared_error(y_val_3, predictions_lstm_3))\n",
        "\n",
        "\n"
      ]
    },
    {
      "cell_type": "markdown",
      "id": "7825d494",
      "metadata": {
        "id": "7825d494"
      },
      "source": [
        "# 5. Support Vector Regression (SVR)"
      ]
    },
    {
      "cell_type": "code",
      "execution_count": 99,
      "id": "eaccd5cd",
      "metadata": {
        "id": "eaccd5cd"
      },
      "outputs": [],
      "source": [
        "# Support Vector Regression for Zone 3\n",
        "svr_model_3 = SVR()\n",
        "svr_model_3.fit(zone_datasets[3][0], zone_datasets[3][2])\n",
        "predictions_svr_3 = svr_model_3.predict(zone_datasets[3][1])\n",
        "mae_svr_3 = mean_absolute_error(zone_datasets[3][3], predictions_svr_3)\n",
        "rmse_svr_3 = np.sqrt(mean_squared_error(zone_datasets[3][3], predictions_svr_3))\n"
      ]
    },
    {
      "cell_type": "markdown",
      "id": "c6eeb174",
      "metadata": {
        "id": "c6eeb174"
      },
      "source": [
        "# 6. Lasso Regression\n"
      ]
    },
    {
      "cell_type": "code",
      "execution_count": 100,
      "id": "f88f0e46",
      "metadata": {
        "colab": {
          "base_uri": "https://localhost:8080/",
          "height": 0
        },
        "id": "f88f0e46",
        "outputId": "83d6474e-e31b-4bf1-a464-984f7df2b24e"
      },
      "outputs": [
        {
          "output_type": "stream",
          "name": "stderr",
          "text": [
            "/usr/local/lib/python3.10/dist-packages/sklearn/linear_model/_coordinate_descent.py:631: ConvergenceWarning: Objective did not converge. You might want to increase the number of iterations, check the scale of the features or consider increasing regularisation. Duality gap: 5.363e-01, tolerance: 7.093e-02\n",
            "  model = cd_fast.enet_coordinate_descent(\n"
          ]
        }
      ],
      "source": [
        "# Lasso Regression for Zone 3\n",
        "lasso_model_3 = Lasso(alpha=0.1)\n",
        "lasso_model_3.fit(zone_datasets[3][0], zone_datasets[3][2])\n",
        "predictions_lasso_3 = lasso_model_3.predict(zone_datasets[3][1])\n",
        "mae_lasso_3 = mean_absolute_error(zone_datasets[3][3], predictions_lasso_3)\n",
        "rmse_lasso_3 = np.sqrt(mean_squared_error(zone_datasets[3][3], predictions_lasso_3))\n"
      ]
    },
    {
      "cell_type": "markdown",
      "id": "d80bce9c",
      "metadata": {
        "id": "d80bce9c"
      },
      "source": [
        "#  MAE and RMSE for each model"
      ]
    },
    {
      "cell_type": "code",
      "execution_count": 101,
      "id": "d3850930",
      "metadata": {
        "colab": {
          "base_uri": "https://localhost:8080/",
          "height": 0
        },
        "id": "d3850930",
        "outputId": "ab500c0e-c512-4eed-a280-49fdd6eb3aac"
      },
      "outputs": [
        {
          "output_type": "stream",
          "name": "stdout",
          "text": [
            "Zone 1 Evaluation Metrics:\n",
            "Linear Regression - MAE: 0.06555901947840792, RMSE: 0.11622359461770475\n",
            "Random Forest - MAE: 0.053174812263485055, RMSE: 0.10762606411912702\n",
            "GBM - MAE: 0.04997813424758209, RMSE: 0.10241261144172739\n",
            "LSTM - MAE: 0.18062077287156109, RMSE: 0.22778195378390337\n",
            "SVR - MAE: 0.10519259819740763, RMSE: 0.15383155460971062\n",
            "Lasso - MAE: 0.15489235751535896, RMSE: 0.20802276345837523\n",
            "\n",
            "Zone 2 Evaluation Metrics:\n",
            "Linear Regression - MAE: 0.06908735789219106, RMSE: 0.11797096677320378\n",
            "Random Forest - MAE: 0.055690300727498844, RMSE: 0.10876448384636399\n",
            "GBM - MAE: 0.051334557600139455, RMSE: 0.10294872677282059\n",
            "LSTM - MAE: 0.15594747314851645, RMSE: 0.20556113265994275\n",
            "SVR - MAE: 0.10324858834681541, RMSE: 0.1411171626155672\n",
            "Lasso - MAE: 0.14276807802367575, RMSE: 0.18827275893654888\n",
            "\n",
            "Zone 3 Evaluation Metrics:\n",
            "Linear Regression - MAE: 0.07254875136213325, RMSE: 0.1235777668626636\n",
            "Random Forest - MAE: 0.05835026816091953, RMSE: 0.1127891085493731\n",
            "GBM - MAE: 0.054343114542371, RMSE: 0.10555297197676491\n",
            "LSTM - MAE: 0.19538423644363742, RMSE: 0.24638327292630322\n",
            "SVR - MAE: 0.11378447884334178, RMSE: 0.16138357300205186\n",
            "Lasso - MAE: 0.16036470388447166, RMSE: 0.2121441218262716\n"
          ]
        }
      ],
      "source": [
        "print(\"Zone 1 Evaluation Metrics:\")\n",
        "print(f\"Linear Regression - MAE: {mae_lr}, RMSE: {rmse_lr}\")\n",
        "print(f\"Random Forest - MAE: {mae_rf}, RMSE: {rmse_rf}\")\n",
        "print(f\"GBM - MAE: {mae_gbm}, RMSE: {rmse_gbm}\")\n",
        "print(f\"LSTM - MAE: {mae_lstm}, RMSE: {rmse_lstm}\")\n",
        "print(f\"SVR - MAE: {mae_svr}, RMSE: {rmse_svr}\")\n",
        "print(f\"Lasso - MAE: {mae_lasso}, RMSE: {rmse_lasso}\")\n",
        "\n",
        "print(\"\\nZone 2 Evaluation Metrics:\")\n",
        "print(f\"Linear Regression - MAE: {mae_lr_2}, RMSE: {rmse_lr_2}\")\n",
        "print(f\"Random Forest - MAE: {mae_rf_2}, RMSE: {rmse_rf_2}\")\n",
        "print(f\"GBM - MAE: {mae_gbm_2}, RMSE: {rmse_gbm_2}\")\n",
        "print(f\"LSTM - MAE: {mae_lstm_2}, RMSE: {rmse_lstm_2}\")\n",
        "print(f\"SVR - MAE: {mae_svr_2}, RMSE: {rmse_svr_2}\")\n",
        "print(f\"Lasso - MAE: {mae_lasso_2}, RMSE: {rmse_lasso_2}\")\n",
        "\n",
        "print(\"\\nZone 3 Evaluation Metrics:\")\n",
        "print(f\"Linear Regression - MAE: {mae_lr_3}, RMSE: {rmse_lr_3}\")\n",
        "print(f\"Random Forest - MAE: {mae_rf_3}, RMSE: {rmse_rf_3}\")\n",
        "print(f\"GBM - MAE: {mae_gbm_3}, RMSE: {rmse_gbm_3}\")\n",
        "print(f\"LSTM - MAE: {mae_lstm_3}, RMSE: {rmse_lstm_3}\")\n",
        "print(f\"SVR - MAE: {mae_svr_3}, RMSE: {rmse_svr_3}\")\n",
        "print(f\"Lasso - MAE: {mae_lasso_3}, RMSE: {rmse_lasso_3}\")\n"
      ]
    }
  ],
  "metadata": {
    "kernelspec": {
      "display_name": "Python 3",
      "language": "python",
      "name": "python3"
    },
    "language_info": {
      "codemirror_mode": {
        "name": "ipython",
        "version": 3
      },
      "file_extension": ".py",
      "mimetype": "text/x-python",
      "name": "python",
      "nbconvert_exporter": "python",
      "pygments_lexer": "ipython3",
      "version": "3.8.8"
    },
    "colab": {
      "provenance": []
    }
  },
  "nbformat": 4,
  "nbformat_minor": 5
}