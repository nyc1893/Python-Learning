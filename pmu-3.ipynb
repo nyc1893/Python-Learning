{
 "cells": [
  {
   "cell_type": "code",
   "execution_count": 1,
   "id": "c28e22e8",
   "metadata": {},
   "outputs": [],
   "source": [
    "#pip install fate_client"
   ]
  },
  {
   "cell_type": "code",
   "execution_count": 2,
   "id": "2764053a",
   "metadata": {},
   "outputs": [
    {
     "name": "stdout",
     "output_type": "stream",
     "text": [
      "Requirement already satisfied: fate_client in /home/seyedmahmouds/anaconda3/lib/python3.9/site-packages (0.3.0.post1)\n",
      "Requirement already satisfied: requests>=2.24.0 in /home/seyedmahmouds/anaconda3/lib/python3.9/site-packages (from fate_client) (2.27.1)\n",
      "Requirement already satisfied: requests_toolbelt<0.10.0,>=0.9.1 in /home/seyedmahmouds/anaconda3/lib/python3.9/site-packages (from fate_client) (0.9.1)\n",
      "Requirement already satisfied: flask<2.0.0,>=1.0.2 in /home/seyedmahmouds/anaconda3/lib/python3.9/site-packages (from fate_client) (1.1.2)\n",
      "Requirement already satisfied: click<8.0.0,>=7.1.2 in /home/seyedmahmouds/anaconda3/lib/python3.9/site-packages (from fate_client) (7.1.2)\n",
      "Requirement already satisfied: ruamel.yaml<0.17.0,>=0.16.10 in /home/seyedmahmouds/anaconda3/lib/python3.9/site-packages (from fate_client) (0.16.13)\n",
      "Requirement already satisfied: tensorflow>=2.4.1 in /home/seyedmahmouds/anaconda3/lib/python3.9/site-packages (from fate_client) (2.10.0)\n",
      "Requirement already satisfied: setuptools<51.0,>=50.0 in /home/seyedmahmouds/anaconda3/lib/python3.9/site-packages (from fate_client) (50.3.2)\n",
      "Requirement already satisfied: loguru<0.6.0,>=0.5.1 in /home/seyedmahmouds/anaconda3/lib/python3.9/site-packages (from fate_client) (0.5.3)\n",
      "Requirement already satisfied: Werkzeug>=0.15 in /home/seyedmahmouds/anaconda3/lib/python3.9/site-packages (from flask<2.0.0,>=1.0.2->fate_client) (2.0.3)\n",
      "Requirement already satisfied: Jinja2>=2.10.1 in /home/seyedmahmouds/anaconda3/lib/python3.9/site-packages (from flask<2.0.0,>=1.0.2->fate_client) (2.11.3)\n",
      "Requirement already satisfied: itsdangerous>=0.24 in /home/seyedmahmouds/anaconda3/lib/python3.9/site-packages (from flask<2.0.0,>=1.0.2->fate_client) (2.0.1)\n",
      "Requirement already satisfied: certifi>=2017.4.17 in /home/seyedmahmouds/anaconda3/lib/python3.9/site-packages (from requests>=2.24.0->fate_client) (2021.10.8)\n",
      "Requirement already satisfied: urllib3<1.27,>=1.21.1 in /home/seyedmahmouds/anaconda3/lib/python3.9/site-packages (from requests>=2.24.0->fate_client) (1.26.9)\n",
      "Requirement already satisfied: charset-normalizer~=2.0.0 in /home/seyedmahmouds/anaconda3/lib/python3.9/site-packages (from requests>=2.24.0->fate_client) (2.0.4)\n",
      "Requirement already satisfied: idna<4,>=2.5 in /home/seyedmahmouds/anaconda3/lib/python3.9/site-packages (from requests>=2.24.0->fate_client) (3.3)\n",
      "Requirement already satisfied: ruamel.yaml.clib>=0.1.2 in /home/seyedmahmouds/anaconda3/lib/python3.9/site-packages (from ruamel.yaml<0.17.0,>=0.16.10->fate_client) (0.2.6)\n",
      "Requirement already satisfied: libclang>=13.0.0 in /home/seyedmahmouds/anaconda3/lib/python3.9/site-packages (from tensorflow>=2.4.1->fate_client) (14.0.6)\n",
      "Requirement already satisfied: keras<2.11,>=2.10.0 in /home/seyedmahmouds/anaconda3/lib/python3.9/site-packages (from tensorflow>=2.4.1->fate_client) (2.10.0)\n",
      "Requirement already satisfied: grpcio<2.0,>=1.24.3 in /home/seyedmahmouds/anaconda3/lib/python3.9/site-packages (from tensorflow>=2.4.1->fate_client) (1.42.0)\n",
      "Requirement already satisfied: protobuf<3.20,>=3.9.2 in /home/seyedmahmouds/anaconda3/lib/python3.9/site-packages (from tensorflow>=2.4.1->fate_client) (3.19.1)\n",
      "Requirement already satisfied: numpy>=1.20 in /home/seyedmahmouds/anaconda3/lib/python3.9/site-packages (from tensorflow>=2.4.1->fate_client) (1.21.5)\n",
      "Requirement already satisfied: tensorflow-io-gcs-filesystem>=0.23.1 in /home/seyedmahmouds/anaconda3/lib/python3.9/site-packages (from tensorflow>=2.4.1->fate_client) (0.26.0)\n",
      "Requirement already satisfied: typing-extensions>=3.6.6 in /home/seyedmahmouds/anaconda3/lib/python3.9/site-packages (from tensorflow>=2.4.1->fate_client) (4.1.1)\n",
      "Requirement already satisfied: six>=1.12.0 in /home/seyedmahmouds/anaconda3/lib/python3.9/site-packages (from tensorflow>=2.4.1->fate_client) (1.16.0)\n",
      "Requirement already satisfied: flatbuffers>=2.0 in /home/seyedmahmouds/anaconda3/lib/python3.9/site-packages (from tensorflow>=2.4.1->fate_client) (2.0.7)\n",
      "Requirement already satisfied: gast<=0.4.0,>=0.2.1 in /home/seyedmahmouds/anaconda3/lib/python3.9/site-packages (from tensorflow>=2.4.1->fate_client) (0.4.0)\n",
      "Requirement already satisfied: termcolor>=1.1.0 in /home/seyedmahmouds/anaconda3/lib/python3.9/site-packages (from tensorflow>=2.4.1->fate_client) (1.1.0)\n",
      "Requirement already satisfied: google-pasta>=0.1.1 in /home/seyedmahmouds/anaconda3/lib/python3.9/site-packages (from tensorflow>=2.4.1->fate_client) (0.2.0)\n",
      "Requirement already satisfied: wrapt>=1.11.0 in /home/seyedmahmouds/anaconda3/lib/python3.9/site-packages (from tensorflow>=2.4.1->fate_client) (1.12.1)\n",
      "Requirement already satisfied: tensorboard<2.11,>=2.10 in /home/seyedmahmouds/anaconda3/lib/python3.9/site-packages (from tensorflow>=2.4.1->fate_client) (2.10.0)\n",
      "Requirement already satisfied: tensorflow-estimator<2.11,>=2.10.0 in /home/seyedmahmouds/anaconda3/lib/python3.9/site-packages (from tensorflow>=2.4.1->fate_client) (2.10.0)\n",
      "Requirement already satisfied: opt-einsum>=2.3.2 in /home/seyedmahmouds/anaconda3/lib/python3.9/site-packages (from tensorflow>=2.4.1->fate_client) (3.3.0)\n",
      "Requirement already satisfied: astunparse>=1.6.0 in /home/seyedmahmouds/anaconda3/lib/python3.9/site-packages (from tensorflow>=2.4.1->fate_client) (1.6.3)\n",
      "Requirement already satisfied: packaging in /home/seyedmahmouds/anaconda3/lib/python3.9/site-packages (from tensorflow>=2.4.1->fate_client) (21.3)\n",
      "Requirement already satisfied: keras-preprocessing>=1.1.1 in /home/seyedmahmouds/anaconda3/lib/python3.9/site-packages (from tensorflow>=2.4.1->fate_client) (1.1.2)\n",
      "Requirement already satisfied: absl-py>=1.0.0 in /home/seyedmahmouds/anaconda3/lib/python3.9/site-packages (from tensorflow>=2.4.1->fate_client) (1.2.0)\n",
      "Requirement already satisfied: h5py>=2.9.0 in /home/seyedmahmouds/anaconda3/lib/python3.9/site-packages (from tensorflow>=2.4.1->fate_client) (3.6.0)\n",
      "Requirement already satisfied: wheel<1.0,>=0.23.0 in /home/seyedmahmouds/anaconda3/lib/python3.9/site-packages (from astunparse>=1.6.0->tensorflow>=2.4.1->fate_client) (0.37.1)\n",
      "Requirement already satisfied: MarkupSafe>=0.23 in /home/seyedmahmouds/anaconda3/lib/python3.9/site-packages (from Jinja2>=2.10.1->flask<2.0.0,>=1.0.2->fate_client) (2.0.1)\n",
      "Requirement already satisfied: markdown>=2.6.8 in /home/seyedmahmouds/anaconda3/lib/python3.9/site-packages (from tensorboard<2.11,>=2.10->tensorflow>=2.4.1->fate_client) (3.3.4)\n",
      "Requirement already satisfied: tensorboard-data-server<0.7.0,>=0.6.0 in /home/seyedmahmouds/anaconda3/lib/python3.9/site-packages (from tensorboard<2.11,>=2.10->tensorflow>=2.4.1->fate_client) (0.6.1)\n",
      "Requirement already satisfied: tensorboard-plugin-wit>=1.6.0 in /home/seyedmahmouds/anaconda3/lib/python3.9/site-packages (from tensorboard<2.11,>=2.10->tensorflow>=2.4.1->fate_client) (1.8.1)\n",
      "Requirement already satisfied: google-auth<3,>=1.6.3 in /home/seyedmahmouds/anaconda3/lib/python3.9/site-packages (from tensorboard<2.11,>=2.10->tensorflow>=2.4.1->fate_client) (1.33.0)\n",
      "Requirement already satisfied: google-auth-oauthlib<0.5,>=0.4.1 in /home/seyedmahmouds/anaconda3/lib/python3.9/site-packages (from tensorboard<2.11,>=2.10->tensorflow>=2.4.1->fate_client) (0.4.6)\n",
      "Requirement already satisfied: pyparsing!=3.0.5,>=2.0.2 in /home/seyedmahmouds/anaconda3/lib/python3.9/site-packages (from packaging->tensorflow>=2.4.1->fate_client) (3.0.4)\n",
      "Requirement already satisfied: pyasn1-modules>=0.2.1 in /home/seyedmahmouds/anaconda3/lib/python3.9/site-packages (from google-auth<3,>=1.6.3->tensorboard<2.11,>=2.10->tensorflow>=2.4.1->fate_client) (0.2.8)\n",
      "Requirement already satisfied: cachetools<5.0,>=2.0.0 in /home/seyedmahmouds/anaconda3/lib/python3.9/site-packages (from google-auth<3,>=1.6.3->tensorboard<2.11,>=2.10->tensorflow>=2.4.1->fate_client) (4.2.2)\n",
      "Requirement already satisfied: rsa<5,>=3.1.4 in /home/seyedmahmouds/anaconda3/lib/python3.9/site-packages (from google-auth<3,>=1.6.3->tensorboard<2.11,>=2.10->tensorflow>=2.4.1->fate_client) (4.7.2)\n",
      "Requirement already satisfied: requests-oauthlib>=0.7.0 in /home/seyedmahmouds/anaconda3/lib/python3.9/site-packages (from google-auth-oauthlib<0.5,>=0.4.1->tensorboard<2.11,>=2.10->tensorflow>=2.4.1->fate_client) (1.3.1)\n",
      "Requirement already satisfied: pyasn1<0.5.0,>=0.4.6 in /home/seyedmahmouds/anaconda3/lib/python3.9/site-packages (from pyasn1-modules>=0.2.1->google-auth<3,>=1.6.3->tensorboard<2.11,>=2.10->tensorflow>=2.4.1->fate_client) (0.4.8)\n"
     ]
    },
    {
     "name": "stdout",
     "output_type": "stream",
     "text": [
      "Requirement already satisfied: oauthlib>=3.0.0 in /home/seyedmahmouds/anaconda3/lib/python3.9/site-packages (from requests-oauthlib>=0.7.0->google-auth-oauthlib<0.5,>=0.4.1->tensorboard<2.11,>=2.10->tensorflow>=2.4.1->fate_client) (3.2.0)\n",
      "\n",
      "\u001b[1m[\u001b[0m\u001b[34;49mnotice\u001b[0m\u001b[1;39;49m]\u001b[0m\u001b[39;49m A new release of pip available: \u001b[0m\u001b[31;49m22.2.2\u001b[0m\u001b[39;49m -> \u001b[0m\u001b[32;49m22.3\u001b[0m\n",
      "\u001b[1m[\u001b[0m\u001b[34;49mnotice\u001b[0m\u001b[1;39;49m]\u001b[0m\u001b[39;49m To update, run: \u001b[0m\u001b[32;49mpip install --upgrade pip\u001b[0m\n"
     ]
    }
   ],
   "source": [
    "!pip install fate_client"
   ]
  },
  {
   "cell_type": "code",
   "execution_count": 3,
   "id": "9f32d0a9",
   "metadata": {},
   "outputs": [
    {
     "name": "stdout",
     "output_type": "stream",
     "text": [
      "Usage: pipeline [OPTIONS] COMMAND [ARGS]...\r\n",
      "\r\n",
      "Options:\r\n",
      "  --help  Show this message and exit.\r\n",
      "\r\n",
      "Commands:\r\n",
      "  init  \b - DESCRIPTION: Pipeline Config Command.\r\n"
     ]
    }
   ],
   "source": [
    "!pipeline --help"
   ]
  },
  {
   "cell_type": "code",
   "execution_count": 4,
   "id": "8f04cf50",
   "metadata": {},
   "outputs": [
    {
     "name": "stdout",
     "output_type": "stream",
     "text": [
      "Pipeline configuration succeeded.\r\n"
     ]
    }
   ],
   "source": [
    "!pipeline init --ip 127.0.0.1 --port 9380"
   ]
  },
  {
   "cell_type": "code",
   "execution_count": 5,
   "id": "38cd0923",
   "metadata": {},
   "outputs": [
    {
     "name": "stderr",
     "output_type": "stream",
     "text": [
      "2022-11-03 13:23:50.539601: I tensorflow/core/platform/cpu_feature_guard.cc:193] This TensorFlow binary is optimized with oneAPI Deep Neural Network Library (oneDNN) to use the following CPU instructions in performance-critical operations:  AVX2 FMA\n",
      "To enable them in other operations, rebuild TensorFlow with the appropriate compiler flags.\n",
      "2022-11-03 13:23:50.673706: W tensorflow/stream_executor/platform/default/dso_loader.cc:64] Could not load dynamic library 'libcudart.so.11.0'; dlerror: libcudart.so.11.0: cannot open shared object file: No such file or directory\n",
      "2022-11-03 13:23:50.673722: I tensorflow/stream_executor/cuda/cudart_stub.cc:29] Ignore above cudart dlerror if you do not have a GPU set up on your machine.\n",
      "2022-11-03 13:23:50.703390: E tensorflow/stream_executor/cuda/cuda_blas.cc:2981] Unable to register cuBLAS factory: Attempting to register factory for plugin cuBLAS when one has already been registered\n",
      "2022-11-03 13:23:51.334015: W tensorflow/stream_executor/platform/default/dso_loader.cc:64] Could not load dynamic library 'libnvinfer.so.7'; dlerror: libnvinfer.so.7: cannot open shared object file: No such file or directory\n",
      "2022-11-03 13:23:51.334098: W tensorflow/stream_executor/platform/default/dso_loader.cc:64] Could not load dynamic library 'libnvinfer_plugin.so.7'; dlerror: libnvinfer_plugin.so.7: cannot open shared object file: No such file or directory\n",
      "2022-11-03 13:23:51.334109: W tensorflow/compiler/tf2tensorrt/utils/py_utils.cc:38] TF-TRT Warning: Cannot dlopen some TensorRT libraries. If you would like to use Nvidia GPU with TensorRT, please make sure the missing libraries mentioned above are installed properly.\n"
     ]
    }
   ],
   "source": [
    "from pipeline.backend.pipeline import PipeLine\n",
    "import os"
   ]
  },
  {
   "cell_type": "code",
   "execution_count": 6,
   "id": "436cae9d",
   "metadata": {},
   "outputs": [],
   "source": [
    "# config\n",
    "partition = 1\n",
    "\n",
    "data_base_dir: \"/home/seyedmahmouds/python/FATE/standalone_fate_install_1.9.0_release/\"\n",
    "parties = []\n",
    "guest = 9999\n",
    "host = [10000 , 10001]\n",
    "arbiter = 10000\n",
    "\n",
    "namespace=\"\""
   ]
  },
  {
   "cell_type": "code",
   "execution_count": 7,
   "id": "dffe243b",
   "metadata": {},
   "outputs": [],
   "source": [
    "#pipeline_upload = PipeLine().set_initiator(role='guest', party_id=9999).set_roles(guest=9999)\n",
    "\n",
    "pipeline = PipeLine().set_initiator(role='guest', party_id=guest).set_roles(guest=guest, host=host, arbiter=arbiter)"
   ]
  },
  {
   "cell_type": "code",
   "execution_count": 8,
   "id": "f320cda7",
   "metadata": {},
   "outputs": [],
   "source": [
    "dense_data_guest = {\"name\": \"train0\", \"namespace\": f\"experiment\"}\n",
    "dense_data_host1 = {\"name\": \"train1\", \"namespace\": f\"experiment\"}\n",
    "dense_data_host2 = {\"name\": \"train2\", \"namespace\": f\"experiment\"}\n",
    "tag_data = {\"name\": \"X_test_idx\", \"namespace\": f\"experiment\"}\n",
    "\n",
    "\n",
    "#from homo sbt multi\n",
    "guest_train_data = {\"name\": \"train0\", \"namespace\": f\"experiment{namespace}\"}\n",
    "guest_validate_data = {\"name\": \"X_test_idx\", \"namespace\": f\"experiment{namespace}\"}\n",
    "\n",
    "host_train_data1 = {\"name\": \"train1\", \"namespace\": f\"experiment{namespace}\"}\n",
    "host_validate_data1 = {\"name\": \"X_test_idx\", \"namespace\": f\"experiment{namespace}\"}\n",
    "\n",
    "host_train_data2 = {\"name\": \"train2\", \"namespace\": f\"experiment{namespace}\"}\n",
    "host_validate_data2 = {\"name\": \"X_test_idx\", \"namespace\": f\"experiment{namespace}\"}"
   ]
  },
  {
   "cell_type": "code",
   "execution_count": 9,
   "id": "a46b5bf8",
   "metadata": {},
   "outputs": [
    {
     "name": "stdout",
     "output_type": "stream",
     "text": [
      " UPLOADING:||||||||||||||||||||||||||||||||||||||||||||||||||||||||||||||||||||||||||||||||||||||||||||||||||||100.00%\n"
     ]
    },
    {
     "name": "stderr",
     "output_type": "stream",
     "text": [
      "\u001b[32m2022-11-03 13:23:52.595\u001b[0m | \u001b[1mINFO    \u001b[0m | \u001b[36mpipeline.utils.invoker.job_submitter\u001b[0m:\u001b[36mmonitor_job_status\u001b[0m:\u001b[36m121\u001b[0m - \u001b[1mJob id is 202211031323522851770\n",
      "\u001b[0m\n",
      "\u001b[32m2022-11-03 13:23:52.606\u001b[0m | \u001b[1mINFO    \u001b[0m | \u001b[36mpipeline.utils.invoker.job_submitter\u001b[0m:\u001b[36mmonitor_job_status\u001b[0m:\u001b[36m142\u001b[0m - \u001b[1m\u001b[80D\u001b[1A\u001b[KJob is still waiting, time elapse: 0:00:00\u001b[0m\n",
      "\u001b[32m2022-11-03 13:23:53.134\u001b[0m | \u001b[1mINFO    \u001b[0m | \u001b[36mpipeline.utils.invoker.job_submitter\u001b[0m:\u001b[36mmonitor_job_status\u001b[0m:\u001b[36m142\u001b[0m - \u001b[1m\u001b[80D\u001b[1A\u001b[KJob is still waiting, time elapse: 0:00:00\u001b[0m\n",
      "\u001b[32m2022-11-03 13:23:53.681\u001b[0m | \u001b[1mINFO    \u001b[0m | \u001b[36mpipeline.utils.invoker.job_submitter\u001b[0m:\u001b[36mmonitor_job_status\u001b[0m:\u001b[36m142\u001b[0m - \u001b[1m\u001b[80D\u001b[1A\u001b[KJob is still waiting, time elapse: 0:00:01\u001b[0m\n",
      "\u001b[32m2022-11-03 13:23:54.196\u001b[0m | \u001b[1mINFO    \u001b[0m | \u001b[36mpipeline.utils.invoker.job_submitter\u001b[0m:\u001b[36mmonitor_job_status\u001b[0m:\u001b[36m142\u001b[0m - \u001b[1m\u001b[80D\u001b[1A\u001b[KJob is still waiting, time elapse: 0:00:01\u001b[0m\n",
      "\u001b[32m2022-11-03 13:23:54.711\u001b[0m | \u001b[1mINFO    \u001b[0m | \u001b[36mpipeline.utils.invoker.job_submitter\u001b[0m:\u001b[36mmonitor_job_status\u001b[0m:\u001b[36m142\u001b[0m - \u001b[1m\u001b[80D\u001b[1A\u001b[KJob is still waiting, time elapse: 0:00:02\u001b[0m\n",
      "\u001b[0mm2022-11-03 13:23:55.228\u001b[0m | \u001b[1mINFO    \u001b[0m | \u001b[36mpipeline.utils.invoker.job_submitter\u001b[0m:\u001b[36mmonitor_job_status\u001b[0m:\u001b[36m171\u001b[0m - \u001b[1m\n",
      "\u001b[32m2022-11-03 13:23:55.229\u001b[0m | \u001b[1mINFO    \u001b[0m | \u001b[36mpipeline.utils.invoker.job_submitter\u001b[0m:\u001b[36mmonitor_job_status\u001b[0m:\u001b[36m175\u001b[0m - \u001b[1m\u001b[80D\u001b[1A\u001b[KRunning component upload_0, time elapse: 0:00:02\u001b[0m\n",
      "\u001b[32m2022-11-03 13:23:55.748\u001b[0m | \u001b[1mINFO    \u001b[0m | \u001b[36mpipeline.utils.invoker.job_submitter\u001b[0m:\u001b[36mmonitor_job_status\u001b[0m:\u001b[36m175\u001b[0m - \u001b[1m\u001b[80D\u001b[1A\u001b[KRunning component upload_0, time elapse: 0:00:03\u001b[0m\n",
      "\u001b[32m2022-11-03 13:23:56.266\u001b[0m | \u001b[1mINFO    \u001b[0m | \u001b[36mpipeline.utils.invoker.job_submitter\u001b[0m:\u001b[36mmonitor_job_status\u001b[0m:\u001b[36m175\u001b[0m - \u001b[1m\u001b[80D\u001b[1A\u001b[KRunning component upload_0, time elapse: 0:00:03\u001b[0m\n",
      "\u001b[32m2022-11-03 13:23:56.784\u001b[0m | \u001b[1mINFO    \u001b[0m | \u001b[36mpipeline.utils.invoker.job_submitter\u001b[0m:\u001b[36mmonitor_job_status\u001b[0m:\u001b[36m175\u001b[0m - \u001b[1m\u001b[80D\u001b[1A\u001b[KRunning component upload_0, time elapse: 0:00:04\u001b[0m\n",
      "\u001b[32m2022-11-03 13:23:57.374\u001b[0m | \u001b[1mINFO    \u001b[0m | \u001b[36mpipeline.utils.invoker.job_submitter\u001b[0m:\u001b[36mmonitor_job_status\u001b[0m:\u001b[36m175\u001b[0m - \u001b[1m\u001b[80D\u001b[1A\u001b[KRunning component upload_0, time elapse: 0:00:04\u001b[0m\n",
      "\u001b[32m2022-11-03 13:23:57.902\u001b[0m | \u001b[1mINFO    \u001b[0m | \u001b[36mpipeline.utils.invoker.job_submitter\u001b[0m:\u001b[36mmonitor_job_status\u001b[0m:\u001b[36m175\u001b[0m - \u001b[1m\u001b[80D\u001b[1A\u001b[KRunning component upload_0, time elapse: 0:00:05\u001b[0m\n",
      "\u001b[32m2022-11-03 13:23:58.429\u001b[0m | \u001b[1mINFO    \u001b[0m | \u001b[36mpipeline.utils.invoker.job_submitter\u001b[0m:\u001b[36mmonitor_job_status\u001b[0m:\u001b[36m175\u001b[0m - \u001b[1m\u001b[80D\u001b[1A\u001b[KRunning component upload_0, time elapse: 0:00:05\u001b[0m\n",
      "\u001b[32m2022-11-03 13:23:58.946\u001b[0m | \u001b[1mINFO    \u001b[0m | \u001b[36mpipeline.utils.invoker.job_submitter\u001b[0m:\u001b[36mmonitor_job_status\u001b[0m:\u001b[36m175\u001b[0m - \u001b[1m\u001b[80D\u001b[1A\u001b[KRunning component upload_0, time elapse: 0:00:06\u001b[0m\n",
      "\u001b[32m2022-11-03 13:23:59.491\u001b[0m | \u001b[1mINFO    \u001b[0m | \u001b[36mpipeline.utils.invoker.job_submitter\u001b[0m:\u001b[36mmonitor_job_status\u001b[0m:\u001b[36m175\u001b[0m - \u001b[1m\u001b[80D\u001b[1A\u001b[KRunning component upload_0, time elapse: 0:00:06\u001b[0m\n",
      "\u001b[32m2022-11-03 13:23:59.999\u001b[0m | \u001b[1mINFO    \u001b[0m | \u001b[36mpipeline.utils.invoker.job_submitter\u001b[0m:\u001b[36mmonitor_job_status\u001b[0m:\u001b[36m129\u001b[0m - \u001b[1mJob is success!!! Job id is 202211031323522851770\u001b[0m\n",
      "\u001b[32m2022-11-03 13:24:00.000\u001b[0m | \u001b[1mINFO    \u001b[0m | \u001b[36mpipeline.utils.invoker.job_submitter\u001b[0m:\u001b[36mmonitor_job_status\u001b[0m:\u001b[36m130\u001b[0m - \u001b[1mTotal time: 0:00:07\u001b[0m\n"
     ]
    },
    {
     "name": "stdout",
     "output_type": "stream",
     "text": [
      " UPLOADING:||||||||||||||||||||||||||||||||||||||||||||||||||||||||||||||||||||||||||||||||||||||||||||||||||||100.00%\n"
     ]
    },
    {
     "name": "stderr",
     "output_type": "stream",
     "text": [
      "\u001b[32m2022-11-03 13:24:00.360\u001b[0m | \u001b[1mINFO    \u001b[0m | \u001b[36mpipeline.utils.invoker.job_submitter\u001b[0m:\u001b[36mmonitor_job_status\u001b[0m:\u001b[36m121\u001b[0m - \u001b[1mJob id is 202211031324000065880\n",
      "\u001b[0m\n",
      "\u001b[32m2022-11-03 13:24:00.369\u001b[0m | \u001b[1mINFO    \u001b[0m | \u001b[36mpipeline.utils.invoker.job_submitter\u001b[0m:\u001b[36mmonitor_job_status\u001b[0m:\u001b[36m142\u001b[0m - \u001b[1m\u001b[80D\u001b[1A\u001b[KJob is still waiting, time elapse: 0:00:00\u001b[0m\n",
      "\u001b[32m2022-11-03 13:24:00.884\u001b[0m | \u001b[1mINFO    \u001b[0m | \u001b[36mpipeline.utils.invoker.job_submitter\u001b[0m:\u001b[36mmonitor_job_status\u001b[0m:\u001b[36m142\u001b[0m - \u001b[1m\u001b[80D\u001b[1A\u001b[KJob is still waiting, time elapse: 0:00:00\u001b[0m\n",
      "\u001b[32m2022-11-03 13:24:01.401\u001b[0m | \u001b[1mINFO    \u001b[0m | \u001b[36mpipeline.utils.invoker.job_submitter\u001b[0m:\u001b[36mmonitor_job_status\u001b[0m:\u001b[36m142\u001b[0m - \u001b[1m\u001b[80D\u001b[1A\u001b[KJob is still waiting, time elapse: 0:00:01\u001b[0m\n",
      "\u001b[32m2022-11-03 13:24:01.916\u001b[0m | \u001b[1mINFO    \u001b[0m | \u001b[36mpipeline.utils.invoker.job_submitter\u001b[0m:\u001b[36mmonitor_job_status\u001b[0m:\u001b[36m142\u001b[0m - \u001b[1m\u001b[80D\u001b[1A\u001b[KJob is still waiting, time elapse: 0:00:01\u001b[0m\n",
      "\u001b[0mm2022-11-03 13:24:02.433\u001b[0m | \u001b[1mINFO    \u001b[0m | \u001b[36mpipeline.utils.invoker.job_submitter\u001b[0m:\u001b[36mmonitor_job_status\u001b[0m:\u001b[36m171\u001b[0m - \u001b[1m\n",
      "\u001b[32m2022-11-03 13:24:02.434\u001b[0m | \u001b[1mINFO    \u001b[0m | \u001b[36mpipeline.utils.invoker.job_submitter\u001b[0m:\u001b[36mmonitor_job_status\u001b[0m:\u001b[36m175\u001b[0m - \u001b[1m\u001b[80D\u001b[1A\u001b[KRunning component upload_0, time elapse: 0:00:02\u001b[0m\n",
      "\u001b[32m2022-11-03 13:24:02.951\u001b[0m | \u001b[1mINFO    \u001b[0m | \u001b[36mpipeline.utils.invoker.job_submitter\u001b[0m:\u001b[36mmonitor_job_status\u001b[0m:\u001b[36m175\u001b[0m - \u001b[1m\u001b[80D\u001b[1A\u001b[KRunning component upload_0, time elapse: 0:00:02\u001b[0m\n",
      "\u001b[32m2022-11-03 13:24:03.468\u001b[0m | \u001b[1mINFO    \u001b[0m | \u001b[36mpipeline.utils.invoker.job_submitter\u001b[0m:\u001b[36mmonitor_job_status\u001b[0m:\u001b[36m175\u001b[0m - \u001b[1m\u001b[80D\u001b[1A\u001b[KRunning component upload_0, time elapse: 0:00:03\u001b[0m\n",
      "\u001b[32m2022-11-03 13:24:03.988\u001b[0m | \u001b[1mINFO    \u001b[0m | \u001b[36mpipeline.utils.invoker.job_submitter\u001b[0m:\u001b[36mmonitor_job_status\u001b[0m:\u001b[36m175\u001b[0m - \u001b[1m\u001b[80D\u001b[1A\u001b[KRunning component upload_0, time elapse: 0:00:03\u001b[0m\n",
      "\u001b[32m2022-11-03 13:24:04.533\u001b[0m | \u001b[1mINFO    \u001b[0m | \u001b[36mpipeline.utils.invoker.job_submitter\u001b[0m:\u001b[36mmonitor_job_status\u001b[0m:\u001b[36m175\u001b[0m - \u001b[1m\u001b[80D\u001b[1A\u001b[KRunning component upload_0, time elapse: 0:00:04\u001b[0m\n",
      "\u001b[32m2022-11-03 13:24:05.059\u001b[0m | \u001b[1mINFO    \u001b[0m | \u001b[36mpipeline.utils.invoker.job_submitter\u001b[0m:\u001b[36mmonitor_job_status\u001b[0m:\u001b[36m175\u001b[0m - \u001b[1m\u001b[80D\u001b[1A\u001b[KRunning component upload_0, time elapse: 0:00:04\u001b[0m\n",
      "\u001b[32m2022-11-03 13:24:05.622\u001b[0m | \u001b[1mINFO    \u001b[0m | \u001b[36mpipeline.utils.invoker.job_submitter\u001b[0m:\u001b[36mmonitor_job_status\u001b[0m:\u001b[36m175\u001b[0m - \u001b[1m\u001b[80D\u001b[1A\u001b[KRunning component upload_0, time elapse: 0:00:05\u001b[0m\n",
      "\u001b[32m2022-11-03 13:24:06.180\u001b[0m | \u001b[1mINFO    \u001b[0m | \u001b[36mpipeline.utils.invoker.job_submitter\u001b[0m:\u001b[36mmonitor_job_status\u001b[0m:\u001b[36m175\u001b[0m - \u001b[1m\u001b[80D\u001b[1A\u001b[KRunning component upload_0, time elapse: 0:00:05\u001b[0m\n",
      "\u001b[32m2022-11-03 13:24:06.737\u001b[0m | \u001b[1mINFO    \u001b[0m | \u001b[36mpipeline.utils.invoker.job_submitter\u001b[0m:\u001b[36mmonitor_job_status\u001b[0m:\u001b[36m175\u001b[0m - \u001b[1m\u001b[80D\u001b[1A\u001b[KRunning component upload_0, time elapse: 0:00:06\u001b[0m\n",
      "\u001b[32m2022-11-03 13:24:07.254\u001b[0m | \u001b[1mINFO    \u001b[0m | \u001b[36mpipeline.utils.invoker.job_submitter\u001b[0m:\u001b[36mmonitor_job_status\u001b[0m:\u001b[36m129\u001b[0m - \u001b[1mJob is success!!! Job id is 202211031324000065880\u001b[0m\n",
      "\u001b[32m2022-11-03 13:24:07.254\u001b[0m | \u001b[1mINFO    \u001b[0m | \u001b[36mpipeline.utils.invoker.job_submitter\u001b[0m:\u001b[36mmonitor_job_status\u001b[0m:\u001b[36m130\u001b[0m - \u001b[1mTotal time: 0:00:06\u001b[0m\n"
     ]
    },
    {
     "name": "stdout",
     "output_type": "stream",
     "text": [
      " UPLOADING:||||||||||||||||||||||||||||||||||||||||||||||||||||||||||||||||||||||||||||||||||||||||||||||||||||100.00%\n"
     ]
    },
    {
     "name": "stderr",
     "output_type": "stream",
     "text": [
      "\u001b[32m2022-11-03 13:24:07.580\u001b[0m | \u001b[1mINFO    \u001b[0m | \u001b[36mpipeline.utils.invoker.job_submitter\u001b[0m:\u001b[36mmonitor_job_status\u001b[0m:\u001b[36m121\u001b[0m - \u001b[1mJob id is 202211031324072592700\n",
      "\u001b[0m\n",
      "\u001b[32m2022-11-03 13:24:07.594\u001b[0m | \u001b[1mINFO    \u001b[0m | \u001b[36mpipeline.utils.invoker.job_submitter\u001b[0m:\u001b[36mmonitor_job_status\u001b[0m:\u001b[36m142\u001b[0m - \u001b[1m\u001b[80D\u001b[1A\u001b[KJob is still waiting, time elapse: 0:00:00\u001b[0m\n",
      "\u001b[32m2022-11-03 13:24:08.110\u001b[0m | \u001b[1mINFO    \u001b[0m | \u001b[36mpipeline.utils.invoker.job_submitter\u001b[0m:\u001b[36mmonitor_job_status\u001b[0m:\u001b[36m142\u001b[0m - \u001b[1m\u001b[80D\u001b[1A\u001b[KJob is still waiting, time elapse: 0:00:00\u001b[0m\n",
      "\u001b[32m2022-11-03 13:24:08.626\u001b[0m | \u001b[1mINFO    \u001b[0m | \u001b[36mpipeline.utils.invoker.job_submitter\u001b[0m:\u001b[36mmonitor_job_status\u001b[0m:\u001b[36m142\u001b[0m - \u001b[1m\u001b[80D\u001b[1A\u001b[KJob is still waiting, time elapse: 0:00:01\u001b[0m\n",
      "\u001b[32m2022-11-03 13:24:09.143\u001b[0m | \u001b[1mINFO    \u001b[0m | \u001b[36mpipeline.utils.invoker.job_submitter\u001b[0m:\u001b[36mmonitor_job_status\u001b[0m:\u001b[36m142\u001b[0m - \u001b[1m\u001b[80D\u001b[1A\u001b[KJob is still waiting, time elapse: 0:00:01\u001b[0m\n",
      "\u001b[0mm2022-11-03 13:24:09.663\u001b[0m | \u001b[1mINFO    \u001b[0m | \u001b[36mpipeline.utils.invoker.job_submitter\u001b[0m:\u001b[36mmonitor_job_status\u001b[0m:\u001b[36m171\u001b[0m - \u001b[1m\n",
      "\u001b[32m2022-11-03 13:24:09.664\u001b[0m | \u001b[1mINFO    \u001b[0m | \u001b[36mpipeline.utils.invoker.job_submitter\u001b[0m:\u001b[36mmonitor_job_status\u001b[0m:\u001b[36m175\u001b[0m - \u001b[1m\u001b[80D\u001b[1A\u001b[KRunning component upload_0, time elapse: 0:00:02\u001b[0m\n",
      "\u001b[32m2022-11-03 13:24:10.181\u001b[0m | \u001b[1mINFO    \u001b[0m | \u001b[36mpipeline.utils.invoker.job_submitter\u001b[0m:\u001b[36mmonitor_job_status\u001b[0m:\u001b[36m175\u001b[0m - \u001b[1m\u001b[80D\u001b[1A\u001b[KRunning component upload_0, time elapse: 0:00:02\u001b[0m\n",
      "\u001b[32m2022-11-03 13:24:10.698\u001b[0m | \u001b[1mINFO    \u001b[0m | \u001b[36mpipeline.utils.invoker.job_submitter\u001b[0m:\u001b[36mmonitor_job_status\u001b[0m:\u001b[36m175\u001b[0m - \u001b[1m\u001b[80D\u001b[1A\u001b[KRunning component upload_0, time elapse: 0:00:03\u001b[0m\n",
      "\u001b[32m2022-11-03 13:24:11.215\u001b[0m | \u001b[1mINFO    \u001b[0m | \u001b[36mpipeline.utils.invoker.job_submitter\u001b[0m:\u001b[36mmonitor_job_status\u001b[0m:\u001b[36m175\u001b[0m - \u001b[1m\u001b[80D\u001b[1A\u001b[KRunning component upload_0, time elapse: 0:00:03\u001b[0m\n",
      "\u001b[32m2022-11-03 13:24:11.747\u001b[0m | \u001b[1mINFO    \u001b[0m | \u001b[36mpipeline.utils.invoker.job_submitter\u001b[0m:\u001b[36mmonitor_job_status\u001b[0m:\u001b[36m175\u001b[0m - \u001b[1m\u001b[80D\u001b[1A\u001b[KRunning component upload_0, time elapse: 0:00:04\u001b[0m\n",
      "\u001b[32m2022-11-03 13:24:12.260\u001b[0m | \u001b[1mINFO    \u001b[0m | \u001b[36mpipeline.utils.invoker.job_submitter\u001b[0m:\u001b[36mmonitor_job_status\u001b[0m:\u001b[36m129\u001b[0m - \u001b[1mJob is success!!! Job id is 202211031324072592700\u001b[0m\n",
      "\u001b[32m2022-11-03 13:24:12.261\u001b[0m | \u001b[1mINFO    \u001b[0m | \u001b[36mpipeline.utils.invoker.job_submitter\u001b[0m:\u001b[36mmonitor_job_status\u001b[0m:\u001b[36m130\u001b[0m - \u001b[1mTotal time: 0:00:04\u001b[0m\n"
     ]
    },
    {
     "name": "stdout",
     "output_type": "stream",
     "text": [
      " UPLOADING:||||||||||||||||||||||||||||||||||||||||||||||||||||||||||||||||||||||||||||||||||||||||||||||||||||100.00%\n"
     ]
    },
    {
     "name": "stderr",
     "output_type": "stream",
     "text": [
      "\u001b[32m2022-11-03 13:24:12.537\u001b[0m | \u001b[1mINFO    \u001b[0m | \u001b[36mpipeline.utils.invoker.job_submitter\u001b[0m:\u001b[36mmonitor_job_status\u001b[0m:\u001b[36m121\u001b[0m - \u001b[1mJob id is 202211031324122667760\n",
      "\u001b[0m\n",
      "\u001b[32m2022-11-03 13:24:12.546\u001b[0m | \u001b[1mINFO    \u001b[0m | \u001b[36mpipeline.utils.invoker.job_submitter\u001b[0m:\u001b[36mmonitor_job_status\u001b[0m:\u001b[36m142\u001b[0m - \u001b[1m\u001b[80D\u001b[1A\u001b[KJob is still waiting, time elapse: 0:00:00\u001b[0m\n",
      "\u001b[32m2022-11-03 13:24:13.062\u001b[0m | \u001b[1mINFO    \u001b[0m | \u001b[36mpipeline.utils.invoker.job_submitter\u001b[0m:\u001b[36mmonitor_job_status\u001b[0m:\u001b[36m142\u001b[0m - \u001b[1m\u001b[80D\u001b[1A\u001b[KJob is still waiting, time elapse: 0:00:00\u001b[0m\n",
      "\u001b[32m2022-11-03 13:24:13.589\u001b[0m | \u001b[1mINFO    \u001b[0m | \u001b[36mpipeline.utils.invoker.job_submitter\u001b[0m:\u001b[36mmonitor_job_status\u001b[0m:\u001b[36m142\u001b[0m - \u001b[1m\u001b[80D\u001b[1A\u001b[KJob is still waiting, time elapse: 0:00:01\u001b[0m\n",
      "\u001b[32m2022-11-03 13:24:14.119\u001b[0m | \u001b[1mINFO    \u001b[0m | \u001b[36mpipeline.utils.invoker.job_submitter\u001b[0m:\u001b[36mmonitor_job_status\u001b[0m:\u001b[36m142\u001b[0m - \u001b[1m\u001b[80D\u001b[1A\u001b[KJob is still waiting, time elapse: 0:00:01\u001b[0m\n",
      "\u001b[32m2022-11-03 13:24:14.640\u001b[0m | \u001b[1mINFO    \u001b[0m | \u001b[36mpipeline.utils.invoker.job_submitter\u001b[0m:\u001b[36mmonitor_job_status\u001b[0m:\u001b[36m142\u001b[0m - \u001b[1m\u001b[80D\u001b[1A\u001b[KJob is still waiting, time elapse: 0:00:02\u001b[0m\n",
      "\u001b[0mm2022-11-03 13:24:15.157\u001b[0m | \u001b[1mINFO    \u001b[0m | \u001b[36mpipeline.utils.invoker.job_submitter\u001b[0m:\u001b[36mmonitor_job_status\u001b[0m:\u001b[36m171\u001b[0m - \u001b[1m\n",
      "\u001b[32m2022-11-03 13:24:15.158\u001b[0m | \u001b[1mINFO    \u001b[0m | \u001b[36mpipeline.utils.invoker.job_submitter\u001b[0m:\u001b[36mmonitor_job_status\u001b[0m:\u001b[36m175\u001b[0m - \u001b[1m\u001b[80D\u001b[1A\u001b[KRunning component upload_0, time elapse: 0:00:02\u001b[0m\n",
      "\u001b[32m2022-11-03 13:24:15.689\u001b[0m | \u001b[1mINFO    \u001b[0m | \u001b[36mpipeline.utils.invoker.job_submitter\u001b[0m:\u001b[36mmonitor_job_status\u001b[0m:\u001b[36m175\u001b[0m - \u001b[1m\u001b[80D\u001b[1A\u001b[KRunning component upload_0, time elapse: 0:00:03\u001b[0m\n",
      "\u001b[32m2022-11-03 13:24:16.207\u001b[0m | \u001b[1mINFO    \u001b[0m | \u001b[36mpipeline.utils.invoker.job_submitter\u001b[0m:\u001b[36mmonitor_job_status\u001b[0m:\u001b[36m175\u001b[0m - \u001b[1m\u001b[80D\u001b[1A\u001b[KRunning component upload_0, time elapse: 0:00:03\u001b[0m\n",
      "\u001b[32m2022-11-03 13:24:16.724\u001b[0m | \u001b[1mINFO    \u001b[0m | \u001b[36mpipeline.utils.invoker.job_submitter\u001b[0m:\u001b[36mmonitor_job_status\u001b[0m:\u001b[36m175\u001b[0m - \u001b[1m\u001b[80D\u001b[1A\u001b[KRunning component upload_0, time elapse: 0:00:04\u001b[0m\n",
      "\u001b[32m2022-11-03 13:24:17.787\u001b[0m | \u001b[1mINFO    \u001b[0m | \u001b[36mpipeline.utils.invoker.job_submitter\u001b[0m:\u001b[36mmonitor_job_status\u001b[0m:\u001b[36m129\u001b[0m - \u001b[1mJob is success!!! Job id is 202211031324122667760\u001b[0m\n",
      "\u001b[32m2022-11-03 13:24:17.790\u001b[0m | \u001b[1mINFO    \u001b[0m | \u001b[36mpipeline.utils.invoker.job_submitter\u001b[0m:\u001b[36mmonitor_job_status\u001b[0m:\u001b[36m130\u001b[0m - \u001b[1mTotal time: 0:00:05\u001b[0m\n"
     ]
    }
   ],
   "source": [
    "data_base = \"/home/seyedmahmouds/python/FATE/standalone_fate_install_1.9.0_release/\"\n",
    "#os.chdir(data_base)\n",
    "pipeline.add_upload_data(file=os.path.join(data_base, \"examples/data/train0_non_iid_ks.csv\"),\n",
    "                                table_name=dense_data_guest[\"name\"],             # table name\n",
    "                                namespace=dense_data_guest[\"namespace\"],         # namespace\n",
    "                                head=1, partition=partition)               # data info\n",
    "\n",
    "pipeline.add_upload_data(file=os.path.join(data_base, \"examples/data/train1_non_iid_ks.csv\"),\n",
    "                                table_name=dense_data_host1[\"name\"],\n",
    "                                namespace=dense_data_host1[\"namespace\"],\n",
    "                                head=1, partition=partition)\n",
    "\n",
    "pipeline.add_upload_data(file=os.path.join(data_base, \"examples/data/train2_non_iid_ks.csv\"),\n",
    "                                table_name=dense_data_host2[\"name\"],\n",
    "                                namespace=dense_data_host2[\"namespace\"],\n",
    "                                head=1, partition=partition)\n",
    "\n",
    "pipeline.add_upload_data(file=os.path.join(data_base, \"examples/data/X_test_idx.csv\"),\n",
    "                                table_name=tag_data[\"name\"],\n",
    "                                namespace=tag_data[\"namespace\"],\n",
    "                                head=1, partition=partition)\n",
    "os.getcwd()\n",
    "pipeline.upload(drop=1)\n",
    "#file"
   ]
  },
  {
   "cell_type": "code",
   "execution_count": null,
   "id": "7383eb62",
   "metadata": {},
   "outputs": [],
   "source": []
  },
  {
   "cell_type": "code",
   "execution_count": 10,
   "id": "07978b9b",
   "metadata": {},
   "outputs": [],
   "source": [
    "import argparse\n",
    "\n",
    "from pipeline.backend.pipeline import PipeLine\n",
    "from pipeline.component import DataTransform\n",
    "from pipeline.component.homo_secureboost import HomoSecureBoost\n",
    "from pipeline.component import Reader, DataTransform, Intersection, HeteroSecureBoost, Evaluation\n",
    "from pipeline.component.reader import Reader\n",
    "from pipeline.interface.data import Data\n",
    "from pipeline.component.evaluation import Evaluation\n",
    "from pipeline.interface.model import Model\n",
    "\n",
    "from pipeline.utils.tools import load_job_config"
   ]
  },
  {
   "cell_type": "code",
   "execution_count": 11,
   "id": "01987089",
   "metadata": {},
   "outputs": [],
   "source": [
    "pipeline = PipeLine().set_initiator(role='guest', party_id=guest).set_roles(guest=guest, host=host, arbiter=arbiter)"
   ]
  },
  {
   "cell_type": "code",
   "execution_count": 12,
   "id": "324212a1",
   "metadata": {},
   "outputs": [],
   "source": [
    "data_transform_0, data_transform_1, data_transform_2 = DataTransform(name=\"data_transform_0\"), DataTransform(name='data_transform_1'), DataTransform(name='data_transform_2')\n",
    "reader_0, reader_1, reader_2 = Reader(name=\"reader_0\"), Reader(name='reader_1'), Reader(name='reader_2')"
   ]
  },
  {
   "cell_type": "code",
   "execution_count": 13,
   "id": "e7357999",
   "metadata": {},
   "outputs": [
    {
     "data": {
      "text/plain": [
       "10001"
      ]
     },
     "execution_count": 13,
     "metadata": {},
     "output_type": "execute_result"
    }
   ],
   "source": [
    "host[1]"
   ]
  },
  {
   "cell_type": "code",
   "execution_count": 14,
   "id": "5f3e7495",
   "metadata": {},
   "outputs": [],
   "source": [
    "reader_0.get_party_instance(role='guest', party_id=guest).component_param(table=guest_train_data)\n",
    "reader_0.get_party_instance(role='host', party_id=host[0]).component_param(table=host_train_data1)\n",
    "reader_0.get_party_instance(role='host', party_id=host[1]).component_param(table=host_train_data2)\n",
    "data_transform_0.get_party_instance(\n",
    "    role='guest', party_id=guest).component_param(\n",
    "    with_label=True, output_format=\"dense\")\n",
    "data_transform_0.get_party_instance(\n",
    "    role='host', party_id=host[0]).component_param(\n",
    "    with_label=True, output_format=\"dense\")\n",
    "data_transform_0.get_party_instance(\n",
    "    role='host', party_id=host[1]).component_param(\n",
    "    with_label=True, output_format=\"dense\")\n",
    "reader_1.get_party_instance(role='guest', party_id=guest).component_param(table=guest_validate_data)\n",
    "reader_1.get_party_instance(role='host', party_id=host[0]).component_param(table=host_validate_data1)\n",
    "reader_1.get_party_instance(role='host', party_id=host[1]).component_param(table=host_validate_data2)\n",
    "data_transform_1.get_party_instance(\n",
    "    role='guest', party_id=guest).component_param(\n",
    "    with_label=True, output_format=\"dense\")\n",
    "data_transform_1.get_party_instance(\n",
    "    role='host', party_id=host[0]).component_param(\n",
    "    with_label=True, output_format=\"dense\")\n",
    "data_transform_1.get_party_instance(\n",
    "    role='host', party_id=host[1]).component_param(\n",
    "    with_label=True, output_format=\"dense\")"
   ]
  },
  {
   "cell_type": "code",
   "execution_count": 15,
   "id": "18b7042e",
   "metadata": {},
   "outputs": [],
   "source": [
    "homo_secureboost_0 = HomoSecureBoost(name=\"homo_secureboost_0\",\n",
    "                                     num_trees=5,\n",
    "                                     task_type='classification',\n",
    "                                     learning_rate=0.3,\n",
    "                                     objective_param={\"objective\": \"cross_entropy\"},\n",
    "                                     tree_param={\n",
    "                                         \"max_depth\": 2,\n",
    "                                         \"min_sample_split\": 10,\n",
    "                                     },\n",
    "                                     validation_freqs=1\n",
    "                                     )"
   ]
  },
  {
   "cell_type": "code",
   "execution_count": 16,
   "id": "1623e6bc",
   "metadata": {},
   "outputs": [
    {
     "data": {
      "text/plain": [
       "<pipeline.backend.pipeline.PipeLine at 0x7ff4b61f4fd0>"
      ]
     },
     "execution_count": 16,
     "metadata": {},
     "output_type": "execute_result"
    }
   ],
   "source": [
    "evaluation_0 = Evaluation(name='evaluation_0', eval_type='multi')\n",
    "pipeline.add_component(reader_0)\n",
    "pipeline.add_component(data_transform_0, data=Data(data=reader_0.output.data))\n",
    "pipeline.add_component(reader_1)\n",
    "pipeline.add_component(\n",
    "    data_transform_1, data=Data(\n",
    "        data=reader_1.output.data), model=Model(\n",
    "        data_transform_0.output.model))\n",
    "pipeline.add_component(homo_secureboost_0, data=Data(train_data=data_transform_0.output.data,\n",
    "                                                     validate_data=data_transform_1.output.data\n",
    "                                                     ))\n",
    "pipeline.add_component(evaluation_0, data=Data(homo_secureboost_0.output.data))"
   ]
  },
  {
   "cell_type": "code",
   "execution_count": 17,
   "id": "dc5dfa14",
   "metadata": {},
   "outputs": [
    {
     "data": {
      "text/plain": [
       "<pipeline.backend.pipeline.PipeLine at 0x7ff4b61f4fd0>"
      ]
     },
     "execution_count": 17,
     "metadata": {},
     "output_type": "execute_result"
    }
   ],
   "source": [
    "pipeline.compile()"
   ]
  },
  {
   "cell_type": "code",
   "execution_count": 18,
   "id": "0d708c76",
   "metadata": {},
   "outputs": [
    {
     "name": "stderr",
     "output_type": "stream",
     "text": [
      "\u001b[32m2022-11-03 13:24:18.567\u001b[0m | \u001b[1mINFO    \u001b[0m | \u001b[36mpipeline.utils.invoker.job_submitter\u001b[0m:\u001b[36mmonitor_job_status\u001b[0m:\u001b[36m121\u001b[0m - \u001b[1mJob id is 202211031324179016620\n",
      "\u001b[0m\n",
      "\u001b[32m2022-11-03 13:24:18.575\u001b[0m | \u001b[1mINFO    \u001b[0m | \u001b[36mpipeline.utils.invoker.job_submitter\u001b[0m:\u001b[36mmonitor_job_status\u001b[0m:\u001b[36m142\u001b[0m - \u001b[1m\u001b[80D\u001b[1A\u001b[KJob is still waiting, time elapse: 0:00:00\u001b[0m\n",
      "\u001b[32m2022-11-03 13:24:19.091\u001b[0m | \u001b[1mINFO    \u001b[0m | \u001b[36mpipeline.utils.invoker.job_submitter\u001b[0m:\u001b[36mmonitor_job_status\u001b[0m:\u001b[36m142\u001b[0m - \u001b[1m\u001b[80D\u001b[1A\u001b[KJob is still waiting, time elapse: 0:00:00\u001b[0m\n",
      "\u001b[0mm2022-11-03 13:24:20.162\u001b[0m | \u001b[1mINFO    \u001b[0m | \u001b[36mpipeline.utils.invoker.job_submitter\u001b[0m:\u001b[36mmonitor_job_status\u001b[0m:\u001b[36m171\u001b[0m - \u001b[1m\n",
      "\u001b[32m2022-11-03 13:24:20.162\u001b[0m | \u001b[1mINFO    \u001b[0m | \u001b[36mpipeline.utils.invoker.job_submitter\u001b[0m:\u001b[36mmonitor_job_status\u001b[0m:\u001b[36m175\u001b[0m - \u001b[1m\u001b[80D\u001b[1A\u001b[KRunning component reader_0, time elapse: 0:00:01\u001b[0m\n",
      "\u001b[32m2022-11-03 13:24:20.758\u001b[0m | \u001b[1mINFO    \u001b[0m | \u001b[36mpipeline.utils.invoker.job_submitter\u001b[0m:\u001b[36mmonitor_job_status\u001b[0m:\u001b[36m175\u001b[0m - \u001b[1m\u001b[80D\u001b[1A\u001b[KRunning component reader_0, time elapse: 0:00:02\u001b[0m\n",
      "\u001b[32m2022-11-03 13:24:21.281\u001b[0m | \u001b[1mINFO    \u001b[0m | \u001b[36mpipeline.utils.invoker.job_submitter\u001b[0m:\u001b[36mmonitor_job_status\u001b[0m:\u001b[36m175\u001b[0m - \u001b[1m\u001b[80D\u001b[1A\u001b[KRunning component reader_0, time elapse: 0:00:02\u001b[0m\n",
      "\u001b[32m2022-11-03 13:24:21.812\u001b[0m | \u001b[1mINFO    \u001b[0m | \u001b[36mpipeline.utils.invoker.job_submitter\u001b[0m:\u001b[36mmonitor_job_status\u001b[0m:\u001b[36m175\u001b[0m - \u001b[1m\u001b[80D\u001b[1A\u001b[KRunning component reader_0, time elapse: 0:00:03\u001b[0m\n",
      "\u001b[32m2022-11-03 13:24:22.344\u001b[0m | \u001b[1mINFO    \u001b[0m | \u001b[36mpipeline.utils.invoker.job_submitter\u001b[0m:\u001b[36mmonitor_job_status\u001b[0m:\u001b[36m175\u001b[0m - \u001b[1m\u001b[80D\u001b[1A\u001b[KRunning component reader_0, time elapse: 0:00:03\u001b[0m\n",
      "\u001b[32m2022-11-03 13:24:22.873\u001b[0m | \u001b[1mINFO    \u001b[0m | \u001b[36mpipeline.utils.invoker.job_submitter\u001b[0m:\u001b[36mmonitor_job_status\u001b[0m:\u001b[36m175\u001b[0m - \u001b[1m\u001b[80D\u001b[1A\u001b[KRunning component reader_0, time elapse: 0:00:04\u001b[0m\n",
      "\u001b[32m2022-11-03 13:24:23.404\u001b[0m | \u001b[1mINFO    \u001b[0m | \u001b[36mpipeline.utils.invoker.job_submitter\u001b[0m:\u001b[36mmonitor_job_status\u001b[0m:\u001b[36m175\u001b[0m - \u001b[1m\u001b[80D\u001b[1A\u001b[KRunning component reader_0, time elapse: 0:00:04\u001b[0m\n",
      "\u001b[32m2022-11-03 13:24:23.967\u001b[0m | \u001b[1mINFO    \u001b[0m | \u001b[36mpipeline.utils.invoker.job_submitter\u001b[0m:\u001b[36mmonitor_job_status\u001b[0m:\u001b[36m175\u001b[0m - \u001b[1m\u001b[80D\u001b[1A\u001b[KRunning component reader_0, time elapse: 0:00:05\u001b[0m\n",
      "\u001b[32m2022-11-03 13:24:24.540\u001b[0m | \u001b[1mINFO    \u001b[0m | \u001b[36mpipeline.utils.invoker.job_submitter\u001b[0m:\u001b[36mmonitor_job_status\u001b[0m:\u001b[36m175\u001b[0m - \u001b[1m\u001b[80D\u001b[1A\u001b[KRunning component reader_0, time elapse: 0:00:05\u001b[0m\n",
      "\u001b[32m2022-11-03 13:24:25.102\u001b[0m | \u001b[1mINFO    \u001b[0m | \u001b[36mpipeline.utils.invoker.job_submitter\u001b[0m:\u001b[36mmonitor_job_status\u001b[0m:\u001b[36m175\u001b[0m - \u001b[1m\u001b[80D\u001b[1A\u001b[KRunning component reader_0, time elapse: 0:00:06\u001b[0m\n",
      "\u001b[0mm2022-11-03 13:24:26.264\u001b[0m | \u001b[1mINFO    \u001b[0m | \u001b[36mpipeline.utils.invoker.job_submitter\u001b[0m:\u001b[36mmonitor_job_status\u001b[0m:\u001b[36m171\u001b[0m - \u001b[1m\n",
      "\u001b[32m2022-11-03 13:24:26.265\u001b[0m | \u001b[1mINFO    \u001b[0m | \u001b[36mpipeline.utils.invoker.job_submitter\u001b[0m:\u001b[36mmonitor_job_status\u001b[0m:\u001b[36m175\u001b[0m - \u001b[1m\u001b[80D\u001b[1A\u001b[KRunning component reader_1, time elapse: 0:00:07\u001b[0m\n",
      "\u001b[32m2022-11-03 13:24:26.854\u001b[0m | \u001b[1mINFO    \u001b[0m | \u001b[36mpipeline.utils.invoker.job_submitter\u001b[0m:\u001b[36mmonitor_job_status\u001b[0m:\u001b[36m175\u001b[0m - \u001b[1m\u001b[80D\u001b[1A\u001b[KRunning component reader_1, time elapse: 0:00:08\u001b[0m\n",
      "\u001b[32m2022-11-03 13:24:27.376\u001b[0m | \u001b[1mINFO    \u001b[0m | \u001b[36mpipeline.utils.invoker.job_submitter\u001b[0m:\u001b[36mmonitor_job_status\u001b[0m:\u001b[36m175\u001b[0m - \u001b[1m\u001b[80D\u001b[1A\u001b[KRunning component reader_1, time elapse: 0:00:08\u001b[0m\n",
      "\u001b[32m2022-11-03 13:24:27.924\u001b[0m | \u001b[1mINFO    \u001b[0m | \u001b[36mpipeline.utils.invoker.job_submitter\u001b[0m:\u001b[36mmonitor_job_status\u001b[0m:\u001b[36m175\u001b[0m - \u001b[1m\u001b[80D\u001b[1A\u001b[KRunning component reader_1, time elapse: 0:00:09\u001b[0m\n",
      "\u001b[32m2022-11-03 13:24:28.446\u001b[0m | \u001b[1mINFO    \u001b[0m | \u001b[36mpipeline.utils.invoker.job_submitter\u001b[0m:\u001b[36mmonitor_job_status\u001b[0m:\u001b[36m175\u001b[0m - \u001b[1m\u001b[80D\u001b[1A\u001b[KRunning component reader_1, time elapse: 0:00:09\u001b[0m\n",
      "\u001b[32m2022-11-03 13:24:28.983\u001b[0m | \u001b[1mINFO    \u001b[0m | \u001b[36mpipeline.utils.invoker.job_submitter\u001b[0m:\u001b[36mmonitor_job_status\u001b[0m:\u001b[36m175\u001b[0m - \u001b[1m\u001b[80D\u001b[1A\u001b[KRunning component reader_1, time elapse: 0:00:10\u001b[0m\n",
      "\u001b[32m2022-11-03 13:24:29.520\u001b[0m | \u001b[1mINFO    \u001b[0m | \u001b[36mpipeline.utils.invoker.job_submitter\u001b[0m:\u001b[36mmonitor_job_status\u001b[0m:\u001b[36m175\u001b[0m - \u001b[1m\u001b[80D\u001b[1A\u001b[KRunning component reader_1, time elapse: 0:00:10\u001b[0m\n",
      "\u001b[32m2022-11-03 13:24:30.048\u001b[0m | \u001b[1mINFO    \u001b[0m | \u001b[36mpipeline.utils.invoker.job_submitter\u001b[0m:\u001b[36mmonitor_job_status\u001b[0m:\u001b[36m175\u001b[0m - \u001b[1m\u001b[80D\u001b[1A\u001b[KRunning component reader_1, time elapse: 0:00:11\u001b[0m\n",
      "\u001b[32m2022-11-03 13:24:30.612\u001b[0m | \u001b[1mINFO    \u001b[0m | \u001b[36mpipeline.utils.invoker.job_submitter\u001b[0m:\u001b[36mmonitor_job_status\u001b[0m:\u001b[36m175\u001b[0m - \u001b[1m\u001b[80D\u001b[1A\u001b[KRunning component reader_1, time elapse: 0:00:12\u001b[0m\n",
      "\u001b[32m2022-11-03 13:24:31.141\u001b[0m | \u001b[1mINFO    \u001b[0m | \u001b[36mpipeline.utils.invoker.job_submitter\u001b[0m:\u001b[36mmonitor_job_status\u001b[0m:\u001b[36m175\u001b[0m - \u001b[1m\u001b[80D\u001b[1A\u001b[KRunning component reader_1, time elapse: 0:00:12\u001b[0m\n",
      "\u001b[32m2022-11-03 13:24:31.677\u001b[0m | \u001b[1mINFO    \u001b[0m | \u001b[36mpipeline.utils.invoker.job_submitter\u001b[0m:\u001b[36mmonitor_job_status\u001b[0m:\u001b[36m175\u001b[0m - \u001b[1m\u001b[80D\u001b[1A\u001b[KRunning component reader_1, time elapse: 0:00:13\u001b[0m\n",
      "\u001b[0mm2022-11-03 13:24:33.359\u001b[0m | \u001b[1mINFO    \u001b[0m | \u001b[36mpipeline.utils.invoker.job_submitter\u001b[0m:\u001b[36mmonitor_job_status\u001b[0m:\u001b[36m171\u001b[0m - \u001b[1m\n",
      "\u001b[32m2022-11-03 13:24:33.361\u001b[0m | \u001b[1mINFO    \u001b[0m | \u001b[36mpipeline.utils.invoker.job_submitter\u001b[0m:\u001b[36mmonitor_job_status\u001b[0m:\u001b[36m175\u001b[0m - \u001b[1m\u001b[80D\u001b[1A\u001b[KRunning component data_transform_0, time elapse: 0:00:14\u001b[0m\n",
      "\u001b[32m2022-11-03 13:24:33.889\u001b[0m | \u001b[1mINFO    \u001b[0m | \u001b[36mpipeline.utils.invoker.job_submitter\u001b[0m:\u001b[36mmonitor_job_status\u001b[0m:\u001b[36m175\u001b[0m - \u001b[1m\u001b[80D\u001b[1A\u001b[KRunning component data_transform_0, time elapse: 0:00:15\u001b[0m\n",
      "\u001b[32m2022-11-03 13:24:34.437\u001b[0m | \u001b[1mINFO    \u001b[0m | \u001b[36mpipeline.utils.invoker.job_submitter\u001b[0m:\u001b[36mmonitor_job_status\u001b[0m:\u001b[36m175\u001b[0m - \u001b[1m\u001b[80D\u001b[1A\u001b[KRunning component data_transform_0, time elapse: 0:00:15\u001b[0m\n",
      "\u001b[32m2022-11-03 13:24:34.960\u001b[0m | \u001b[1mINFO    \u001b[0m | \u001b[36mpipeline.utils.invoker.job_submitter\u001b[0m:\u001b[36mmonitor_job_status\u001b[0m:\u001b[36m175\u001b[0m - \u001b[1m\u001b[80D\u001b[1A\u001b[KRunning component data_transform_0, time elapse: 0:00:16\u001b[0m\n",
      "\u001b[32m2022-11-03 13:24:35.495\u001b[0m | \u001b[1mINFO    \u001b[0m | \u001b[36mpipeline.utils.invoker.job_submitter\u001b[0m:\u001b[36mmonitor_job_status\u001b[0m:\u001b[36m175\u001b[0m - \u001b[1m\u001b[80D\u001b[1A\u001b[KRunning component data_transform_0, time elapse: 0:00:16\u001b[0m\n",
      "\u001b[32m2022-11-03 13:24:36.026\u001b[0m | \u001b[1mINFO    \u001b[0m | \u001b[36mpipeline.utils.invoker.job_submitter\u001b[0m:\u001b[36mmonitor_job_status\u001b[0m:\u001b[36m175\u001b[0m - \u001b[1m\u001b[80D\u001b[1A\u001b[KRunning component data_transform_0, time elapse: 0:00:17\u001b[0m\n",
      "\u001b[32m2022-11-03 13:24:36.555\u001b[0m | \u001b[1mINFO    \u001b[0m | \u001b[36mpipeline.utils.invoker.job_submitter\u001b[0m:\u001b[36mmonitor_job_status\u001b[0m:\u001b[36m175\u001b[0m - \u001b[1m\u001b[80D\u001b[1A\u001b[KRunning component data_transform_0, time elapse: 0:00:17\u001b[0m\n",
      "\u001b[32m2022-11-03 13:24:37.087\u001b[0m | \u001b[1mINFO    \u001b[0m | \u001b[36mpipeline.utils.invoker.job_submitter\u001b[0m:\u001b[36mmonitor_job_status\u001b[0m:\u001b[36m175\u001b[0m - \u001b[1m\u001b[80D\u001b[1A\u001b[KRunning component data_transform_0, time elapse: 0:00:18\u001b[0m\n",
      "\u001b[32m2022-11-03 13:24:37.670\u001b[0m | \u001b[1mINFO    \u001b[0m | \u001b[36mpipeline.utils.invoker.job_submitter\u001b[0m:\u001b[36mmonitor_job_status\u001b[0m:\u001b[36m175\u001b[0m - \u001b[1m\u001b[80D\u001b[1A\u001b[KRunning component data_transform_0, time elapse: 0:00:19\u001b[0m\n",
      "\u001b[32m2022-11-03 13:24:38.199\u001b[0m | \u001b[1mINFO    \u001b[0m | \u001b[36mpipeline.utils.invoker.job_submitter\u001b[0m:\u001b[36mmonitor_job_status\u001b[0m:\u001b[36m175\u001b[0m - \u001b[1m\u001b[80D\u001b[1A\u001b[KRunning component data_transform_0, time elapse: 0:00:19\u001b[0m\n",
      "\u001b[0mm2022-11-03 13:24:39.325\u001b[0m | \u001b[1mINFO    \u001b[0m | \u001b[36mpipeline.utils.invoker.job_submitter\u001b[0m:\u001b[36mmonitor_job_status\u001b[0m:\u001b[36m171\u001b[0m - \u001b[1m\n",
      "\u001b[32m2022-11-03 13:24:39.327\u001b[0m | \u001b[1mINFO    \u001b[0m | \u001b[36mpipeline.utils.invoker.job_submitter\u001b[0m:\u001b[36mmonitor_job_status\u001b[0m:\u001b[36m175\u001b[0m - \u001b[1m\u001b[80D\u001b[1A\u001b[KRunning component data_transform_1, time elapse: 0:00:20\u001b[0m\n",
      "\u001b[32m2022-11-03 13:24:39.874\u001b[0m | \u001b[1mINFO    \u001b[0m | \u001b[36mpipeline.utils.invoker.job_submitter\u001b[0m:\u001b[36mmonitor_job_status\u001b[0m:\u001b[36m175\u001b[0m - \u001b[1m\u001b[80D\u001b[1A\u001b[KRunning component data_transform_1, time elapse: 0:00:21\u001b[0m\n"
     ]
    },
    {
     "name": "stderr",
     "output_type": "stream",
     "text": [
      "\u001b[32m2022-11-03 13:24:40.432\u001b[0m | \u001b[1mINFO    \u001b[0m | \u001b[36mpipeline.utils.invoker.job_submitter\u001b[0m:\u001b[36mmonitor_job_status\u001b[0m:\u001b[36m175\u001b[0m - \u001b[1m\u001b[80D\u001b[1A\u001b[KRunning component data_transform_1, time elapse: 0:00:21\u001b[0m\n",
      "\u001b[32m2022-11-03 13:24:40.987\u001b[0m | \u001b[1mINFO    \u001b[0m | \u001b[36mpipeline.utils.invoker.job_submitter\u001b[0m:\u001b[36mmonitor_job_status\u001b[0m:\u001b[36m175\u001b[0m - \u001b[1m\u001b[80D\u001b[1A\u001b[KRunning component data_transform_1, time elapse: 0:00:22\u001b[0m\n",
      "\u001b[32m2022-11-03 13:24:41.510\u001b[0m | \u001b[1mINFO    \u001b[0m | \u001b[36mpipeline.utils.invoker.job_submitter\u001b[0m:\u001b[36mmonitor_job_status\u001b[0m:\u001b[36m175\u001b[0m - \u001b[1m\u001b[80D\u001b[1A\u001b[KRunning component data_transform_1, time elapse: 0:00:22\u001b[0m\n",
      "\u001b[32m2022-11-03 13:24:42.037\u001b[0m | \u001b[1mINFO    \u001b[0m | \u001b[36mpipeline.utils.invoker.job_submitter\u001b[0m:\u001b[36mmonitor_job_status\u001b[0m:\u001b[36m175\u001b[0m - \u001b[1m\u001b[80D\u001b[1A\u001b[KRunning component data_transform_1, time elapse: 0:00:23\u001b[0m\n",
      "\u001b[32m2022-11-03 13:24:42.648\u001b[0m | \u001b[1mINFO    \u001b[0m | \u001b[36mpipeline.utils.invoker.job_submitter\u001b[0m:\u001b[36mmonitor_job_status\u001b[0m:\u001b[36m175\u001b[0m - \u001b[1m\u001b[80D\u001b[1A\u001b[KRunning component data_transform_1, time elapse: 0:00:24\u001b[0m\n",
      "\u001b[32m2022-11-03 13:24:43.207\u001b[0m | \u001b[1mINFO    \u001b[0m | \u001b[36mpipeline.utils.invoker.job_submitter\u001b[0m:\u001b[36mmonitor_job_status\u001b[0m:\u001b[36m175\u001b[0m - \u001b[1m\u001b[80D\u001b[1A\u001b[KRunning component data_transform_1, time elapse: 0:00:24\u001b[0m\n",
      "\u001b[32m2022-11-03 13:24:43.739\u001b[0m | \u001b[1mINFO    \u001b[0m | \u001b[36mpipeline.utils.invoker.job_submitter\u001b[0m:\u001b[36mmonitor_job_status\u001b[0m:\u001b[36m175\u001b[0m - \u001b[1m\u001b[80D\u001b[1A\u001b[KRunning component data_transform_1, time elapse: 0:00:25\u001b[0m\n",
      "\u001b[32m2022-11-03 13:24:44.274\u001b[0m | \u001b[1mINFO    \u001b[0m | \u001b[36mpipeline.utils.invoker.job_submitter\u001b[0m:\u001b[36mmonitor_job_status\u001b[0m:\u001b[36m175\u001b[0m - \u001b[1m\u001b[80D\u001b[1A\u001b[KRunning component data_transform_1, time elapse: 0:00:25\u001b[0m\n",
      "\u001b[32m2022-11-03 13:24:44.806\u001b[0m | \u001b[1mINFO    \u001b[0m | \u001b[36mpipeline.utils.invoker.job_submitter\u001b[0m:\u001b[36mmonitor_job_status\u001b[0m:\u001b[36m175\u001b[0m - \u001b[1m\u001b[80D\u001b[1A\u001b[KRunning component data_transform_1, time elapse: 0:00:26\u001b[0m\n",
      "\u001b[0mm2022-11-03 13:24:45.935\u001b[0m | \u001b[1mINFO    \u001b[0m | \u001b[36mpipeline.utils.invoker.job_submitter\u001b[0m:\u001b[36mmonitor_job_status\u001b[0m:\u001b[36m171\u001b[0m - \u001b[1m\n",
      "\u001b[32m2022-11-03 13:24:45.936\u001b[0m | \u001b[1mINFO    \u001b[0m | \u001b[36mpipeline.utils.invoker.job_submitter\u001b[0m:\u001b[36mmonitor_job_status\u001b[0m:\u001b[36m175\u001b[0m - \u001b[1m\u001b[80D\u001b[1A\u001b[KRunning component homo_secureboost_0, time elapse: 0:00:27\u001b[0m\n",
      "\u001b[32m2022-11-03 13:24:46.487\u001b[0m | \u001b[1mINFO    \u001b[0m | \u001b[36mpipeline.utils.invoker.job_submitter\u001b[0m:\u001b[36mmonitor_job_status\u001b[0m:\u001b[36m175\u001b[0m - \u001b[1m\u001b[80D\u001b[1A\u001b[KRunning component homo_secureboost_0, time elapse: 0:00:27\u001b[0m\n",
      "\u001b[32m2022-11-03 13:24:47.070\u001b[0m | \u001b[1mINFO    \u001b[0m | \u001b[36mpipeline.utils.invoker.job_submitter\u001b[0m:\u001b[36mmonitor_job_status\u001b[0m:\u001b[36m175\u001b[0m - \u001b[1m\u001b[80D\u001b[1A\u001b[KRunning component homo_secureboost_0, time elapse: 0:00:28\u001b[0m\n",
      "\u001b[32m2022-11-03 13:24:47.640\u001b[0m | \u001b[1mINFO    \u001b[0m | \u001b[36mpipeline.utils.invoker.job_submitter\u001b[0m:\u001b[36mmonitor_job_status\u001b[0m:\u001b[36m175\u001b[0m - \u001b[1m\u001b[80D\u001b[1A\u001b[KRunning component homo_secureboost_0, time elapse: 0:00:29\u001b[0m\n",
      "\u001b[32m2022-11-03 13:24:48.173\u001b[0m | \u001b[1mINFO    \u001b[0m | \u001b[36mpipeline.utils.invoker.job_submitter\u001b[0m:\u001b[36mmonitor_job_status\u001b[0m:\u001b[36m175\u001b[0m - \u001b[1m\u001b[80D\u001b[1A\u001b[KRunning component homo_secureboost_0, time elapse: 0:00:29\u001b[0m\n",
      "\u001b[32m2022-11-03 13:24:48.815\u001b[0m | \u001b[1mINFO    \u001b[0m | \u001b[36mpipeline.utils.invoker.job_submitter\u001b[0m:\u001b[36mmonitor_job_status\u001b[0m:\u001b[36m175\u001b[0m - \u001b[1m\u001b[80D\u001b[1A\u001b[KRunning component homo_secureboost_0, time elapse: 0:00:30\u001b[0m\n",
      "\u001b[32m2022-11-03 13:24:49.343\u001b[0m | \u001b[1mINFO    \u001b[0m | \u001b[36mpipeline.utils.invoker.job_submitter\u001b[0m:\u001b[36mmonitor_job_status\u001b[0m:\u001b[36m175\u001b[0m - \u001b[1m\u001b[80D\u001b[1A\u001b[KRunning component homo_secureboost_0, time elapse: 0:00:30\u001b[0m\n",
      "\u001b[32m2022-11-03 13:24:49.879\u001b[0m | \u001b[1mINFO    \u001b[0m | \u001b[36mpipeline.utils.invoker.job_submitter\u001b[0m:\u001b[36mmonitor_job_status\u001b[0m:\u001b[36m175\u001b[0m - \u001b[1m\u001b[80D\u001b[1A\u001b[KRunning component homo_secureboost_0, time elapse: 0:00:31\u001b[0m\n",
      "\u001b[32m2022-11-03 13:24:50.434\u001b[0m | \u001b[1mINFO    \u001b[0m | \u001b[36mpipeline.utils.invoker.job_submitter\u001b[0m:\u001b[36mmonitor_job_status\u001b[0m:\u001b[36m175\u001b[0m - \u001b[1m\u001b[80D\u001b[1A\u001b[KRunning component homo_secureboost_0, time elapse: 0:00:31\u001b[0m\n",
      "\u001b[32m2022-11-03 13:24:50.963\u001b[0m | \u001b[1mINFO    \u001b[0m | \u001b[36mpipeline.utils.invoker.job_submitter\u001b[0m:\u001b[36mmonitor_job_status\u001b[0m:\u001b[36m175\u001b[0m - \u001b[1m\u001b[80D\u001b[1A\u001b[KRunning component homo_secureboost_0, time elapse: 0:00:32\u001b[0m\n",
      "\u001b[32m2022-11-03 13:24:51.491\u001b[0m | \u001b[1mINFO    \u001b[0m | \u001b[36mpipeline.utils.invoker.job_submitter\u001b[0m:\u001b[36mmonitor_job_status\u001b[0m:\u001b[36m175\u001b[0m - \u001b[1m\u001b[80D\u001b[1A\u001b[KRunning component homo_secureboost_0, time elapse: 0:00:32\u001b[0m\n",
      "\u001b[32m2022-11-03 13:24:52.060\u001b[0m | \u001b[1mINFO    \u001b[0m | \u001b[36mpipeline.utils.invoker.job_submitter\u001b[0m:\u001b[36mmonitor_job_status\u001b[0m:\u001b[36m175\u001b[0m - \u001b[1m\u001b[80D\u001b[1A\u001b[KRunning component homo_secureboost_0, time elapse: 0:00:33\u001b[0m\n",
      "\u001b[32m2022-11-03 13:24:52.624\u001b[0m | \u001b[1mINFO    \u001b[0m | \u001b[36mpipeline.utils.invoker.job_submitter\u001b[0m:\u001b[36mmonitor_job_status\u001b[0m:\u001b[36m175\u001b[0m - \u001b[1m\u001b[80D\u001b[1A\u001b[KRunning component homo_secureboost_0, time elapse: 0:00:34\u001b[0m\n",
      "\u001b[32m2022-11-03 13:24:53.148\u001b[0m | \u001b[1mINFO    \u001b[0m | \u001b[36mpipeline.utils.invoker.job_submitter\u001b[0m:\u001b[36mmonitor_job_status\u001b[0m:\u001b[36m175\u001b[0m - \u001b[1m\u001b[80D\u001b[1A\u001b[KRunning component homo_secureboost_0, time elapse: 0:00:34\u001b[0m\n",
      "\u001b[32m2022-11-03 13:24:53.737\u001b[0m | \u001b[1mINFO    \u001b[0m | \u001b[36mpipeline.utils.invoker.job_submitter\u001b[0m:\u001b[36mmonitor_job_status\u001b[0m:\u001b[36m175\u001b[0m - \u001b[1m\u001b[80D\u001b[1A\u001b[KRunning component homo_secureboost_0, time elapse: 0:00:35\u001b[0m\n",
      "\u001b[32m2022-11-03 13:24:54.328\u001b[0m | \u001b[1mINFO    \u001b[0m | \u001b[36mpipeline.utils.invoker.job_submitter\u001b[0m:\u001b[36mmonitor_job_status\u001b[0m:\u001b[36m175\u001b[0m - \u001b[1m\u001b[80D\u001b[1A\u001b[KRunning component homo_secureboost_0, time elapse: 0:00:35\u001b[0m\n",
      "\u001b[32m2022-11-03 13:24:54.886\u001b[0m | \u001b[1mINFO    \u001b[0m | \u001b[36mpipeline.utils.invoker.job_submitter\u001b[0m:\u001b[36mmonitor_job_status\u001b[0m:\u001b[36m175\u001b[0m - \u001b[1m\u001b[80D\u001b[1A\u001b[KRunning component homo_secureboost_0, time elapse: 0:00:36\u001b[0m\n",
      "\u001b[32m2022-11-03 13:24:55.466\u001b[0m | \u001b[1mINFO    \u001b[0m | \u001b[36mpipeline.utils.invoker.job_submitter\u001b[0m:\u001b[36mmonitor_job_status\u001b[0m:\u001b[36m175\u001b[0m - \u001b[1m\u001b[80D\u001b[1A\u001b[KRunning component homo_secureboost_0, time elapse: 0:00:36\u001b[0m\n",
      "\u001b[32m2022-11-03 13:24:56.007\u001b[0m | \u001b[1mINFO    \u001b[0m | \u001b[36mpipeline.utils.invoker.job_submitter\u001b[0m:\u001b[36mmonitor_job_status\u001b[0m:\u001b[36m175\u001b[0m - \u001b[1m\u001b[80D\u001b[1A\u001b[KRunning component homo_secureboost_0, time elapse: 0:00:37\u001b[0m\n",
      "\u001b[32m2022-11-03 13:24:56.530\u001b[0m | \u001b[1mINFO    \u001b[0m | \u001b[36mpipeline.utils.invoker.job_submitter\u001b[0m:\u001b[36mmonitor_job_status\u001b[0m:\u001b[36m175\u001b[0m - \u001b[1m\u001b[80D\u001b[1A\u001b[KRunning component homo_secureboost_0, time elapse: 0:00:37\u001b[0m\n",
      "\u001b[32m2022-11-03 13:24:57.074\u001b[0m | \u001b[1mINFO    \u001b[0m | \u001b[36mpipeline.utils.invoker.job_submitter\u001b[0m:\u001b[36mmonitor_job_status\u001b[0m:\u001b[36m175\u001b[0m - \u001b[1m\u001b[80D\u001b[1A\u001b[KRunning component homo_secureboost_0, time elapse: 0:00:38\u001b[0m\n",
      "\u001b[32m2022-11-03 13:24:57.655\u001b[0m | \u001b[1mINFO    \u001b[0m | \u001b[36mpipeline.utils.invoker.job_submitter\u001b[0m:\u001b[36mmonitor_job_status\u001b[0m:\u001b[36m175\u001b[0m - \u001b[1m\u001b[80D\u001b[1A\u001b[KRunning component homo_secureboost_0, time elapse: 0:00:39\u001b[0m\n",
      "\u001b[32m2022-11-03 13:24:58.209\u001b[0m | \u001b[1mINFO    \u001b[0m | \u001b[36mpipeline.utils.invoker.job_submitter\u001b[0m:\u001b[36mmonitor_job_status\u001b[0m:\u001b[36m175\u001b[0m - \u001b[1m\u001b[80D\u001b[1A\u001b[KRunning component homo_secureboost_0, time elapse: 0:00:39\u001b[0m\n",
      "\u001b[32m2022-11-03 13:24:58.740\u001b[0m | \u001b[1mINFO    \u001b[0m | \u001b[36mpipeline.utils.invoker.job_submitter\u001b[0m:\u001b[36mmonitor_job_status\u001b[0m:\u001b[36m175\u001b[0m - \u001b[1m\u001b[80D\u001b[1A\u001b[KRunning component homo_secureboost_0, time elapse: 0:00:40\u001b[0m\n",
      "\u001b[32m2022-11-03 13:24:59.303\u001b[0m | \u001b[1mINFO    \u001b[0m | \u001b[36mpipeline.utils.invoker.job_submitter\u001b[0m:\u001b[36mmonitor_job_status\u001b[0m:\u001b[36m175\u001b[0m - \u001b[1m\u001b[80D\u001b[1A\u001b[KRunning component homo_secureboost_0, time elapse: 0:00:40\u001b[0m\n",
      "\u001b[32m2022-11-03 13:24:59.904\u001b[0m | \u001b[1mINFO    \u001b[0m | \u001b[36mpipeline.utils.invoker.job_submitter\u001b[0m:\u001b[36mmonitor_job_status\u001b[0m:\u001b[36m175\u001b[0m - \u001b[1m\u001b[80D\u001b[1A\u001b[KRunning component homo_secureboost_0, time elapse: 0:00:41\u001b[0m\n",
      "\u001b[32m2022-11-03 13:25:00.456\u001b[0m | \u001b[1mINFO    \u001b[0m | \u001b[36mpipeline.utils.invoker.job_submitter\u001b[0m:\u001b[36mmonitor_job_status\u001b[0m:\u001b[36m175\u001b[0m - \u001b[1m\u001b[80D\u001b[1A\u001b[KRunning component homo_secureboost_0, time elapse: 0:00:41\u001b[0m\n",
      "\u001b[32m2022-11-03 13:25:00.983\u001b[0m | \u001b[1mINFO    \u001b[0m | \u001b[36mpipeline.utils.invoker.job_submitter\u001b[0m:\u001b[36mmonitor_job_status\u001b[0m:\u001b[36m175\u001b[0m - \u001b[1m\u001b[80D\u001b[1A\u001b[KRunning component homo_secureboost_0, time elapse: 0:00:42\u001b[0m\n"
     ]
    },
    {
     "name": "stderr",
     "output_type": "stream",
     "text": [
      "\u001b[32m2022-11-03 13:25:01.521\u001b[0m | \u001b[1mINFO    \u001b[0m | \u001b[36mpipeline.utils.invoker.job_submitter\u001b[0m:\u001b[36mmonitor_job_status\u001b[0m:\u001b[36m175\u001b[0m - \u001b[1m\u001b[80D\u001b[1A\u001b[KRunning component homo_secureboost_0, time elapse: 0:00:42\u001b[0m\n",
      "\u001b[32m2022-11-03 13:25:02.058\u001b[0m | \u001b[1mINFO    \u001b[0m | \u001b[36mpipeline.utils.invoker.job_submitter\u001b[0m:\u001b[36mmonitor_job_status\u001b[0m:\u001b[36m175\u001b[0m - \u001b[1m\u001b[80D\u001b[1A\u001b[KRunning component homo_secureboost_0, time elapse: 0:00:43\u001b[0m\n",
      "\u001b[32m2022-11-03 13:25:02.617\u001b[0m | \u001b[1mINFO    \u001b[0m | \u001b[36mpipeline.utils.invoker.job_submitter\u001b[0m:\u001b[36mmonitor_job_status\u001b[0m:\u001b[36m175\u001b[0m - \u001b[1m\u001b[80D\u001b[1A\u001b[KRunning component homo_secureboost_0, time elapse: 0:00:44\u001b[0m\n",
      "\u001b[32m2022-11-03 13:25:03.155\u001b[0m | \u001b[1mINFO    \u001b[0m | \u001b[36mpipeline.utils.invoker.job_submitter\u001b[0m:\u001b[36mmonitor_job_status\u001b[0m:\u001b[36m175\u001b[0m - \u001b[1m\u001b[80D\u001b[1A\u001b[KRunning component homo_secureboost_0, time elapse: 0:00:44\u001b[0m\n",
      "\u001b[32m2022-11-03 13:25:03.728\u001b[0m | \u001b[1mINFO    \u001b[0m | \u001b[36mpipeline.utils.invoker.job_submitter\u001b[0m:\u001b[36mmonitor_job_status\u001b[0m:\u001b[36m175\u001b[0m - \u001b[1m\u001b[80D\u001b[1A\u001b[KRunning component homo_secureboost_0, time elapse: 0:00:45\u001b[0m\n",
      "\u001b[32m2022-11-03 13:25:04.281\u001b[0m | \u001b[1mINFO    \u001b[0m | \u001b[36mpipeline.utils.invoker.job_submitter\u001b[0m:\u001b[36mmonitor_job_status\u001b[0m:\u001b[36m175\u001b[0m - \u001b[1m\u001b[80D\u001b[1A\u001b[KRunning component homo_secureboost_0, time elapse: 0:00:45\u001b[0m\n",
      "\u001b[32m2022-11-03 13:25:04.812\u001b[0m | \u001b[1mINFO    \u001b[0m | \u001b[36mpipeline.utils.invoker.job_submitter\u001b[0m:\u001b[36mmonitor_job_status\u001b[0m:\u001b[36m175\u001b[0m - \u001b[1m\u001b[80D\u001b[1A\u001b[KRunning component homo_secureboost_0, time elapse: 0:00:46\u001b[0m\n",
      "\u001b[32m2022-11-03 13:25:05.345\u001b[0m | \u001b[1mINFO    \u001b[0m | \u001b[36mpipeline.utils.invoker.job_submitter\u001b[0m:\u001b[36mmonitor_job_status\u001b[0m:\u001b[36m175\u001b[0m - \u001b[1m\u001b[80D\u001b[1A\u001b[KRunning component homo_secureboost_0, time elapse: 0:00:46\u001b[0m\n",
      "\u001b[32m2022-11-03 13:25:05.892\u001b[0m | \u001b[1mINFO    \u001b[0m | \u001b[36mpipeline.utils.invoker.job_submitter\u001b[0m:\u001b[36mmonitor_job_status\u001b[0m:\u001b[36m175\u001b[0m - \u001b[1m\u001b[80D\u001b[1A\u001b[KRunning component homo_secureboost_0, time elapse: 0:00:47\u001b[0m\n",
      "\u001b[32m2022-11-03 13:25:06.436\u001b[0m | \u001b[1mINFO    \u001b[0m | \u001b[36mpipeline.utils.invoker.job_submitter\u001b[0m:\u001b[36mmonitor_job_status\u001b[0m:\u001b[36m175\u001b[0m - \u001b[1m\u001b[80D\u001b[1A\u001b[KRunning component homo_secureboost_0, time elapse: 0:00:47\u001b[0m\n",
      "\u001b[32m2022-11-03 13:25:07.003\u001b[0m | \u001b[1mINFO    \u001b[0m | \u001b[36mpipeline.utils.invoker.job_submitter\u001b[0m:\u001b[36mmonitor_job_status\u001b[0m:\u001b[36m175\u001b[0m - \u001b[1m\u001b[80D\u001b[1A\u001b[KRunning component homo_secureboost_0, time elapse: 0:00:48\u001b[0m\n",
      "\u001b[32m2022-11-03 13:25:07.583\u001b[0m | \u001b[1mINFO    \u001b[0m | \u001b[36mpipeline.utils.invoker.job_submitter\u001b[0m:\u001b[36mmonitor_job_status\u001b[0m:\u001b[36m175\u001b[0m - \u001b[1m\u001b[80D\u001b[1A\u001b[KRunning component homo_secureboost_0, time elapse: 0:00:49\u001b[0m\n",
      "\u001b[32m2022-11-03 13:25:08.117\u001b[0m | \u001b[1mINFO    \u001b[0m | \u001b[36mpipeline.utils.invoker.job_submitter\u001b[0m:\u001b[36mmonitor_job_status\u001b[0m:\u001b[36m175\u001b[0m - \u001b[1m\u001b[80D\u001b[1A\u001b[KRunning component homo_secureboost_0, time elapse: 0:00:49\u001b[0m\n",
      "\u001b[32m2022-11-03 13:25:08.683\u001b[0m | \u001b[1mINFO    \u001b[0m | \u001b[36mpipeline.utils.invoker.job_submitter\u001b[0m:\u001b[36mmonitor_job_status\u001b[0m:\u001b[36m175\u001b[0m - \u001b[1m\u001b[80D\u001b[1A\u001b[KRunning component homo_secureboost_0, time elapse: 0:00:50\u001b[0m\n",
      "\u001b[32m2022-11-03 13:25:09.228\u001b[0m | \u001b[1mINFO    \u001b[0m | \u001b[36mpipeline.utils.invoker.job_submitter\u001b[0m:\u001b[36mmonitor_job_status\u001b[0m:\u001b[36m175\u001b[0m - \u001b[1m\u001b[80D\u001b[1A\u001b[KRunning component homo_secureboost_0, time elapse: 0:00:50\u001b[0m\n",
      "\u001b[32m2022-11-03 13:25:09.814\u001b[0m | \u001b[1mINFO    \u001b[0m | \u001b[36mpipeline.utils.invoker.job_submitter\u001b[0m:\u001b[36mmonitor_job_status\u001b[0m:\u001b[36m175\u001b[0m - \u001b[1m\u001b[80D\u001b[1A\u001b[KRunning component homo_secureboost_0, time elapse: 0:00:51\u001b[0m\n",
      "\u001b[32m2022-11-03 13:25:10.345\u001b[0m | \u001b[1mINFO    \u001b[0m | \u001b[36mpipeline.utils.invoker.job_submitter\u001b[0m:\u001b[36mmonitor_job_status\u001b[0m:\u001b[36m175\u001b[0m - \u001b[1m\u001b[80D\u001b[1A\u001b[KRunning component homo_secureboost_0, time elapse: 0:00:51\u001b[0m\n",
      "\u001b[32m2022-11-03 13:25:10.866\u001b[0m | \u001b[1mINFO    \u001b[0m | \u001b[36mpipeline.utils.invoker.job_submitter\u001b[0m:\u001b[36mmonitor_job_status\u001b[0m:\u001b[36m175\u001b[0m - \u001b[1m\u001b[80D\u001b[1A\u001b[KRunning component homo_secureboost_0, time elapse: 0:00:52\u001b[0m\n",
      "\u001b[32m2022-11-03 13:25:11.417\u001b[0m | \u001b[1mINFO    \u001b[0m | \u001b[36mpipeline.utils.invoker.job_submitter\u001b[0m:\u001b[36mmonitor_job_status\u001b[0m:\u001b[36m175\u001b[0m - \u001b[1m\u001b[80D\u001b[1A\u001b[KRunning component homo_secureboost_0, time elapse: 0:00:52\u001b[0m\n",
      "\u001b[32m2022-11-03 13:25:11.941\u001b[0m | \u001b[1mINFO    \u001b[0m | \u001b[36mpipeline.utils.invoker.job_submitter\u001b[0m:\u001b[36mmonitor_job_status\u001b[0m:\u001b[36m175\u001b[0m - \u001b[1m\u001b[80D\u001b[1A\u001b[KRunning component homo_secureboost_0, time elapse: 0:00:53\u001b[0m\n",
      "\u001b[32m2022-11-03 13:25:12.518\u001b[0m | \u001b[1mINFO    \u001b[0m | \u001b[36mpipeline.utils.invoker.job_submitter\u001b[0m:\u001b[36mmonitor_job_status\u001b[0m:\u001b[36m175\u001b[0m - \u001b[1m\u001b[80D\u001b[1A\u001b[KRunning component homo_secureboost_0, time elapse: 0:00:53\u001b[0m\n",
      "\u001b[32m2022-11-03 13:25:13.041\u001b[0m | \u001b[1mINFO    \u001b[0m | \u001b[36mpipeline.utils.invoker.job_submitter\u001b[0m:\u001b[36mmonitor_job_status\u001b[0m:\u001b[36m175\u001b[0m - \u001b[1m\u001b[80D\u001b[1A\u001b[KRunning component homo_secureboost_0, time elapse: 0:00:54\u001b[0m\n",
      "\u001b[32m2022-11-03 13:25:13.627\u001b[0m | \u001b[1mINFO    \u001b[0m | \u001b[36mpipeline.utils.invoker.job_submitter\u001b[0m:\u001b[36mmonitor_job_status\u001b[0m:\u001b[36m175\u001b[0m - \u001b[1m\u001b[80D\u001b[1A\u001b[KRunning component homo_secureboost_0, time elapse: 0:00:55\u001b[0m\n",
      "\u001b[32m2022-11-03 13:25:14.164\u001b[0m | \u001b[1mINFO    \u001b[0m | \u001b[36mpipeline.utils.invoker.job_submitter\u001b[0m:\u001b[36mmonitor_job_status\u001b[0m:\u001b[36m175\u001b[0m - \u001b[1m\u001b[80D\u001b[1A\u001b[KRunning component homo_secureboost_0, time elapse: 0:00:55\u001b[0m\n",
      "\u001b[32m2022-11-03 13:25:14.709\u001b[0m | \u001b[1mINFO    \u001b[0m | \u001b[36mpipeline.utils.invoker.job_submitter\u001b[0m:\u001b[36mmonitor_job_status\u001b[0m:\u001b[36m175\u001b[0m - \u001b[1m\u001b[80D\u001b[1A\u001b[KRunning component homo_secureboost_0, time elapse: 0:00:56\u001b[0m\n",
      "\u001b[32m2022-11-03 13:25:15.243\u001b[0m | \u001b[1mINFO    \u001b[0m | \u001b[36mpipeline.utils.invoker.job_submitter\u001b[0m:\u001b[36mmonitor_job_status\u001b[0m:\u001b[36m175\u001b[0m - \u001b[1m\u001b[80D\u001b[1A\u001b[KRunning component homo_secureboost_0, time elapse: 0:00:56\u001b[0m\n",
      "\u001b[32m2022-11-03 13:25:15.821\u001b[0m | \u001b[1mINFO    \u001b[0m | \u001b[36mpipeline.utils.invoker.job_submitter\u001b[0m:\u001b[36mmonitor_job_status\u001b[0m:\u001b[36m175\u001b[0m - \u001b[1m\u001b[80D\u001b[1A\u001b[KRunning component homo_secureboost_0, time elapse: 0:00:57\u001b[0m\n",
      "\u001b[32m2022-11-03 13:25:16.342\u001b[0m | \u001b[1mINFO    \u001b[0m | \u001b[36mpipeline.utils.invoker.job_submitter\u001b[0m:\u001b[36mmonitor_job_status\u001b[0m:\u001b[36m175\u001b[0m - \u001b[1m\u001b[80D\u001b[1A\u001b[KRunning component homo_secureboost_0, time elapse: 0:00:57\u001b[0m\n",
      "\u001b[32m2022-11-03 13:25:16.911\u001b[0m | \u001b[1mINFO    \u001b[0m | \u001b[36mpipeline.utils.invoker.job_submitter\u001b[0m:\u001b[36mmonitor_job_status\u001b[0m:\u001b[36m175\u001b[0m - \u001b[1m\u001b[80D\u001b[1A\u001b[KRunning component homo_secureboost_0, time elapse: 0:00:58\u001b[0m\n",
      "\u001b[32m2022-11-03 13:25:17.435\u001b[0m | \u001b[1mINFO    \u001b[0m | \u001b[36mpipeline.utils.invoker.job_submitter\u001b[0m:\u001b[36mmonitor_job_status\u001b[0m:\u001b[36m175\u001b[0m - \u001b[1m\u001b[80D\u001b[1A\u001b[KRunning component homo_secureboost_0, time elapse: 0:00:58\u001b[0m\n",
      "\u001b[32m2022-11-03 13:25:17.965\u001b[0m | \u001b[1mINFO    \u001b[0m | \u001b[36mpipeline.utils.invoker.job_submitter\u001b[0m:\u001b[36mmonitor_job_status\u001b[0m:\u001b[36m175\u001b[0m - \u001b[1m\u001b[80D\u001b[1A\u001b[KRunning component homo_secureboost_0, time elapse: 0:00:59\u001b[0m\n",
      "\u001b[32m2022-11-03 13:25:18.498\u001b[0m | \u001b[1mINFO    \u001b[0m | \u001b[36mpipeline.utils.invoker.job_submitter\u001b[0m:\u001b[36mmonitor_job_status\u001b[0m:\u001b[36m175\u001b[0m - \u001b[1m\u001b[80D\u001b[1A\u001b[KRunning component homo_secureboost_0, time elapse: 0:00:59\u001b[0m\n",
      "\u001b[32m2022-11-03 13:25:19.039\u001b[0m | \u001b[1mINFO    \u001b[0m | \u001b[36mpipeline.utils.invoker.job_submitter\u001b[0m:\u001b[36mmonitor_job_status\u001b[0m:\u001b[36m175\u001b[0m - \u001b[1m\u001b[80D\u001b[1A\u001b[KRunning component homo_secureboost_0, time elapse: 0:01:00\u001b[0m\n",
      "\u001b[32m2022-11-03 13:25:19.628\u001b[0m | \u001b[1mINFO    \u001b[0m | \u001b[36mpipeline.utils.invoker.job_submitter\u001b[0m:\u001b[36mmonitor_job_status\u001b[0m:\u001b[36m175\u001b[0m - \u001b[1m\u001b[80D\u001b[1A\u001b[KRunning component homo_secureboost_0, time elapse: 0:01:01\u001b[0m\n",
      "\u001b[32m2022-11-03 13:25:20.181\u001b[0m | \u001b[1mINFO    \u001b[0m | \u001b[36mpipeline.utils.invoker.job_submitter\u001b[0m:\u001b[36mmonitor_job_status\u001b[0m:\u001b[36m175\u001b[0m - \u001b[1m\u001b[80D\u001b[1A\u001b[KRunning component homo_secureboost_0, time elapse: 0:01:01\u001b[0m\n",
      "\u001b[32m2022-11-03 13:25:20.734\u001b[0m | \u001b[1mINFO    \u001b[0m | \u001b[36mpipeline.utils.invoker.job_submitter\u001b[0m:\u001b[36mmonitor_job_status\u001b[0m:\u001b[36m175\u001b[0m - \u001b[1m\u001b[80D\u001b[1A\u001b[KRunning component homo_secureboost_0, time elapse: 0:01:02\u001b[0m\n",
      "\u001b[32m2022-11-03 13:25:21.256\u001b[0m | \u001b[1mINFO    \u001b[0m | \u001b[36mpipeline.utils.invoker.job_submitter\u001b[0m:\u001b[36mmonitor_job_status\u001b[0m:\u001b[36m175\u001b[0m - \u001b[1m\u001b[80D\u001b[1A\u001b[KRunning component homo_secureboost_0, time elapse: 0:01:02\u001b[0m\n"
     ]
    },
    {
     "name": "stderr",
     "output_type": "stream",
     "text": [
      "\u001b[32m2022-11-03 13:25:21.785\u001b[0m | \u001b[1mINFO    \u001b[0m | \u001b[36mpipeline.utils.invoker.job_submitter\u001b[0m:\u001b[36mmonitor_job_status\u001b[0m:\u001b[36m175\u001b[0m - \u001b[1m\u001b[80D\u001b[1A\u001b[KRunning component homo_secureboost_0, time elapse: 0:01:03\u001b[0m\n",
      "\u001b[32m2022-11-03 13:25:22.333\u001b[0m | \u001b[1mINFO    \u001b[0m | \u001b[36mpipeline.utils.invoker.job_submitter\u001b[0m:\u001b[36mmonitor_job_status\u001b[0m:\u001b[36m175\u001b[0m - \u001b[1m\u001b[80D\u001b[1A\u001b[KRunning component homo_secureboost_0, time elapse: 0:01:03\u001b[0m\n",
      "\u001b[32m2022-11-03 13:25:22.854\u001b[0m | \u001b[1mINFO    \u001b[0m | \u001b[36mpipeline.utils.invoker.job_submitter\u001b[0m:\u001b[36mmonitor_job_status\u001b[0m:\u001b[36m175\u001b[0m - \u001b[1m\u001b[80D\u001b[1A\u001b[KRunning component homo_secureboost_0, time elapse: 0:01:04\u001b[0m\n",
      "\u001b[32m2022-11-03 13:25:23.394\u001b[0m | \u001b[1mINFO    \u001b[0m | \u001b[36mpipeline.utils.invoker.job_submitter\u001b[0m:\u001b[36mmonitor_job_status\u001b[0m:\u001b[36m175\u001b[0m - \u001b[1m\u001b[80D\u001b[1A\u001b[KRunning component homo_secureboost_0, time elapse: 0:01:04\u001b[0m\n",
      "\u001b[32m2022-11-03 13:25:23.915\u001b[0m | \u001b[1mINFO    \u001b[0m | \u001b[36mpipeline.utils.invoker.job_submitter\u001b[0m:\u001b[36mmonitor_job_status\u001b[0m:\u001b[36m175\u001b[0m - \u001b[1m\u001b[80D\u001b[1A\u001b[KRunning component homo_secureboost_0, time elapse: 0:01:05\u001b[0m\n",
      "\u001b[32m2022-11-03 13:25:24.520\u001b[0m | \u001b[1mINFO    \u001b[0m | \u001b[36mpipeline.utils.invoker.job_submitter\u001b[0m:\u001b[36mmonitor_job_status\u001b[0m:\u001b[36m175\u001b[0m - \u001b[1m\u001b[80D\u001b[1A\u001b[KRunning component homo_secureboost_0, time elapse: 0:01:05\u001b[0m\n",
      "\u001b[32m2022-11-03 13:25:25.068\u001b[0m | \u001b[1mINFO    \u001b[0m | \u001b[36mpipeline.utils.invoker.job_submitter\u001b[0m:\u001b[36mmonitor_job_status\u001b[0m:\u001b[36m175\u001b[0m - \u001b[1m\u001b[80D\u001b[1A\u001b[KRunning component homo_secureboost_0, time elapse: 0:01:06\u001b[0m\n",
      "\u001b[32m2022-11-03 13:25:25.635\u001b[0m | \u001b[1mINFO    \u001b[0m | \u001b[36mpipeline.utils.invoker.job_submitter\u001b[0m:\u001b[36mmonitor_job_status\u001b[0m:\u001b[36m175\u001b[0m - \u001b[1m\u001b[80D\u001b[1A\u001b[KRunning component homo_secureboost_0, time elapse: 0:01:07\u001b[0m\n",
      "\u001b[32m2022-11-03 13:25:26.313\u001b[0m | \u001b[1mINFO    \u001b[0m | \u001b[36mpipeline.utils.invoker.job_submitter\u001b[0m:\u001b[36mmonitor_job_status\u001b[0m:\u001b[36m175\u001b[0m - \u001b[1m\u001b[80D\u001b[1A\u001b[KRunning component homo_secureboost_0, time elapse: 0:01:07\u001b[0m\n",
      "\u001b[32m2022-11-03 13:25:26.932\u001b[0m | \u001b[1mINFO    \u001b[0m | \u001b[36mpipeline.utils.invoker.job_submitter\u001b[0m:\u001b[36mmonitor_job_status\u001b[0m:\u001b[36m175\u001b[0m - \u001b[1m\u001b[80D\u001b[1A\u001b[KRunning component homo_secureboost_0, time elapse: 0:01:08\u001b[0m\n",
      "\u001b[32m2022-11-03 13:25:27.497\u001b[0m | \u001b[1mINFO    \u001b[0m | \u001b[36mpipeline.utils.invoker.job_submitter\u001b[0m:\u001b[36mmonitor_job_status\u001b[0m:\u001b[36m175\u001b[0m - \u001b[1m\u001b[80D\u001b[1A\u001b[KRunning component homo_secureboost_0, time elapse: 0:01:08\u001b[0m\n",
      "\u001b[32m2022-11-03 13:25:28.031\u001b[0m | \u001b[1mINFO    \u001b[0m | \u001b[36mpipeline.utils.invoker.job_submitter\u001b[0m:\u001b[36mmonitor_job_status\u001b[0m:\u001b[36m175\u001b[0m - \u001b[1m\u001b[80D\u001b[1A\u001b[KRunning component homo_secureboost_0, time elapse: 0:01:09\u001b[0m\n",
      "\u001b[32m2022-11-03 13:25:28.565\u001b[0m | \u001b[1mINFO    \u001b[0m | \u001b[36mpipeline.utils.invoker.job_submitter\u001b[0m:\u001b[36mmonitor_job_status\u001b[0m:\u001b[36m175\u001b[0m - \u001b[1m\u001b[80D\u001b[1A\u001b[KRunning component homo_secureboost_0, time elapse: 0:01:09\u001b[0m\n",
      "\u001b[32m2022-11-03 13:25:29.160\u001b[0m | \u001b[1mINFO    \u001b[0m | \u001b[36mpipeline.utils.invoker.job_submitter\u001b[0m:\u001b[36mmonitor_job_status\u001b[0m:\u001b[36m175\u001b[0m - \u001b[1m\u001b[80D\u001b[1A\u001b[KRunning component homo_secureboost_0, time elapse: 0:01:10\u001b[0m\n",
      "\u001b[32m2022-11-03 13:25:29.704\u001b[0m | \u001b[1mINFO    \u001b[0m | \u001b[36mpipeline.utils.invoker.job_submitter\u001b[0m:\u001b[36mmonitor_job_status\u001b[0m:\u001b[36m175\u001b[0m - \u001b[1m\u001b[80D\u001b[1A\u001b[KRunning component homo_secureboost_0, time elapse: 0:01:11\u001b[0m\n",
      "\u001b[32m2022-11-03 13:25:30.246\u001b[0m | \u001b[1mINFO    \u001b[0m | \u001b[36mpipeline.utils.invoker.job_submitter\u001b[0m:\u001b[36mmonitor_job_status\u001b[0m:\u001b[36m175\u001b[0m - \u001b[1m\u001b[80D\u001b[1A\u001b[KRunning component homo_secureboost_0, time elapse: 0:01:11\u001b[0m\n",
      "\u001b[32m2022-11-03 13:25:30.795\u001b[0m | \u001b[1mINFO    \u001b[0m | \u001b[36mpipeline.utils.invoker.job_submitter\u001b[0m:\u001b[36mmonitor_job_status\u001b[0m:\u001b[36m175\u001b[0m - \u001b[1m\u001b[80D\u001b[1A\u001b[KRunning component homo_secureboost_0, time elapse: 0:01:12\u001b[0m\n",
      "\u001b[32m2022-11-03 13:25:31.377\u001b[0m | \u001b[1mINFO    \u001b[0m | \u001b[36mpipeline.utils.invoker.job_submitter\u001b[0m:\u001b[36mmonitor_job_status\u001b[0m:\u001b[36m175\u001b[0m - \u001b[1m\u001b[80D\u001b[1A\u001b[KRunning component homo_secureboost_0, time elapse: 0:01:12\u001b[0m\n",
      "\u001b[32m2022-11-03 13:25:31.905\u001b[0m | \u001b[1mINFO    \u001b[0m | \u001b[36mpipeline.utils.invoker.job_submitter\u001b[0m:\u001b[36mmonitor_job_status\u001b[0m:\u001b[36m175\u001b[0m - \u001b[1m\u001b[80D\u001b[1A\u001b[KRunning component homo_secureboost_0, time elapse: 0:01:13\u001b[0m\n",
      "\u001b[32m2022-11-03 13:25:32.445\u001b[0m | \u001b[1mINFO    \u001b[0m | \u001b[36mpipeline.utils.invoker.job_submitter\u001b[0m:\u001b[36mmonitor_job_status\u001b[0m:\u001b[36m175\u001b[0m - \u001b[1m\u001b[80D\u001b[1A\u001b[KRunning component homo_secureboost_0, time elapse: 0:01:13\u001b[0m\n",
      "\u001b[32m2022-11-03 13:25:32.969\u001b[0m | \u001b[1mINFO    \u001b[0m | \u001b[36mpipeline.utils.invoker.job_submitter\u001b[0m:\u001b[36mmonitor_job_status\u001b[0m:\u001b[36m175\u001b[0m - \u001b[1m\u001b[80D\u001b[1A\u001b[KRunning component homo_secureboost_0, time elapse: 0:01:14\u001b[0m\n",
      "\u001b[32m2022-11-03 13:25:33.505\u001b[0m | \u001b[1mINFO    \u001b[0m | \u001b[36mpipeline.utils.invoker.job_submitter\u001b[0m:\u001b[36mmonitor_job_status\u001b[0m:\u001b[36m175\u001b[0m - \u001b[1m\u001b[80D\u001b[1A\u001b[KRunning component homo_secureboost_0, time elapse: 0:01:14\u001b[0m\n",
      "\u001b[32m2022-11-03 13:25:34.053\u001b[0m | \u001b[1mINFO    \u001b[0m | \u001b[36mpipeline.utils.invoker.job_submitter\u001b[0m:\u001b[36mmonitor_job_status\u001b[0m:\u001b[36m175\u001b[0m - \u001b[1m\u001b[80D\u001b[1A\u001b[KRunning component homo_secureboost_0, time elapse: 0:01:15\u001b[0m\n",
      "\u001b[32m2022-11-03 13:25:34.578\u001b[0m | \u001b[1mINFO    \u001b[0m | \u001b[36mpipeline.utils.invoker.job_submitter\u001b[0m:\u001b[36mmonitor_job_status\u001b[0m:\u001b[36m175\u001b[0m - \u001b[1m\u001b[80D\u001b[1A\u001b[KRunning component homo_secureboost_0, time elapse: 0:01:16\u001b[0m\n",
      "\u001b[32m2022-11-03 13:25:35.171\u001b[0m | \u001b[1mINFO    \u001b[0m | \u001b[36mpipeline.utils.invoker.job_submitter\u001b[0m:\u001b[36mmonitor_job_status\u001b[0m:\u001b[36m175\u001b[0m - \u001b[1m\u001b[80D\u001b[1A\u001b[KRunning component homo_secureboost_0, time elapse: 0:01:16\u001b[0m\n",
      "\u001b[32m2022-11-03 13:25:35.732\u001b[0m | \u001b[1mINFO    \u001b[0m | \u001b[36mpipeline.utils.invoker.job_submitter\u001b[0m:\u001b[36mmonitor_job_status\u001b[0m:\u001b[36m175\u001b[0m - \u001b[1m\u001b[80D\u001b[1A\u001b[KRunning component homo_secureboost_0, time elapse: 0:01:17\u001b[0m\n",
      "\u001b[32m2022-11-03 13:25:36.763\u001b[0m | \u001b[1mINFO    \u001b[0m | \u001b[36mpipeline.utils.invoker.job_submitter\u001b[0m:\u001b[36mmonitor_job_status\u001b[0m:\u001b[36m175\u001b[0m - \u001b[1m\u001b[80D\u001b[1A\u001b[KRunning component homo_secureboost_0, time elapse: 0:01:18\u001b[0m\n",
      "\u001b[32m2022-11-03 13:25:37.371\u001b[0m | \u001b[1mINFO    \u001b[0m | \u001b[36mpipeline.utils.invoker.job_submitter\u001b[0m:\u001b[36mmonitor_job_status\u001b[0m:\u001b[36m175\u001b[0m - \u001b[1m\u001b[80D\u001b[1A\u001b[KRunning component homo_secureboost_0, time elapse: 0:01:18\u001b[0m\n",
      "\u001b[32m2022-11-03 13:25:37.943\u001b[0m | \u001b[1mINFO    \u001b[0m | \u001b[36mpipeline.utils.invoker.job_submitter\u001b[0m:\u001b[36mmonitor_job_status\u001b[0m:\u001b[36m175\u001b[0m - \u001b[1m\u001b[80D\u001b[1A\u001b[KRunning component homo_secureboost_0, time elapse: 0:01:19\u001b[0m\n",
      "\u001b[32m2022-11-03 13:25:38.468\u001b[0m | \u001b[1mINFO    \u001b[0m | \u001b[36mpipeline.utils.invoker.job_submitter\u001b[0m:\u001b[36mmonitor_job_status\u001b[0m:\u001b[36m175\u001b[0m - \u001b[1m\u001b[80D\u001b[1A\u001b[KRunning component homo_secureboost_0, time elapse: 0:01:19\u001b[0m\n",
      "\u001b[32m2022-11-03 13:25:38.993\u001b[0m | \u001b[1mINFO    \u001b[0m | \u001b[36mpipeline.utils.invoker.job_submitter\u001b[0m:\u001b[36mmonitor_job_status\u001b[0m:\u001b[36m175\u001b[0m - \u001b[1m\u001b[80D\u001b[1A\u001b[KRunning component homo_secureboost_0, time elapse: 0:01:20\u001b[0m\n",
      "\u001b[32m2022-11-03 13:25:39.517\u001b[0m | \u001b[1mINFO    \u001b[0m | \u001b[36mpipeline.utils.invoker.job_submitter\u001b[0m:\u001b[36mmonitor_job_status\u001b[0m:\u001b[36m175\u001b[0m - \u001b[1m\u001b[80D\u001b[1A\u001b[KRunning component homo_secureboost_0, time elapse: 0:01:20\u001b[0m\n",
      "\u001b[32m2022-11-03 13:25:40.056\u001b[0m | \u001b[1mINFO    \u001b[0m | \u001b[36mpipeline.utils.invoker.job_submitter\u001b[0m:\u001b[36mmonitor_job_status\u001b[0m:\u001b[36m175\u001b[0m - \u001b[1m\u001b[80D\u001b[1A\u001b[KRunning component homo_secureboost_0, time elapse: 0:01:21\u001b[0m\n",
      "\u001b[32m2022-11-03 13:25:40.587\u001b[0m | \u001b[1mINFO    \u001b[0m | \u001b[36mpipeline.utils.invoker.job_submitter\u001b[0m:\u001b[36mmonitor_job_status\u001b[0m:\u001b[36m175\u001b[0m - \u001b[1m\u001b[80D\u001b[1A\u001b[KRunning component homo_secureboost_0, time elapse: 0:01:22\u001b[0m\n",
      "\u001b[32m2022-11-03 13:25:41.132\u001b[0m | \u001b[1mINFO    \u001b[0m | \u001b[36mpipeline.utils.invoker.job_submitter\u001b[0m:\u001b[36mmonitor_job_status\u001b[0m:\u001b[36m175\u001b[0m - \u001b[1m\u001b[80D\u001b[1A\u001b[KRunning component homo_secureboost_0, time elapse: 0:01:22\u001b[0m\n",
      "\u001b[32m2022-11-03 13:25:41.677\u001b[0m | \u001b[1mINFO    \u001b[0m | \u001b[36mpipeline.utils.invoker.job_submitter\u001b[0m:\u001b[36mmonitor_job_status\u001b[0m:\u001b[36m175\u001b[0m - \u001b[1m\u001b[80D\u001b[1A\u001b[KRunning component homo_secureboost_0, time elapse: 0:01:23\u001b[0m\n",
      "\u001b[32m2022-11-03 13:25:42.205\u001b[0m | \u001b[1mINFO    \u001b[0m | \u001b[36mpipeline.utils.invoker.job_submitter\u001b[0m:\u001b[36mmonitor_job_status\u001b[0m:\u001b[36m175\u001b[0m - \u001b[1m\u001b[80D\u001b[1A\u001b[KRunning component homo_secureboost_0, time elapse: 0:01:23\u001b[0m\n"
     ]
    },
    {
     "name": "stderr",
     "output_type": "stream",
     "text": [
      "\u001b[32m2022-11-03 13:25:42.747\u001b[0m | \u001b[1mINFO    \u001b[0m | \u001b[36mpipeline.utils.invoker.job_submitter\u001b[0m:\u001b[36mmonitor_job_status\u001b[0m:\u001b[36m175\u001b[0m - \u001b[1m\u001b[80D\u001b[1A\u001b[KRunning component homo_secureboost_0, time elapse: 0:01:24\u001b[0m\n",
      "\u001b[32m2022-11-03 13:25:43.311\u001b[0m | \u001b[1mINFO    \u001b[0m | \u001b[36mpipeline.utils.invoker.job_submitter\u001b[0m:\u001b[36mmonitor_job_status\u001b[0m:\u001b[36m175\u001b[0m - \u001b[1m\u001b[80D\u001b[1A\u001b[KRunning component homo_secureboost_0, time elapse: 0:01:24\u001b[0m\n",
      "\u001b[32m2022-11-03 13:25:43.891\u001b[0m | \u001b[1mINFO    \u001b[0m | \u001b[36mpipeline.utils.invoker.job_submitter\u001b[0m:\u001b[36mmonitor_job_status\u001b[0m:\u001b[36m175\u001b[0m - \u001b[1m\u001b[80D\u001b[1A\u001b[KRunning component homo_secureboost_0, time elapse: 0:01:25\u001b[0m\n",
      "\u001b[32m2022-11-03 13:25:44.434\u001b[0m | \u001b[1mINFO    \u001b[0m | \u001b[36mpipeline.utils.invoker.job_submitter\u001b[0m:\u001b[36mmonitor_job_status\u001b[0m:\u001b[36m175\u001b[0m - \u001b[1m\u001b[80D\u001b[1A\u001b[KRunning component homo_secureboost_0, time elapse: 0:01:25\u001b[0m\n",
      "\u001b[32m2022-11-03 13:25:44.976\u001b[0m | \u001b[1mINFO    \u001b[0m | \u001b[36mpipeline.utils.invoker.job_submitter\u001b[0m:\u001b[36mmonitor_job_status\u001b[0m:\u001b[36m175\u001b[0m - \u001b[1m\u001b[80D\u001b[1A\u001b[KRunning component homo_secureboost_0, time elapse: 0:01:26\u001b[0m\n",
      "\u001b[32m2022-11-03 13:25:45.515\u001b[0m | \u001b[1mINFO    \u001b[0m | \u001b[36mpipeline.utils.invoker.job_submitter\u001b[0m:\u001b[36mmonitor_job_status\u001b[0m:\u001b[36m175\u001b[0m - \u001b[1m\u001b[80D\u001b[1A\u001b[KRunning component homo_secureboost_0, time elapse: 0:01:26\u001b[0m\n",
      "\u001b[32m2022-11-03 13:25:46.067\u001b[0m | \u001b[1mINFO    \u001b[0m | \u001b[36mpipeline.utils.invoker.job_submitter\u001b[0m:\u001b[36mmonitor_job_status\u001b[0m:\u001b[36m175\u001b[0m - \u001b[1m\u001b[80D\u001b[1A\u001b[KRunning component homo_secureboost_0, time elapse: 0:01:27\u001b[0m\n",
      "\u001b[32m2022-11-03 13:25:46.671\u001b[0m | \u001b[1mINFO    \u001b[0m | \u001b[36mpipeline.utils.invoker.job_submitter\u001b[0m:\u001b[36mmonitor_job_status\u001b[0m:\u001b[36m175\u001b[0m - \u001b[1m\u001b[80D\u001b[1A\u001b[KRunning component homo_secureboost_0, time elapse: 0:01:28\u001b[0m\n",
      "\u001b[32m2022-11-03 13:25:47.228\u001b[0m | \u001b[1mINFO    \u001b[0m | \u001b[36mpipeline.utils.invoker.job_submitter\u001b[0m:\u001b[36mmonitor_job_status\u001b[0m:\u001b[36m175\u001b[0m - \u001b[1m\u001b[80D\u001b[1A\u001b[KRunning component homo_secureboost_0, time elapse: 0:01:28\u001b[0m\n",
      "\u001b[32m2022-11-03 13:25:47.900\u001b[0m | \u001b[1mINFO    \u001b[0m | \u001b[36mpipeline.utils.invoker.job_submitter\u001b[0m:\u001b[36mmonitor_job_status\u001b[0m:\u001b[36m175\u001b[0m - \u001b[1m\u001b[80D\u001b[1A\u001b[KRunning component homo_secureboost_0, time elapse: 0:01:29\u001b[0m\n",
      "\u001b[32m2022-11-03 13:25:48.496\u001b[0m | \u001b[1mINFO    \u001b[0m | \u001b[36mpipeline.utils.invoker.job_submitter\u001b[0m:\u001b[36mmonitor_job_status\u001b[0m:\u001b[36m175\u001b[0m - \u001b[1m\u001b[80D\u001b[1A\u001b[KRunning component homo_secureboost_0, time elapse: 0:01:29\u001b[0m\n",
      "\u001b[32m2022-11-03 13:25:49.021\u001b[0m | \u001b[1mINFO    \u001b[0m | \u001b[36mpipeline.utils.invoker.job_submitter\u001b[0m:\u001b[36mmonitor_job_status\u001b[0m:\u001b[36m175\u001b[0m - \u001b[1m\u001b[80D\u001b[1A\u001b[KRunning component homo_secureboost_0, time elapse: 0:01:30\u001b[0m\n",
      "\u001b[32m2022-11-03 13:25:49.544\u001b[0m | \u001b[1mINFO    \u001b[0m | \u001b[36mpipeline.utils.invoker.job_submitter\u001b[0m:\u001b[36mmonitor_job_status\u001b[0m:\u001b[36m175\u001b[0m - \u001b[1m\u001b[80D\u001b[1A\u001b[KRunning component homo_secureboost_0, time elapse: 0:01:30\u001b[0m\n",
      "\u001b[32m2022-11-03 13:25:50.076\u001b[0m | \u001b[1mINFO    \u001b[0m | \u001b[36mpipeline.utils.invoker.job_submitter\u001b[0m:\u001b[36mmonitor_job_status\u001b[0m:\u001b[36m175\u001b[0m - \u001b[1m\u001b[80D\u001b[1A\u001b[KRunning component homo_secureboost_0, time elapse: 0:01:31\u001b[0m\n",
      "\u001b[32m2022-11-03 13:25:50.611\u001b[0m | \u001b[1mINFO    \u001b[0m | \u001b[36mpipeline.utils.invoker.job_submitter\u001b[0m:\u001b[36mmonitor_job_status\u001b[0m:\u001b[36m175\u001b[0m - \u001b[1m\u001b[80D\u001b[1A\u001b[KRunning component homo_secureboost_0, time elapse: 0:01:32\u001b[0m\n",
      "\u001b[32m2022-11-03 13:25:51.142\u001b[0m | \u001b[1mINFO    \u001b[0m | \u001b[36mpipeline.utils.invoker.job_submitter\u001b[0m:\u001b[36mmonitor_job_status\u001b[0m:\u001b[36m175\u001b[0m - \u001b[1m\u001b[80D\u001b[1A\u001b[KRunning component homo_secureboost_0, time elapse: 0:01:32\u001b[0m\n",
      "\u001b[32m2022-11-03 13:25:51.723\u001b[0m | \u001b[1mINFO    \u001b[0m | \u001b[36mpipeline.utils.invoker.job_submitter\u001b[0m:\u001b[36mmonitor_job_status\u001b[0m:\u001b[36m175\u001b[0m - \u001b[1m\u001b[80D\u001b[1A\u001b[KRunning component homo_secureboost_0, time elapse: 0:01:33\u001b[0m\n",
      "\u001b[32m2022-11-03 13:25:52.263\u001b[0m | \u001b[1mINFO    \u001b[0m | \u001b[36mpipeline.utils.invoker.job_submitter\u001b[0m:\u001b[36mmonitor_job_status\u001b[0m:\u001b[36m175\u001b[0m - \u001b[1m\u001b[80D\u001b[1A\u001b[KRunning component homo_secureboost_0, time elapse: 0:01:33\u001b[0m\n",
      "\u001b[32m2022-11-03 13:25:52.799\u001b[0m | \u001b[1mINFO    \u001b[0m | \u001b[36mpipeline.utils.invoker.job_submitter\u001b[0m:\u001b[36mmonitor_job_status\u001b[0m:\u001b[36m175\u001b[0m - \u001b[1m\u001b[80D\u001b[1A\u001b[KRunning component homo_secureboost_0, time elapse: 0:01:34\u001b[0m\n",
      "\u001b[32m2022-11-03 13:25:53.383\u001b[0m | \u001b[1mINFO    \u001b[0m | \u001b[36mpipeline.utils.invoker.job_submitter\u001b[0m:\u001b[36mmonitor_job_status\u001b[0m:\u001b[36m175\u001b[0m - \u001b[1m\u001b[80D\u001b[1A\u001b[KRunning component homo_secureboost_0, time elapse: 0:01:34\u001b[0m\n",
      "\u001b[32m2022-11-03 13:25:53.916\u001b[0m | \u001b[1mINFO    \u001b[0m | \u001b[36mpipeline.utils.invoker.job_submitter\u001b[0m:\u001b[36mmonitor_job_status\u001b[0m:\u001b[36m175\u001b[0m - \u001b[1m\u001b[80D\u001b[1A\u001b[KRunning component homo_secureboost_0, time elapse: 0:01:35\u001b[0m\n",
      "\u001b[32m2022-11-03 13:25:54.471\u001b[0m | \u001b[1mINFO    \u001b[0m | \u001b[36mpipeline.utils.invoker.job_submitter\u001b[0m:\u001b[36mmonitor_job_status\u001b[0m:\u001b[36m175\u001b[0m - \u001b[1m\u001b[80D\u001b[1A\u001b[KRunning component homo_secureboost_0, time elapse: 0:01:35\u001b[0m\n",
      "\u001b[32m2022-11-03 13:25:55.142\u001b[0m | \u001b[1mINFO    \u001b[0m | \u001b[36mpipeline.utils.invoker.job_submitter\u001b[0m:\u001b[36mmonitor_job_status\u001b[0m:\u001b[36m175\u001b[0m - \u001b[1m\u001b[80D\u001b[1A\u001b[KRunning component homo_secureboost_0, time elapse: 0:01:36\u001b[0m\n",
      "\u001b[32m2022-11-03 13:25:55.684\u001b[0m | \u001b[1mINFO    \u001b[0m | \u001b[36mpipeline.utils.invoker.job_submitter\u001b[0m:\u001b[36mmonitor_job_status\u001b[0m:\u001b[36m175\u001b[0m - \u001b[1m\u001b[80D\u001b[1A\u001b[KRunning component homo_secureboost_0, time elapse: 0:01:37\u001b[0m\n",
      "\u001b[32m2022-11-03 13:25:56.217\u001b[0m | \u001b[1mINFO    \u001b[0m | \u001b[36mpipeline.utils.invoker.job_submitter\u001b[0m:\u001b[36mmonitor_job_status\u001b[0m:\u001b[36m175\u001b[0m - \u001b[1m\u001b[80D\u001b[1A\u001b[KRunning component homo_secureboost_0, time elapse: 0:01:37\u001b[0m\n",
      "\u001b[32m2022-11-03 13:25:56.760\u001b[0m | \u001b[1mINFO    \u001b[0m | \u001b[36mpipeline.utils.invoker.job_submitter\u001b[0m:\u001b[36mmonitor_job_status\u001b[0m:\u001b[36m175\u001b[0m - \u001b[1m\u001b[80D\u001b[1A\u001b[KRunning component homo_secureboost_0, time elapse: 0:01:38\u001b[0m\n",
      "\u001b[32m2022-11-03 13:25:57.307\u001b[0m | \u001b[1mINFO    \u001b[0m | \u001b[36mpipeline.utils.invoker.job_submitter\u001b[0m:\u001b[36mmonitor_job_status\u001b[0m:\u001b[36m175\u001b[0m - \u001b[1m\u001b[80D\u001b[1A\u001b[KRunning component homo_secureboost_0, time elapse: 0:01:38\u001b[0m\n",
      "\u001b[32m2022-11-03 13:25:57.893\u001b[0m | \u001b[1mINFO    \u001b[0m | \u001b[36mpipeline.utils.invoker.job_submitter\u001b[0m:\u001b[36mmonitor_job_status\u001b[0m:\u001b[36m175\u001b[0m - \u001b[1m\u001b[80D\u001b[1A\u001b[KRunning component homo_secureboost_0, time elapse: 0:01:39\u001b[0m\n",
      "\u001b[32m2022-11-03 13:25:58.483\u001b[0m | \u001b[1mINFO    \u001b[0m | \u001b[36mpipeline.utils.invoker.job_submitter\u001b[0m:\u001b[36mmonitor_job_status\u001b[0m:\u001b[36m175\u001b[0m - \u001b[1m\u001b[80D\u001b[1A\u001b[KRunning component homo_secureboost_0, time elapse: 0:01:39\u001b[0m\n",
      "\u001b[32m2022-11-03 13:25:59.061\u001b[0m | \u001b[1mINFO    \u001b[0m | \u001b[36mpipeline.utils.invoker.job_submitter\u001b[0m:\u001b[36mmonitor_job_status\u001b[0m:\u001b[36m175\u001b[0m - \u001b[1m\u001b[80D\u001b[1A\u001b[KRunning component homo_secureboost_0, time elapse: 0:01:40\u001b[0m\n",
      "\u001b[32m2022-11-03 13:25:59.647\u001b[0m | \u001b[1mINFO    \u001b[0m | \u001b[36mpipeline.utils.invoker.job_submitter\u001b[0m:\u001b[36mmonitor_job_status\u001b[0m:\u001b[36m175\u001b[0m - \u001b[1m\u001b[80D\u001b[1A\u001b[KRunning component homo_secureboost_0, time elapse: 0:01:41\u001b[0m\n",
      "\u001b[32m2022-11-03 13:26:00.235\u001b[0m | \u001b[1mINFO    \u001b[0m | \u001b[36mpipeline.utils.invoker.job_submitter\u001b[0m:\u001b[36mmonitor_job_status\u001b[0m:\u001b[36m175\u001b[0m - \u001b[1m\u001b[80D\u001b[1A\u001b[KRunning component homo_secureboost_0, time elapse: 0:01:41\u001b[0m\n",
      "\u001b[32m2022-11-03 13:26:00.764\u001b[0m | \u001b[1mINFO    \u001b[0m | \u001b[36mpipeline.utils.invoker.job_submitter\u001b[0m:\u001b[36mmonitor_job_status\u001b[0m:\u001b[36m175\u001b[0m - \u001b[1m\u001b[80D\u001b[1A\u001b[KRunning component homo_secureboost_0, time elapse: 0:01:42\u001b[0m\n",
      "\u001b[32m2022-11-03 13:26:01.324\u001b[0m | \u001b[1mINFO    \u001b[0m | \u001b[36mpipeline.utils.invoker.job_submitter\u001b[0m:\u001b[36mmonitor_job_status\u001b[0m:\u001b[36m175\u001b[0m - \u001b[1m\u001b[80D\u001b[1A\u001b[KRunning component homo_secureboost_0, time elapse: 0:01:42\u001b[0m\n",
      "\u001b[32m2022-11-03 13:26:01.844\u001b[0m | \u001b[1mINFO    \u001b[0m | \u001b[36mpipeline.utils.invoker.job_submitter\u001b[0m:\u001b[36mmonitor_job_status\u001b[0m:\u001b[36m175\u001b[0m - \u001b[1m\u001b[80D\u001b[1A\u001b[KRunning component homo_secureboost_0, time elapse: 0:01:43\u001b[0m\n",
      "\u001b[32m2022-11-03 13:26:02.405\u001b[0m | \u001b[1mINFO    \u001b[0m | \u001b[36mpipeline.utils.invoker.job_submitter\u001b[0m:\u001b[36mmonitor_job_status\u001b[0m:\u001b[36m175\u001b[0m - \u001b[1m\u001b[80D\u001b[1A\u001b[KRunning component homo_secureboost_0, time elapse: 0:01:43\u001b[0m\n",
      "\u001b[32m2022-11-03 13:26:02.933\u001b[0m | \u001b[1mINFO    \u001b[0m | \u001b[36mpipeline.utils.invoker.job_submitter\u001b[0m:\u001b[36mmonitor_job_status\u001b[0m:\u001b[36m175\u001b[0m - \u001b[1m\u001b[80D\u001b[1A\u001b[KRunning component homo_secureboost_0, time elapse: 0:01:44\u001b[0m\n"
     ]
    },
    {
     "name": "stderr",
     "output_type": "stream",
     "text": [
      "\u001b[32m2022-11-03 13:26:03.462\u001b[0m | \u001b[1mINFO    \u001b[0m | \u001b[36mpipeline.utils.invoker.job_submitter\u001b[0m:\u001b[36mmonitor_job_status\u001b[0m:\u001b[36m175\u001b[0m - \u001b[1m\u001b[80D\u001b[1A\u001b[KRunning component homo_secureboost_0, time elapse: 0:01:44\u001b[0m\n",
      "\u001b[32m2022-11-03 13:26:03.994\u001b[0m | \u001b[1mINFO    \u001b[0m | \u001b[36mpipeline.utils.invoker.job_submitter\u001b[0m:\u001b[36mmonitor_job_status\u001b[0m:\u001b[36m175\u001b[0m - \u001b[1m\u001b[80D\u001b[1A\u001b[KRunning component homo_secureboost_0, time elapse: 0:01:45\u001b[0m\n",
      "\u001b[32m2022-11-03 13:26:04.563\u001b[0m | \u001b[1mINFO    \u001b[0m | \u001b[36mpipeline.utils.invoker.job_submitter\u001b[0m:\u001b[36mmonitor_job_status\u001b[0m:\u001b[36m175\u001b[0m - \u001b[1m\u001b[80D\u001b[1A\u001b[KRunning component homo_secureboost_0, time elapse: 0:01:45\u001b[0m\n",
      "\u001b[32m2022-11-03 13:26:05.098\u001b[0m | \u001b[1mINFO    \u001b[0m | \u001b[36mpipeline.utils.invoker.job_submitter\u001b[0m:\u001b[36mmonitor_job_status\u001b[0m:\u001b[36m175\u001b[0m - \u001b[1m\u001b[80D\u001b[1A\u001b[KRunning component homo_secureboost_0, time elapse: 0:01:46\u001b[0m\n",
      "\u001b[32m2022-11-03 13:26:05.635\u001b[0m | \u001b[1mINFO    \u001b[0m | \u001b[36mpipeline.utils.invoker.job_submitter\u001b[0m:\u001b[36mmonitor_job_status\u001b[0m:\u001b[36m175\u001b[0m - \u001b[1m\u001b[80D\u001b[1A\u001b[KRunning component homo_secureboost_0, time elapse: 0:01:47\u001b[0m\n",
      "\u001b[32m2022-11-03 13:26:06.174\u001b[0m | \u001b[1mINFO    \u001b[0m | \u001b[36mpipeline.utils.invoker.job_submitter\u001b[0m:\u001b[36mmonitor_job_status\u001b[0m:\u001b[36m175\u001b[0m - \u001b[1m\u001b[80D\u001b[1A\u001b[KRunning component homo_secureboost_0, time elapse: 0:01:47\u001b[0m\n",
      "\u001b[32m2022-11-03 13:26:06.743\u001b[0m | \u001b[1mINFO    \u001b[0m | \u001b[36mpipeline.utils.invoker.job_submitter\u001b[0m:\u001b[36mmonitor_job_status\u001b[0m:\u001b[36m175\u001b[0m - \u001b[1m\u001b[80D\u001b[1A\u001b[KRunning component homo_secureboost_0, time elapse: 0:01:48\u001b[0m\n",
      "\u001b[32m2022-11-03 13:26:07.306\u001b[0m | \u001b[1mINFO    \u001b[0m | \u001b[36mpipeline.utils.invoker.job_submitter\u001b[0m:\u001b[36mmonitor_job_status\u001b[0m:\u001b[36m175\u001b[0m - \u001b[1m\u001b[80D\u001b[1A\u001b[KRunning component homo_secureboost_0, time elapse: 0:01:48\u001b[0m\n",
      "\u001b[32m2022-11-03 13:26:07.853\u001b[0m | \u001b[1mINFO    \u001b[0m | \u001b[36mpipeline.utils.invoker.job_submitter\u001b[0m:\u001b[36mmonitor_job_status\u001b[0m:\u001b[36m175\u001b[0m - \u001b[1m\u001b[80D\u001b[1A\u001b[KRunning component homo_secureboost_0, time elapse: 0:01:49\u001b[0m\n",
      "\u001b[32m2022-11-03 13:26:08.397\u001b[0m | \u001b[1mINFO    \u001b[0m | \u001b[36mpipeline.utils.invoker.job_submitter\u001b[0m:\u001b[36mmonitor_job_status\u001b[0m:\u001b[36m175\u001b[0m - \u001b[1m\u001b[80D\u001b[1A\u001b[KRunning component homo_secureboost_0, time elapse: 0:01:49\u001b[0m\n",
      "\u001b[32m2022-11-03 13:26:08.961\u001b[0m | \u001b[1mINFO    \u001b[0m | \u001b[36mpipeline.utils.invoker.job_submitter\u001b[0m:\u001b[36mmonitor_job_status\u001b[0m:\u001b[36m175\u001b[0m - \u001b[1m\u001b[80D\u001b[1A\u001b[KRunning component homo_secureboost_0, time elapse: 0:01:50\u001b[0m\n",
      "\u001b[32m2022-11-03 13:26:09.640\u001b[0m | \u001b[1mINFO    \u001b[0m | \u001b[36mpipeline.utils.invoker.job_submitter\u001b[0m:\u001b[36mmonitor_job_status\u001b[0m:\u001b[36m175\u001b[0m - \u001b[1m\u001b[80D\u001b[1A\u001b[KRunning component homo_secureboost_0, time elapse: 0:01:51\u001b[0m\n",
      "\u001b[32m2022-11-03 13:26:10.250\u001b[0m | \u001b[1mINFO    \u001b[0m | \u001b[36mpipeline.utils.invoker.job_submitter\u001b[0m:\u001b[36mmonitor_job_status\u001b[0m:\u001b[36m175\u001b[0m - \u001b[1m\u001b[80D\u001b[1A\u001b[KRunning component homo_secureboost_0, time elapse: 0:01:51\u001b[0m\n",
      "\u001b[32m2022-11-03 13:26:10.782\u001b[0m | \u001b[1mINFO    \u001b[0m | \u001b[36mpipeline.utils.invoker.job_submitter\u001b[0m:\u001b[36mmonitor_job_status\u001b[0m:\u001b[36m175\u001b[0m - \u001b[1m\u001b[80D\u001b[1A\u001b[KRunning component homo_secureboost_0, time elapse: 0:01:52\u001b[0m\n",
      "\u001b[32m2022-11-03 13:26:11.389\u001b[0m | \u001b[1mINFO    \u001b[0m | \u001b[36mpipeline.utils.invoker.job_submitter\u001b[0m:\u001b[36mmonitor_job_status\u001b[0m:\u001b[36m175\u001b[0m - \u001b[1m\u001b[80D\u001b[1A\u001b[KRunning component homo_secureboost_0, time elapse: 0:01:52\u001b[0m\n",
      "\u001b[32m2022-11-03 13:26:11.933\u001b[0m | \u001b[1mINFO    \u001b[0m | \u001b[36mpipeline.utils.invoker.job_submitter\u001b[0m:\u001b[36mmonitor_job_status\u001b[0m:\u001b[36m175\u001b[0m - \u001b[1m\u001b[80D\u001b[1A\u001b[KRunning component homo_secureboost_0, time elapse: 0:01:53\u001b[0m\n",
      "\u001b[32m2022-11-03 13:26:12.469\u001b[0m | \u001b[1mINFO    \u001b[0m | \u001b[36mpipeline.utils.invoker.job_submitter\u001b[0m:\u001b[36mmonitor_job_status\u001b[0m:\u001b[36m175\u001b[0m - \u001b[1m\u001b[80D\u001b[1A\u001b[KRunning component homo_secureboost_0, time elapse: 0:01:53\u001b[0m\n",
      "\u001b[0mm2022-11-03 13:26:14.262\u001b[0m | \u001b[1mINFO    \u001b[0m | \u001b[36mpipeline.utils.invoker.job_submitter\u001b[0m:\u001b[36mmonitor_job_status\u001b[0m:\u001b[36m171\u001b[0m - \u001b[1m\n",
      "\u001b[32m2022-11-03 13:26:14.263\u001b[0m | \u001b[1mINFO    \u001b[0m | \u001b[36mpipeline.utils.invoker.job_submitter\u001b[0m:\u001b[36mmonitor_job_status\u001b[0m:\u001b[36m175\u001b[0m - \u001b[1m\u001b[80D\u001b[1A\u001b[KRunning component evaluation_0, time elapse: 0:01:55\u001b[0m\n",
      "\u001b[32m2022-11-03 13:26:14.805\u001b[0m | \u001b[1mINFO    \u001b[0m | \u001b[36mpipeline.utils.invoker.job_submitter\u001b[0m:\u001b[36mmonitor_job_status\u001b[0m:\u001b[36m175\u001b[0m - \u001b[1m\u001b[80D\u001b[1A\u001b[KRunning component evaluation_0, time elapse: 0:01:56\u001b[0m\n",
      "\u001b[32m2022-11-03 13:26:15.344\u001b[0m | \u001b[1mINFO    \u001b[0m | \u001b[36mpipeline.utils.invoker.job_submitter\u001b[0m:\u001b[36mmonitor_job_status\u001b[0m:\u001b[36m175\u001b[0m - \u001b[1m\u001b[80D\u001b[1A\u001b[KRunning component evaluation_0, time elapse: 0:01:56\u001b[0m\n",
      "\u001b[32m2022-11-03 13:26:15.872\u001b[0m | \u001b[1mINFO    \u001b[0m | \u001b[36mpipeline.utils.invoker.job_submitter\u001b[0m:\u001b[36mmonitor_job_status\u001b[0m:\u001b[36m175\u001b[0m - \u001b[1m\u001b[80D\u001b[1A\u001b[KRunning component evaluation_0, time elapse: 0:01:57\u001b[0m\n",
      "\u001b[32m2022-11-03 13:26:16.582\u001b[0m | \u001b[1mINFO    \u001b[0m | \u001b[36mpipeline.utils.invoker.job_submitter\u001b[0m:\u001b[36mmonitor_job_status\u001b[0m:\u001b[36m175\u001b[0m - \u001b[1m\u001b[80D\u001b[1A\u001b[KRunning component evaluation_0, time elapse: 0:01:58\u001b[0m\n",
      "\u001b[32m2022-11-03 13:26:17.225\u001b[0m | \u001b[1mINFO    \u001b[0m | \u001b[36mpipeline.utils.invoker.job_submitter\u001b[0m:\u001b[36mmonitor_job_status\u001b[0m:\u001b[36m175\u001b[0m - \u001b[1m\u001b[80D\u001b[1A\u001b[KRunning component evaluation_0, time elapse: 0:01:58\u001b[0m\n",
      "\u001b[32m2022-11-03 13:26:17.849\u001b[0m | \u001b[1mINFO    \u001b[0m | \u001b[36mpipeline.utils.invoker.job_submitter\u001b[0m:\u001b[36mmonitor_job_status\u001b[0m:\u001b[36m175\u001b[0m - \u001b[1m\u001b[80D\u001b[1A\u001b[KRunning component evaluation_0, time elapse: 0:01:59\u001b[0m\n",
      "\u001b[32m2022-11-03 13:26:18.382\u001b[0m | \u001b[1mINFO    \u001b[0m | \u001b[36mpipeline.utils.invoker.job_submitter\u001b[0m:\u001b[36mmonitor_job_status\u001b[0m:\u001b[36m175\u001b[0m - \u001b[1m\u001b[80D\u001b[1A\u001b[KRunning component evaluation_0, time elapse: 0:01:59\u001b[0m\n",
      "\u001b[32m2022-11-03 13:26:18.934\u001b[0m | \u001b[1mINFO    \u001b[0m | \u001b[36mpipeline.utils.invoker.job_submitter\u001b[0m:\u001b[36mmonitor_job_status\u001b[0m:\u001b[36m175\u001b[0m - \u001b[1m\u001b[80D\u001b[1A\u001b[KRunning component evaluation_0, time elapse: 0:02:00\u001b[0m\n",
      "\u001b[32m2022-11-03 13:26:19.512\u001b[0m | \u001b[1mINFO    \u001b[0m | \u001b[36mpipeline.utils.invoker.job_submitter\u001b[0m:\u001b[36mmonitor_job_status\u001b[0m:\u001b[36m175\u001b[0m - \u001b[1m\u001b[80D\u001b[1A\u001b[KRunning component evaluation_0, time elapse: 0:02:00\u001b[0m\n",
      "\u001b[32m2022-11-03 13:26:20.122\u001b[0m | \u001b[1mINFO    \u001b[0m | \u001b[36mpipeline.utils.invoker.job_submitter\u001b[0m:\u001b[36mmonitor_job_status\u001b[0m:\u001b[36m175\u001b[0m - \u001b[1m\u001b[80D\u001b[1A\u001b[KRunning component evaluation_0, time elapse: 0:02:01\u001b[0m\n",
      "\u001b[32m2022-11-03 13:26:20.731\u001b[0m | \u001b[1mINFO    \u001b[0m | \u001b[36mpipeline.utils.invoker.job_submitter\u001b[0m:\u001b[36mmonitor_job_status\u001b[0m:\u001b[36m175\u001b[0m - \u001b[1m\u001b[80D\u001b[1A\u001b[KRunning component evaluation_0, time elapse: 0:02:02\u001b[0m\n",
      "\u001b[32m2022-11-03 13:26:21.395\u001b[0m | \u001b[1mINFO    \u001b[0m | \u001b[36mpipeline.utils.invoker.job_submitter\u001b[0m:\u001b[36mmonitor_job_status\u001b[0m:\u001b[36m175\u001b[0m - \u001b[1m\u001b[80D\u001b[1A\u001b[KRunning component evaluation_0, time elapse: 0:02:02\u001b[0m\n",
      "\u001b[32m2022-11-03 13:26:22.078\u001b[0m | \u001b[1mINFO    \u001b[0m | \u001b[36mpipeline.utils.invoker.job_submitter\u001b[0m:\u001b[36mmonitor_job_status\u001b[0m:\u001b[36m175\u001b[0m - \u001b[1m\u001b[80D\u001b[1A\u001b[KRunning component evaluation_0, time elapse: 0:02:03\u001b[0m\n",
      "\u001b[32m2022-11-03 13:26:22.662\u001b[0m | \u001b[1mINFO    \u001b[0m | \u001b[36mpipeline.utils.invoker.job_submitter\u001b[0m:\u001b[36mmonitor_job_status\u001b[0m:\u001b[36m175\u001b[0m - \u001b[1m\u001b[80D\u001b[1A\u001b[KRunning component evaluation_0, time elapse: 0:02:04\u001b[0m\n",
      "\u001b[32m2022-11-03 13:26:23.240\u001b[0m | \u001b[1mINFO    \u001b[0m | \u001b[36mpipeline.utils.invoker.job_submitter\u001b[0m:\u001b[36mmonitor_job_status\u001b[0m:\u001b[36m175\u001b[0m - \u001b[1m\u001b[80D\u001b[1A\u001b[KRunning component evaluation_0, time elapse: 0:02:04\u001b[0m\n",
      "\u001b[32m2022-11-03 13:26:23.783\u001b[0m | \u001b[1mINFO    \u001b[0m | \u001b[36mpipeline.utils.invoker.job_submitter\u001b[0m:\u001b[36mmonitor_job_status\u001b[0m:\u001b[36m175\u001b[0m - \u001b[1m\u001b[80D\u001b[1A\u001b[KRunning component evaluation_0, time elapse: 0:02:05\u001b[0m\n",
      "\u001b[32m2022-11-03 13:26:25.558\u001b[0m | \u001b[1mINFO    \u001b[0m | \u001b[36mpipeline.utils.invoker.job_submitter\u001b[0m:\u001b[36mmonitor_job_status\u001b[0m:\u001b[36m129\u001b[0m - \u001b[1mJob is success!!! Job id is 202211031324179016620\u001b[0m\n",
      "\u001b[32m2022-11-03 13:26:25.561\u001b[0m | \u001b[1mINFO    \u001b[0m | \u001b[36mpipeline.utils.invoker.job_submitter\u001b[0m:\u001b[36mmonitor_job_status\u001b[0m:\u001b[36m130\u001b[0m - \u001b[1mTotal time: 0:02:06\u001b[0m\n"
     ]
    }
   ],
   "source": [
    "pipeline.fit()"
   ]
  },
  {
   "cell_type": "code",
   "execution_count": 19,
   "id": "fa3c751f",
   "metadata": {},
   "outputs": [
    {
     "data": {
      "text/plain": [
       "{'homo_secureboost_0': {'train': {'accuracy': 0.6744444444444444,\n",
       "   'precision': 0.7265426078391753,\n",
       "   'recall': 0.7064814814814815},\n",
       "  'validate': {'accuracy': 0.6677215189873418,\n",
       "   'precision': 0.6864087301587302,\n",
       "   'recall': 0.6731776288227901}}}"
      ]
     },
     "execution_count": 19,
     "metadata": {},
     "output_type": "execute_result"
    }
   ],
   "source": [
    "pipeline.get_component('evaluation_0').get_summary()"
   ]
  },
  {
   "cell_type": "code",
   "execution_count": 42,
   "id": "7ba81517",
   "metadata": {},
   "outputs": [
    {
     "ename": "SyntaxError",
     "evalue": "invalid syntax (2807084323.py, line 1)",
     "output_type": "error",
     "traceback": [
      "\u001b[0;36m  Input \u001b[0;32mIn [42]\u001b[0;36m\u001b[0m\n\u001b[0;31m    flow table bind\u001b[0m\n\u001b[0m         ^\u001b[0m\n\u001b[0;31mSyntaxError\u001b[0m\u001b[0;31m:\u001b[0m invalid syntax\n"
     ]
    }
   ],
   "source": [
    "flow table bind "
   ]
  },
  {
   "cell_type": "code",
   "execution_count": null,
   "id": "c46a0e3e",
   "metadata": {},
   "outputs": [],
   "source": [
    "evaluation_0 = Evaluation(name=\"evaluation_0\", eval_type=\"multi\", metrics = [\"accuracy\", \"confusion-mat\" ])"
   ]
  },
  {
   "cell_type": "code",
   "execution_count": null,
   "id": "560ef325",
   "metadata": {},
   "outputs": [],
   "source": [
    "pipeline.add_component(reader_0)\n",
    "pipeline.add_component(data_transform_0, data=Data(data=reader_0.output.data))\n",
    "pipeline.add_component(intersect_0, data=Data(data=data_transform_0.output.data))\n",
    "pipeline.add_component(hetero_secureboost_0, data=Data(train_data=intersect_0.output.data))\n",
    "pipeline.add_component(evaluation_0, data=Data(data=hetero_secureboost_0.output.data))\n",
    "pipeline.compile();"
   ]
  },
  {
   "cell_type": "code",
   "execution_count": null,
   "id": "062b7fa1",
   "metadata": {},
   "outputs": [],
   "source": [
    "pipeline.fit()"
   ]
  },
  {
   "cell_type": "code",
   "execution_count": null,
   "id": "3f4bde47",
   "metadata": {},
   "outputs": [],
   "source": [
    "pipeline.dump(\"pipeline_saved.pkl\");"
   ]
  },
  {
   "cell_type": "code",
   "execution_count": null,
   "id": "71a1e81a",
   "metadata": {},
   "outputs": [],
   "source": [
    "pipeline.get_component('evaluation_0').get_summary()"
   ]
  },
  {
   "cell_type": "code",
   "execution_count": null,
   "id": "93d5f0bf",
   "metadata": {},
   "outputs": [],
   "source": [
    "pipeline = PipeLine.load_model_from_file('pipeline_saved.pkl')\n",
    "pipeline.deploy_component([pipeline.data_transform_0, pipeline.intersect_0, pipeline.hetero_secureboost_0]);"
   ]
  },
  {
   "cell_type": "code",
   "execution_count": null,
   "id": "16b4778a",
   "metadata": {},
   "outputs": [],
   "source": [
    "reader_1 = Reader(name=\"reader_1\")\n",
    "reader_1.get_party_instance(role=\"guest\", party_id=9999).component_param(table={\"name\": \"hetero_guest_test\", \"namespace\": \"experiment\"})\n",
    "reader_1.get_party_instance(role=\"host\", party_id=10000).component_param(table={\"name\": \"hetero_host_test\", \"namespace\": \"experiment\"})"
   ]
  },
  {
   "cell_type": "code",
   "execution_count": null,
   "id": "65183189",
   "metadata": {},
   "outputs": [],
   "source": [
    "evaluation_0 = Evaluation(name=\"evaluation_0\", eval_type=\"multi\", metrics = [\"accuracy\"])\n"
   ]
  },
  {
   "cell_type": "code",
   "execution_count": null,
   "id": "f6d2390b",
   "metadata": {},
   "outputs": [],
   "source": [
    "predict_pipeline = PipeLine()\n",
    "predict_pipeline.add_component(reader_1)\\\n",
    "                .add_component(pipeline, \n",
    "                               data=Data(predict_input={pipeline.data_transform_0.input.data: reader_1.output.data}))\\\n",
    "                .add_component(evaluation_0, data=Data(data=pipeline.hetero_secureboost_0.output.data));"
   ]
  },
  {
   "cell_type": "code",
   "execution_count": null,
   "id": "89747b73",
   "metadata": {},
   "outputs": [],
   "source": [
    "predict_pipeline.predict()\n"
   ]
  },
  {
   "cell_type": "code",
   "execution_count": null,
   "id": "cbf67c28",
   "metadata": {},
   "outputs": [],
   "source": [
    "pipeline.get_component('evaluation_0').get_summary()"
   ]
  },
  {
   "cell_type": "code",
   "execution_count": null,
   "id": "817cb2fb",
   "metadata": {},
   "outputs": [],
   "source": [
    "pipeline.describe()"
   ]
  },
  {
   "cell_type": "code",
   "execution_count": null,
   "id": "55492731",
   "metadata": {},
   "outputs": [],
   "source": [
    "pipeline.get_component('evaluation_0').get_summary()"
   ]
  },
  {
   "cell_type": "code",
   "execution_count": null,
   "id": "8b81df99",
   "metadata": {},
   "outputs": [],
   "source": [
    "evaluation_0 = Evaluation(name=\"evaluation_0\", eval_type=\"multi\")"
   ]
  },
  {
   "cell_type": "code",
   "execution_count": null,
   "id": "6c9bcdf2",
   "metadata": {},
   "outputs": [],
   "source": [
    "pipeline.get_component('evaluation_0').get_summary()"
   ]
  },
  {
   "cell_type": "code",
   "execution_count": null,
   "id": "3cb1c880",
   "metadata": {},
   "outputs": [],
   "source": []
  }
 ],
 "metadata": {
  "kernelspec": {
   "display_name": "Python 3 (ipykernel)",
   "language": "python",
   "name": "python3"
  },
  "language_info": {
   "codemirror_mode": {
    "name": "ipython",
    "version": 3
   },
   "file_extension": ".py",
   "mimetype": "text/x-python",
   "name": "python",
   "nbconvert_exporter": "python",
   "pygments_lexer": "ipython3",
   "version": "3.9.12"
  }
 },
 "nbformat": 4,
 "nbformat_minor": 5
}
